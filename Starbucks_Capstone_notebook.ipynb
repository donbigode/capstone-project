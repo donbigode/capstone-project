{
 "cells": [
  {
   "cell_type": "markdown",
   "metadata": {},
   "source": [
    "# Starbucks Capstone Challenge\n",
    "\n",
    "### Introduction\n",
    "\n",
    "This data set contains simulated data that mimics customer behavior on the Starbucks rewards mobile app. Once every few days, Starbucks sends out an offer to users of the mobile app. An offer can be merely an advertisement for a drink or an actual offer such as a discount or BOGO (buy one get one free). Some users might not receive any offer during certain weeks. \n",
    "\n",
    "Not all users receive the same offer, and that is the challenge to solve with this data set.\n",
    "\n",
    "Your task is to combine transaction, demographic and offer data to determine which demographic groups respond best to which offer type. This data set is a simplified version of the real Starbucks app because the underlying simulator only has one product whereas Starbucks actually sells dozens of products.\n",
    "\n",
    "Every offer has a validity period before the offer expires. As an example, a BOGO offer might be valid for only 5 days. You'll see in the data set that informational offers have a validity period even though these ads are merely providing information about a product; for example, if an informational offer has 7 days of validity, you can assume the customer is feeling the influence of the offer for 7 days after receiving the advertisement.\n",
    "\n",
    "You'll be given transactional data showing user purchases made on the app including the timestamp of purchase and the amount of money spent on a purchase. This transactional data also has a record for each offer that a user receives as well as a record for when a user actually views the offer. There are also records for when a user completes an offer. \n",
    "\n",
    "Keep in mind as well that someone using the app might make a purchase through the app without having received an offer or seen an offer.\n",
    "\n",
    "### Example\n",
    "\n",
    "To give an example, a user could receive a discount offer buy 10 dollars get 2 off on Monday. The offer is valid for 10 days from receipt. If the customer accumulates at least 10 dollars in purchases during the validity period, the customer completes the offer.\n",
    "\n",
    "However, there are a few things to watch out for in this data set. Customers do not opt into the offers that they receive; in other words, a user can receive an offer, never actually view the offer, and still complete the offer. For example, a user might receive the \"buy 10 dollars get 2 dollars off offer\", but the user never opens the offer during the 10 day validity period. The customer spends 15 dollars during those ten days. There will be an offer completion record in the data set; however, the customer was not influenced by the offer because the customer never viewed the offer.\n",
    "\n",
    "### Cleaning\n",
    "\n",
    "This makes data cleaning especially important and tricky.\n",
    "\n",
    "You'll also want to take into account that some demographic groups will make purchases even if they don't receive an offer. From a business perspective, if a customer is going to make a 10 dollar purchase without an offer anyway, you wouldn't want to send a buy 10 dollars get 2 dollars off offer. You'll want to try to assess what a certain demographic group will buy when not receiving any offers.\n",
    "\n",
    "### Final Advice\n",
    "\n",
    "Because this is a capstone project, you are free to analyze the data any way you see fit. For example, you could build a machine learning model that predicts how much someone will spend based on demographics and offer type. Or you could build a model that predicts whether or not someone will respond to an offer. Or, you don't need to build a machine learning model at all. You could develop a set of heuristics that determine what offer you should send to each customer (i.e., 75 percent of women customers who were 35 years old responded to offer A vs 40 percent from the same demographic to offer B, so send offer A)."
   ]
  },
  {
   "cell_type": "markdown",
   "metadata": {},
   "source": [
    "# Data Sets\n",
    "\n",
    "The data is contained in three files:\n",
    "\n",
    "* portfolio.json - containing offer ids and meta data about each offer (duration, type, etc.)\n",
    "* profile.json - demographic data for each customer\n",
    "* transcript.json - records for transactions, offers received, offers viewed, and offers completed\n",
    "\n",
    "Here is the schema and explanation of each variable in the files:\n",
    "\n",
    "**portfolio.json**\n",
    "* id (string) - offer id\n",
    "* offer_type (string) - type of offer ie BOGO, discount, informational\n",
    "* difficulty (int) - minimum required spend to complete an offer\n",
    "* reward (int) - reward given for completing an offer\n",
    "* duration (int) - time for offer to be open, in days\n",
    "* channels (list of strings)\n",
    "\n",
    "**profile.json**\n",
    "* age (int) - age of the customer \n",
    "* became_member_on (int) - date when customer created an app account\n",
    "* gender (str) - gender of the customer (note some entries contain 'O' for other rather than M or F)\n",
    "* id (str) - customer id\n",
    "* income (float) - customer's income\n",
    "\n",
    "**transcript.json**\n",
    "* event (str) - record description (ie transaction, offer received, offer viewed, etc.)\n",
    "* person (str) - customer id\n",
    "* time (int) - time in hours since start of test. The data begins at time t=0\n",
    "* value - (dict of strings) - either an offer id or transaction amount depending on the record\n",
    "\n",
    "**Note:** If you are using the workspace, you will need to go to the terminal and run the command `conda update pandas` before reading in the files. This is because the version of pandas in the workspace cannot read in the transcript.json file correctly, but the newest version of pandas can. You can access the termnal from the orange icon in the top left of this notebook.  \n",
    "\n",
    "You can see how to access the terminal and how the install works using the two images below.  First you need to access the terminal:\n",
    "\n",
    "<img src=\"pic1.png\"/>\n",
    "\n",
    "Then you will want to run the above command:\n",
    "\n",
    "<img src=\"pic2.png\"/>\n",
    "\n",
    "Finally, when you enter back into the notebook (use the jupyter icon again), you should be able to run the below cell without any errors."
   ]
  },
  {
   "cell_type": "code",
   "execution_count": 1,
   "metadata": {},
   "outputs": [],
   "source": [
    "import pandas as pd\n",
    "import numpy as np\n",
    "import math\n",
    "import json\n",
    "% matplotlib inline\n",
    "\n",
    "# read in the json files\n",
    "portfolio = pd.read_json('data/portfolio.json', orient='records', lines=True)\n",
    "profile = pd.read_json('data/profile.json', orient='records', lines=True)\n",
    "transcript = pd.read_json('data/transcript.json', orient='records', lines=True)"
   ]
  },
  {
   "cell_type": "code",
   "execution_count": 2,
   "metadata": {},
   "outputs": [],
   "source": [
    "##Additional libraries\n",
    "#!pip install seaborn\n",
    "import seaborn as sns\n",
    "#!pip install matplotlib\n",
    "import matplotlib.pyplot as plt\n",
    "\n"
   ]
  },
  {
   "cell_type": "code",
   "execution_count": 3,
   "metadata": {},
   "outputs": [],
   "source": [
    "## Imports to enable the model training\n",
    "from sklearn.preprocessing import StandardScaler\n",
    "from sklearn.model_selection import train_test_split\n",
    "from sklearn import datasets, metrics\n",
    "from sklearn.model_selection import cross_validate\n",
    "from sklearn.pipeline import Pipeline\n",
    "from sklearn.decomposition import PCA\n",
    "from sklearn.naive_bayes import MultinomialNB\n",
    "from sklearn.ensemble import RandomForestClassifier"
   ]
  },
  {
   "cell_type": "markdown",
   "metadata": {},
   "source": [
    "### The Capstone project of this course will follow the steps below:\n",
    "a) Dataset load into a Jupyter Notebook environment.\n",
    "\n",
    "b) Explore, profile and clean the datasets\n",
    "\n",
    "\n",
    "c) Deeply analysis on data applying Pearson correlation and creating other visual \n",
    "analysis \n",
    "\n",
    "d) Create Train and Test samples to be applied to the models purposed\n",
    "\n",
    "\n",
    "e) Benchmark the purposed models evaluating its results with the statistical test \n",
    "mentioned.\n",
    "\n",
    "\n",
    "f) Conclude the project with final considerations of the analysis enabled by the \n",
    "explorations, and test results.\n"
   ]
  },
  {
   "cell_type": "markdown",
   "metadata": {},
   "source": [
    "## A) Data Ingestion and source data profiling\n",
    "\n",
    "This step will profile the original data source in order to bring insights towards the data analyzed."
   ]
  },
  {
   "cell_type": "markdown",
   "metadata": {},
   "source": [
    "## A.1) Analyzing each dataset"
   ]
  },
  {
   "cell_type": "markdown",
   "metadata": {},
   "source": [
    "### A.1.a) Portfolio dataset"
   ]
  },
  {
   "cell_type": "markdown",
   "metadata": {},
   "source": [
    "First data observed is the portfolio dataset. This dataset contains the offer  types and its channels. Ranking it by difficulty, duration and reward, it is possible to say that which offer type is possible to set following statements:\n",
    "\n",
    "* We have different difficulty levels, durations and rewards for each type bringing a variety of possible offers with multiple sort of channels used for each.\n",
    "* The most difficult discounts are the web, email used channels to submit and 10 days duration with 5 reward given, when we also have a BOGO (buy one get one) offer where brings more reward (10) to the user when claimed with less difficulty, yet having less duration.\n",
    "\n",
    "\n",
    "Continuing with our last previous statements, they lead us to compreehend that we have the prososal is able to be predicted as we have a wide service basket of offers that, merged with our fact table (the transaction transcript file) we will better describe each transaction offer.\n"
   ]
  },
  {
   "cell_type": "code",
   "execution_count": 4,
   "metadata": {},
   "outputs": [
    {
     "data": {
      "text/html": [
       "<div>\n",
       "<style scoped>\n",
       "    .dataframe tbody tr th:only-of-type {\n",
       "        vertical-align: middle;\n",
       "    }\n",
       "\n",
       "    .dataframe tbody tr th {\n",
       "        vertical-align: top;\n",
       "    }\n",
       "\n",
       "    .dataframe thead th {\n",
       "        text-align: right;\n",
       "    }\n",
       "</style>\n",
       "<table border=\"1\" class=\"dataframe\">\n",
       "  <thead>\n",
       "    <tr style=\"text-align: right;\">\n",
       "      <th></th>\n",
       "      <th>channels</th>\n",
       "      <th>difficulty</th>\n",
       "      <th>duration</th>\n",
       "      <th>id</th>\n",
       "      <th>offer_type</th>\n",
       "      <th>reward</th>\n",
       "    </tr>\n",
       "  </thead>\n",
       "  <tbody>\n",
       "    <tr>\n",
       "      <th>4</th>\n",
       "      <td>[web, email]</td>\n",
       "      <td>20</td>\n",
       "      <td>10</td>\n",
       "      <td>0b1e1539f2cc45b7b9fa7c272da2e1d7</td>\n",
       "      <td>discount</td>\n",
       "      <td>5</td>\n",
       "    </tr>\n",
       "    <tr>\n",
       "      <th>6</th>\n",
       "      <td>[web, email, mobile, social]</td>\n",
       "      <td>10</td>\n",
       "      <td>10</td>\n",
       "      <td>fafdcd668e3743c1bb461111dcafc2a4</td>\n",
       "      <td>discount</td>\n",
       "      <td>2</td>\n",
       "    </tr>\n",
       "    <tr>\n",
       "      <th>0</th>\n",
       "      <td>[email, mobile, social]</td>\n",
       "      <td>10</td>\n",
       "      <td>7</td>\n",
       "      <td>ae264e3637204a6fb9bb56bc8210ddfd</td>\n",
       "      <td>bogo</td>\n",
       "      <td>10</td>\n",
       "    </tr>\n",
       "    <tr>\n",
       "      <th>9</th>\n",
       "      <td>[web, email, mobile]</td>\n",
       "      <td>10</td>\n",
       "      <td>7</td>\n",
       "      <td>2906b810c7d4411798c6938adc9daaa5</td>\n",
       "      <td>discount</td>\n",
       "      <td>2</td>\n",
       "    </tr>\n",
       "    <tr>\n",
       "      <th>1</th>\n",
       "      <td>[web, email, mobile, social]</td>\n",
       "      <td>10</td>\n",
       "      <td>5</td>\n",
       "      <td>4d5c57ea9a6940dd891ad53e9dbe8da0</td>\n",
       "      <td>bogo</td>\n",
       "      <td>10</td>\n",
       "    </tr>\n",
       "    <tr>\n",
       "      <th>5</th>\n",
       "      <td>[web, email, mobile, social]</td>\n",
       "      <td>7</td>\n",
       "      <td>7</td>\n",
       "      <td>2298d6c36e964ae4a3e7e9706d1fb8c2</td>\n",
       "      <td>discount</td>\n",
       "      <td>3</td>\n",
       "    </tr>\n",
       "    <tr>\n",
       "      <th>3</th>\n",
       "      <td>[web, email, mobile]</td>\n",
       "      <td>5</td>\n",
       "      <td>7</td>\n",
       "      <td>9b98b8c7a33c4b65b9aebfe6a799e6d9</td>\n",
       "      <td>bogo</td>\n",
       "      <td>5</td>\n",
       "    </tr>\n",
       "    <tr>\n",
       "      <th>8</th>\n",
       "      <td>[web, email, mobile, social]</td>\n",
       "      <td>5</td>\n",
       "      <td>5</td>\n",
       "      <td>f19421c1d4aa40978ebb69ca19b0e20d</td>\n",
       "      <td>bogo</td>\n",
       "      <td>5</td>\n",
       "    </tr>\n",
       "    <tr>\n",
       "      <th>2</th>\n",
       "      <td>[web, email, mobile]</td>\n",
       "      <td>0</td>\n",
       "      <td>4</td>\n",
       "      <td>3f207df678b143eea3cee63160fa8bed</td>\n",
       "      <td>informational</td>\n",
       "      <td>0</td>\n",
       "    </tr>\n",
       "    <tr>\n",
       "      <th>7</th>\n",
       "      <td>[email, mobile, social]</td>\n",
       "      <td>0</td>\n",
       "      <td>3</td>\n",
       "      <td>5a8bc65990b245e5a138643cd4eb9837</td>\n",
       "      <td>informational</td>\n",
       "      <td>0</td>\n",
       "    </tr>\n",
       "  </tbody>\n",
       "</table>\n",
       "</div>"
      ],
      "text/plain": [
       "                       channels  difficulty  duration  \\\n",
       "4                  [web, email]          20        10   \n",
       "6  [web, email, mobile, social]          10        10   \n",
       "0       [email, mobile, social]          10         7   \n",
       "9          [web, email, mobile]          10         7   \n",
       "1  [web, email, mobile, social]          10         5   \n",
       "5  [web, email, mobile, social]           7         7   \n",
       "3          [web, email, mobile]           5         7   \n",
       "8  [web, email, mobile, social]           5         5   \n",
       "2          [web, email, mobile]           0         4   \n",
       "7       [email, mobile, social]           0         3   \n",
       "\n",
       "                                 id     offer_type  reward  \n",
       "4  0b1e1539f2cc45b7b9fa7c272da2e1d7       discount       5  \n",
       "6  fafdcd668e3743c1bb461111dcafc2a4       discount       2  \n",
       "0  ae264e3637204a6fb9bb56bc8210ddfd           bogo      10  \n",
       "9  2906b810c7d4411798c6938adc9daaa5       discount       2  \n",
       "1  4d5c57ea9a6940dd891ad53e9dbe8da0           bogo      10  \n",
       "5  2298d6c36e964ae4a3e7e9706d1fb8c2       discount       3  \n",
       "3  9b98b8c7a33c4b65b9aebfe6a799e6d9           bogo       5  \n",
       "8  f19421c1d4aa40978ebb69ca19b0e20d           bogo       5  \n",
       "2  3f207df678b143eea3cee63160fa8bed  informational       0  \n",
       "7  5a8bc65990b245e5a138643cd4eb9837  informational       0  "
      ]
     },
     "execution_count": 4,
     "metadata": {},
     "output_type": "execute_result"
    }
   ],
   "source": [
    "portfolio.head(10).sort_values(by=['difficulty','duration','reward',], ascending=False)"
   ]
  },
  {
   "cell_type": "code",
   "execution_count": 5,
   "metadata": {},
   "outputs": [
    {
     "data": {
      "text/html": [
       "<div>\n",
       "<style scoped>\n",
       "    .dataframe tbody tr th:only-of-type {\n",
       "        vertical-align: middle;\n",
       "    }\n",
       "\n",
       "    .dataframe tbody tr th {\n",
       "        vertical-align: top;\n",
       "    }\n",
       "\n",
       "    .dataframe thead th {\n",
       "        text-align: right;\n",
       "    }\n",
       "</style>\n",
       "<table border=\"1\" class=\"dataframe\">\n",
       "  <thead>\n",
       "    <tr style=\"text-align: right;\">\n",
       "      <th></th>\n",
       "      <th>count</th>\n",
       "      <th>mean</th>\n",
       "      <th>std</th>\n",
       "      <th>min</th>\n",
       "      <th>25%</th>\n",
       "      <th>50%</th>\n",
       "      <th>75%</th>\n",
       "      <th>max</th>\n",
       "    </tr>\n",
       "  </thead>\n",
       "  <tbody>\n",
       "    <tr>\n",
       "      <th>difficulty</th>\n",
       "      <td>10.0</td>\n",
       "      <td>7.7</td>\n",
       "      <td>5.831905</td>\n",
       "      <td>0.0</td>\n",
       "      <td>5.0</td>\n",
       "      <td>8.5</td>\n",
       "      <td>10.0</td>\n",
       "      <td>20.0</td>\n",
       "    </tr>\n",
       "    <tr>\n",
       "      <th>duration</th>\n",
       "      <td>10.0</td>\n",
       "      <td>6.5</td>\n",
       "      <td>2.321398</td>\n",
       "      <td>3.0</td>\n",
       "      <td>5.0</td>\n",
       "      <td>7.0</td>\n",
       "      <td>7.0</td>\n",
       "      <td>10.0</td>\n",
       "    </tr>\n",
       "    <tr>\n",
       "      <th>reward</th>\n",
       "      <td>10.0</td>\n",
       "      <td>4.2</td>\n",
       "      <td>3.583915</td>\n",
       "      <td>0.0</td>\n",
       "      <td>2.0</td>\n",
       "      <td>4.0</td>\n",
       "      <td>5.0</td>\n",
       "      <td>10.0</td>\n",
       "    </tr>\n",
       "  </tbody>\n",
       "</table>\n",
       "</div>"
      ],
      "text/plain": [
       "            count  mean       std  min  25%  50%   75%   max\n",
       "difficulty   10.0   7.7  5.831905  0.0  5.0  8.5  10.0  20.0\n",
       "duration     10.0   6.5  2.321398  3.0  5.0  7.0   7.0  10.0\n",
       "reward       10.0   4.2  3.583915  0.0  2.0  4.0   5.0  10.0"
      ]
     },
     "execution_count": 5,
     "metadata": {},
     "output_type": "execute_result"
    }
   ],
   "source": [
    "portfolio.describe().transpose()"
   ]
  },
  {
   "cell_type": "code",
   "execution_count": 6,
   "metadata": {},
   "outputs": [
    {
     "data": {
      "text/plain": [
       "array(['bogo', 'informational', 'discount'], dtype=object)"
      ]
     },
     "execution_count": 6,
     "metadata": {},
     "output_type": "execute_result"
    }
   ],
   "source": [
    "portfolio['offer_type'].unique()"
   ]
  },
  {
   "cell_type": "code",
   "execution_count": 7,
   "metadata": {},
   "outputs": [
    {
     "data": {
      "text/plain": [
       "channels      10\n",
       "difficulty    10\n",
       "duration      10\n",
       "id            10\n",
       "offer_type    10\n",
       "reward        10\n",
       "dtype: int64"
      ]
     },
     "execution_count": 7,
     "metadata": {},
     "output_type": "execute_result"
    }
   ],
   "source": [
    "portfolio.count()"
   ]
  },
  {
   "cell_type": "code",
   "execution_count": 8,
   "metadata": {},
   "outputs": [
    {
     "data": {
      "text/plain": [
       "channels      object\n",
       "difficulty     int64\n",
       "duration       int64\n",
       "id            object\n",
       "offer_type    object\n",
       "reward         int64\n",
       "dtype: object"
      ]
     },
     "execution_count": 8,
     "metadata": {},
     "output_type": "execute_result"
    }
   ],
   "source": [
    "portfolio.dtypes"
   ]
  },
  {
   "cell_type": "markdown",
   "metadata": {},
   "source": [
    "Finalizing this assess, we might say that we have 10 distinct offers with 4 different offer types."
   ]
  },
  {
   "cell_type": "markdown",
   "metadata": {},
   "source": [
    "### A.1.b) Profile dataset"
   ]
  },
  {
   "cell_type": "markdown",
   "metadata": {},
   "source": [
    "This dataset contains the client profile. We can analyse this data detailing and understand different gender's customer income by age. We could use this data to train models to predict best offer to be sending to each customer based on age, gender and income. "
   ]
  },
  {
   "cell_type": "code",
   "execution_count": 9,
   "metadata": {},
   "outputs": [
    {
     "data": {
      "text/html": [
       "<div>\n",
       "<style scoped>\n",
       "    .dataframe tbody tr th:only-of-type {\n",
       "        vertical-align: middle;\n",
       "    }\n",
       "\n",
       "    .dataframe tbody tr th {\n",
       "        vertical-align: top;\n",
       "    }\n",
       "\n",
       "    .dataframe thead th {\n",
       "        text-align: right;\n",
       "    }\n",
       "</style>\n",
       "<table border=\"1\" class=\"dataframe\">\n",
       "  <thead>\n",
       "    <tr style=\"text-align: right;\">\n",
       "      <th></th>\n",
       "      <th>age</th>\n",
       "      <th>became_member_on</th>\n",
       "      <th>gender</th>\n",
       "      <th>id</th>\n",
       "      <th>income</th>\n",
       "    </tr>\n",
       "  </thead>\n",
       "  <tbody>\n",
       "    <tr>\n",
       "      <th>0</th>\n",
       "      <td>118</td>\n",
       "      <td>20170212</td>\n",
       "      <td>None</td>\n",
       "      <td>68be06ca386d4c31939f3a4f0e3dd783</td>\n",
       "      <td>NaN</td>\n",
       "    </tr>\n",
       "    <tr>\n",
       "      <th>1</th>\n",
       "      <td>55</td>\n",
       "      <td>20170715</td>\n",
       "      <td>F</td>\n",
       "      <td>0610b486422d4921ae7d2bf64640c50b</td>\n",
       "      <td>112000.0</td>\n",
       "    </tr>\n",
       "    <tr>\n",
       "      <th>2</th>\n",
       "      <td>118</td>\n",
       "      <td>20180712</td>\n",
       "      <td>None</td>\n",
       "      <td>38fe809add3b4fcf9315a9694bb96ff5</td>\n",
       "      <td>NaN</td>\n",
       "    </tr>\n",
       "    <tr>\n",
       "      <th>3</th>\n",
       "      <td>75</td>\n",
       "      <td>20170509</td>\n",
       "      <td>F</td>\n",
       "      <td>78afa995795e4d85b5d9ceeca43f5fef</td>\n",
       "      <td>100000.0</td>\n",
       "    </tr>\n",
       "    <tr>\n",
       "      <th>4</th>\n",
       "      <td>118</td>\n",
       "      <td>20170804</td>\n",
       "      <td>None</td>\n",
       "      <td>a03223e636434f42ac4c3df47e8bac43</td>\n",
       "      <td>NaN</td>\n",
       "    </tr>\n",
       "    <tr>\n",
       "      <th>5</th>\n",
       "      <td>68</td>\n",
       "      <td>20180426</td>\n",
       "      <td>M</td>\n",
       "      <td>e2127556f4f64592b11af22de27a7932</td>\n",
       "      <td>70000.0</td>\n",
       "    </tr>\n",
       "    <tr>\n",
       "      <th>6</th>\n",
       "      <td>118</td>\n",
       "      <td>20170925</td>\n",
       "      <td>None</td>\n",
       "      <td>8ec6ce2a7e7949b1bf142def7d0e0586</td>\n",
       "      <td>NaN</td>\n",
       "    </tr>\n",
       "    <tr>\n",
       "      <th>7</th>\n",
       "      <td>118</td>\n",
       "      <td>20171002</td>\n",
       "      <td>None</td>\n",
       "      <td>68617ca6246f4fbc85e91a2a49552598</td>\n",
       "      <td>NaN</td>\n",
       "    </tr>\n",
       "    <tr>\n",
       "      <th>8</th>\n",
       "      <td>65</td>\n",
       "      <td>20180209</td>\n",
       "      <td>M</td>\n",
       "      <td>389bc3fa690240e798340f5a15918d5c</td>\n",
       "      <td>53000.0</td>\n",
       "    </tr>\n",
       "    <tr>\n",
       "      <th>9</th>\n",
       "      <td>118</td>\n",
       "      <td>20161122</td>\n",
       "      <td>None</td>\n",
       "      <td>8974fc5686fe429db53ddde067b88302</td>\n",
       "      <td>NaN</td>\n",
       "    </tr>\n",
       "  </tbody>\n",
       "</table>\n",
       "</div>"
      ],
      "text/plain": [
       "   age  became_member_on gender                                id    income\n",
       "0  118          20170212   None  68be06ca386d4c31939f3a4f0e3dd783       NaN\n",
       "1   55          20170715      F  0610b486422d4921ae7d2bf64640c50b  112000.0\n",
       "2  118          20180712   None  38fe809add3b4fcf9315a9694bb96ff5       NaN\n",
       "3   75          20170509      F  78afa995795e4d85b5d9ceeca43f5fef  100000.0\n",
       "4  118          20170804   None  a03223e636434f42ac4c3df47e8bac43       NaN\n",
       "5   68          20180426      M  e2127556f4f64592b11af22de27a7932   70000.0\n",
       "6  118          20170925   None  8ec6ce2a7e7949b1bf142def7d0e0586       NaN\n",
       "7  118          20171002   None  68617ca6246f4fbc85e91a2a49552598       NaN\n",
       "8   65          20180209      M  389bc3fa690240e798340f5a15918d5c   53000.0\n",
       "9  118          20161122   None  8974fc5686fe429db53ddde067b88302       NaN"
      ]
     },
     "execution_count": 9,
     "metadata": {},
     "output_type": "execute_result"
    }
   ],
   "source": [
    "profile.head(10)"
   ]
  },
  {
   "cell_type": "code",
   "execution_count": 10,
   "metadata": {},
   "outputs": [
    {
     "data": {
      "text/html": [
       "<div>\n",
       "<style scoped>\n",
       "    .dataframe tbody tr th:only-of-type {\n",
       "        vertical-align: middle;\n",
       "    }\n",
       "\n",
       "    .dataframe tbody tr th {\n",
       "        vertical-align: top;\n",
       "    }\n",
       "\n",
       "    .dataframe thead th {\n",
       "        text-align: right;\n",
       "    }\n",
       "</style>\n",
       "<table border=\"1\" class=\"dataframe\">\n",
       "  <thead>\n",
       "    <tr style=\"text-align: right;\">\n",
       "      <th></th>\n",
       "      <th>count</th>\n",
       "      <th>mean</th>\n",
       "      <th>std</th>\n",
       "      <th>min</th>\n",
       "      <th>25%</th>\n",
       "      <th>50%</th>\n",
       "      <th>75%</th>\n",
       "      <th>max</th>\n",
       "    </tr>\n",
       "  </thead>\n",
       "  <tbody>\n",
       "    <tr>\n",
       "      <th>age</th>\n",
       "      <td>17000.0</td>\n",
       "      <td>6.253141e+01</td>\n",
       "      <td>26.738580</td>\n",
       "      <td>18.0</td>\n",
       "      <td>45.0</td>\n",
       "      <td>58.0</td>\n",
       "      <td>73.0</td>\n",
       "      <td>118.0</td>\n",
       "    </tr>\n",
       "    <tr>\n",
       "      <th>became_member_on</th>\n",
       "      <td>17000.0</td>\n",
       "      <td>2.016703e+07</td>\n",
       "      <td>11677.499961</td>\n",
       "      <td>20130729.0</td>\n",
       "      <td>20160526.0</td>\n",
       "      <td>20170802.0</td>\n",
       "      <td>20171230.0</td>\n",
       "      <td>20180726.0</td>\n",
       "    </tr>\n",
       "    <tr>\n",
       "      <th>income</th>\n",
       "      <td>14825.0</td>\n",
       "      <td>6.540499e+04</td>\n",
       "      <td>21598.299410</td>\n",
       "      <td>30000.0</td>\n",
       "      <td>49000.0</td>\n",
       "      <td>64000.0</td>\n",
       "      <td>80000.0</td>\n",
       "      <td>120000.0</td>\n",
       "    </tr>\n",
       "  </tbody>\n",
       "</table>\n",
       "</div>"
      ],
      "text/plain": [
       "                    count          mean           std         min         25%  \\\n",
       "age               17000.0  6.253141e+01     26.738580        18.0        45.0   \n",
       "became_member_on  17000.0  2.016703e+07  11677.499961  20130729.0  20160526.0   \n",
       "income            14825.0  6.540499e+04  21598.299410     30000.0     49000.0   \n",
       "\n",
       "                         50%         75%         max  \n",
       "age                     58.0        73.0       118.0  \n",
       "became_member_on  20170802.0  20171230.0  20180726.0  \n",
       "income               64000.0     80000.0    120000.0  "
      ]
     },
     "execution_count": 10,
     "metadata": {},
     "output_type": "execute_result"
    }
   ],
   "source": [
    "profile.describe().transpose()"
   ]
  },
  {
   "cell_type": "code",
   "execution_count": 11,
   "metadata": {},
   "outputs": [
    {
     "data": {
      "text/plain": [
       "age                 17000\n",
       "became_member_on    17000\n",
       "gender              14825\n",
       "id                  17000\n",
       "income              14825\n",
       "dtype: int64"
      ]
     },
     "execution_count": 11,
     "metadata": {},
     "output_type": "execute_result"
    }
   ],
   "source": [
    "profile.count()"
   ]
  },
  {
   "cell_type": "code",
   "execution_count": 12,
   "metadata": {},
   "outputs": [
    {
     "data": {
      "text/plain": [
       "age                   int64\n",
       "became_member_on      int64\n",
       "gender               object\n",
       "id                   object\n",
       "income              float64\n",
       "dtype: object"
      ]
     },
     "execution_count": 12,
     "metadata": {},
     "output_type": "execute_result"
    }
   ],
   "source": [
    "profile.dtypes"
   ]
  },
  {
   "cell_type": "code",
   "execution_count": 13,
   "metadata": {},
   "outputs": [
    {
     "data": {
      "text/plain": [
       "array([None, 'F', 'M', 'O'], dtype=object)"
      ]
     },
     "execution_count": 13,
     "metadata": {},
     "output_type": "execute_result"
    }
   ],
   "source": [
    "profile.gender.unique()\n"
   ]
  },
  {
   "cell_type": "code",
   "execution_count": 14,
   "metadata": {},
   "outputs": [
    {
     "name": "stdout",
     "output_type": "stream",
     "text": [
      "36.05294117647059\n",
      "12.794117647058822\n",
      "49.90588235294118\n",
      "1.2470588235294118\n",
      "[36.05294117647059, 49.90588235294118, 1.2470588235294118, 12.794117647058822]\n"
     ]
    }
   ],
   "source": [
    "\n",
    "percent_female = (len(profile[profile['gender']=='F'])/len(profile['gender']))*100\n",
    "print(percent_female)\n",
    "\n",
    "percent_none = (len(profile[profile['gender'].isna()])/len(profile['gender']))*100\n",
    "print(percent_none)\n",
    "\n",
    "percent_male = (len(profile[profile['gender']=='M'])/len(profile['gender']))*100\n",
    "print(percent_male)\n",
    "\n",
    "percent_others = (len(profile[profile['gender']=='O'])/len(profile['gender']))*100\n",
    "print(percent_others)\n",
    "\n",
    "list_gender = [percent_female, percent_male, percent_others, percent_none]\n",
    "labels = ['Female', 'Male', 'Others', 'None']\n",
    "print(list_gender)\n",
    "\n",
    "\n"
   ]
  },
  {
   "cell_type": "code",
   "execution_count": 15,
   "metadata": {},
   "outputs": [
    {
     "data": {
      "image/png": "[encoded data removed]",
      "text/plain": [
       "<matplotlib.figure.Figure at 0x7fbb9c61a320>"
      ]
     },
     "metadata": {},
     "output_type": "display_data"
    }
   ],
   "source": [
    "\n",
    "\n",
    "# Pie chart, where the slices will be ordered and plotted counter-clockwise:\n",
    "\n",
    "fig1, ax1 = plt.subplots()\n",
    "ax1.pie(list_gender, labels=labels, autopct='%1.1f%%',\n",
    "        shadow=False)\n",
    "ax1.axis('equal')  # Equal aspect ratio ensures that pie is drawn as a circle.\n",
    "\n",
    "plt.show()"
   ]
  },
  {
   "cell_type": "markdown",
   "metadata": {},
   "source": [
    "Here you can see that we have 4 types of possible gender clusters. People who do not do not informs its gender, people who considers themselves as females, others as males, and, also, as other self identity understanding/being.\n",
    "\n",
    "\n",
    "To deepen the first exploratory phase, analysing each gender, we can check if we find any inconsistency to help us comprenhend the data."
   ]
  },
  {
   "cell_type": "code",
   "execution_count": 16,
   "metadata": {},
   "outputs": [
    {
     "data": {
      "image/png": "[encoded data removed]",
      "text/plain": [
       "<matplotlib.figure.Figure at 0x7fbb9c61a4a8>"
      ]
     },
     "metadata": {
      "needs_background": "light"
     },
     "output_type": "display_data"
    }
   ],
   "source": [
    "sns.boxplot(profile['age'], width=0.5);"
   ]
  },
  {
   "cell_type": "markdown",
   "metadata": {},
   "source": [
    "We have an outlier mass under age 120 and more granular to this case in order to understand this outlier"
   ]
  },
  {
   "cell_type": "code",
   "execution_count": 17,
   "metadata": {},
   "outputs": [
    {
     "data": {
      "text/html": [
       "<div>\n",
       "<style scoped>\n",
       "    .dataframe tbody tr th:only-of-type {\n",
       "        vertical-align: middle;\n",
       "    }\n",
       "\n",
       "    .dataframe tbody tr th {\n",
       "        vertical-align: top;\n",
       "    }\n",
       "\n",
       "    .dataframe thead th {\n",
       "        text-align: right;\n",
       "    }\n",
       "</style>\n",
       "<table border=\"1\" class=\"dataframe\">\n",
       "  <thead>\n",
       "    <tr style=\"text-align: right;\">\n",
       "      <th></th>\n",
       "      <th>age</th>\n",
       "      <th>became_member_on</th>\n",
       "      <th>gender</th>\n",
       "      <th>id</th>\n",
       "      <th>income</th>\n",
       "    </tr>\n",
       "  </thead>\n",
       "  <tbody>\n",
       "    <tr>\n",
       "      <th>1</th>\n",
       "      <td>55</td>\n",
       "      <td>20170715</td>\n",
       "      <td>F</td>\n",
       "      <td>0610b486422d4921ae7d2bf64640c50b</td>\n",
       "      <td>112000.0</td>\n",
       "    </tr>\n",
       "    <tr>\n",
       "      <th>3</th>\n",
       "      <td>75</td>\n",
       "      <td>20170509</td>\n",
       "      <td>F</td>\n",
       "      <td>78afa995795e4d85b5d9ceeca43f5fef</td>\n",
       "      <td>100000.0</td>\n",
       "    </tr>\n",
       "    <tr>\n",
       "      <th>13</th>\n",
       "      <td>61</td>\n",
       "      <td>20170911</td>\n",
       "      <td>F</td>\n",
       "      <td>aa4862eba776480b8bb9c68455b8c2e1</td>\n",
       "      <td>57000.0</td>\n",
       "    </tr>\n",
       "    <tr>\n",
       "      <th>15</th>\n",
       "      <td>62</td>\n",
       "      <td>20160211</td>\n",
       "      <td>F</td>\n",
       "      <td>31dda685af34476cad5bc968bdb01c53</td>\n",
       "      <td>71000.0</td>\n",
       "    </tr>\n",
       "    <tr>\n",
       "      <th>19</th>\n",
       "      <td>61</td>\n",
       "      <td>20180501</td>\n",
       "      <td>F</td>\n",
       "      <td>a448667f336b42c9a66fc5ffd5d73772</td>\n",
       "      <td>40000.0</td>\n",
       "    </tr>\n",
       "  </tbody>\n",
       "</table>\n",
       "</div>"
      ],
      "text/plain": [
       "    age  became_member_on gender                                id    income\n",
       "1    55          20170715      F  0610b486422d4921ae7d2bf64640c50b  112000.0\n",
       "3    75          20170509      F  78afa995795e4d85b5d9ceeca43f5fef  100000.0\n",
       "13   61          20170911      F  aa4862eba776480b8bb9c68455b8c2e1   57000.0\n",
       "15   62          20160211      F  31dda685af34476cad5bc968bdb01c53   71000.0\n",
       "19   61          20180501      F  a448667f336b42c9a66fc5ffd5d73772   40000.0"
      ]
     },
     "execution_count": 17,
     "metadata": {},
     "output_type": "execute_result"
    }
   ],
   "source": [
    "female_cust_profile = profile[profile['gender']=='F']\n",
    "female_cust_profile.head(5)"
   ]
  },
  {
   "cell_type": "code",
   "execution_count": 18,
   "metadata": {},
   "outputs": [
    {
     "data": {
      "image/png": "[encoded data removed]",
      "text/plain": [
       "<matplotlib.figure.Figure at 0x7fbb9c5f0358>"
      ]
     },
     "metadata": {
      "needs_background": "light"
     },
     "output_type": "display_data"
    }
   ],
   "source": [
    "fig = plt.figure()\n",
    "ax = fig.add_axes([0,0,1,1])\n",
    "ax.bar(female_cust_profile.age,female_cust_profile.income)\n",
    "plt.show()"
   ]
  },
  {
   "cell_type": "code",
   "execution_count": 19,
   "metadata": {},
   "outputs": [
    {
     "data": {
      "text/html": [
       "<div>\n",
       "<style scoped>\n",
       "    .dataframe tbody tr th:only-of-type {\n",
       "        vertical-align: middle;\n",
       "    }\n",
       "\n",
       "    .dataframe tbody tr th {\n",
       "        vertical-align: top;\n",
       "    }\n",
       "\n",
       "    .dataframe thead th {\n",
       "        text-align: right;\n",
       "    }\n",
       "</style>\n",
       "<table border=\"1\" class=\"dataframe\">\n",
       "  <thead>\n",
       "    <tr style=\"text-align: right;\">\n",
       "      <th></th>\n",
       "      <th>age</th>\n",
       "      <th>became_member_on</th>\n",
       "      <th>gender</th>\n",
       "      <th>id</th>\n",
       "      <th>income</th>\n",
       "    </tr>\n",
       "  </thead>\n",
       "  <tbody>\n",
       "    <tr>\n",
       "      <th>5</th>\n",
       "      <td>68</td>\n",
       "      <td>20180426</td>\n",
       "      <td>M</td>\n",
       "      <td>e2127556f4f64592b11af22de27a7932</td>\n",
       "      <td>70000.0</td>\n",
       "    </tr>\n",
       "    <tr>\n",
       "      <th>8</th>\n",
       "      <td>65</td>\n",
       "      <td>20180209</td>\n",
       "      <td>M</td>\n",
       "      <td>389bc3fa690240e798340f5a15918d5c</td>\n",
       "      <td>53000.0</td>\n",
       "    </tr>\n",
       "    <tr>\n",
       "      <th>12</th>\n",
       "      <td>58</td>\n",
       "      <td>20171111</td>\n",
       "      <td>M</td>\n",
       "      <td>2eeac8d8feae4a8cad5a6af0499a211d</td>\n",
       "      <td>51000.0</td>\n",
       "    </tr>\n",
       "    <tr>\n",
       "      <th>14</th>\n",
       "      <td>26</td>\n",
       "      <td>20140213</td>\n",
       "      <td>M</td>\n",
       "      <td>e12aeaf2d47d42479ea1c4ac3d8286c6</td>\n",
       "      <td>46000.0</td>\n",
       "    </tr>\n",
       "    <tr>\n",
       "      <th>16</th>\n",
       "      <td>49</td>\n",
       "      <td>20141113</td>\n",
       "      <td>M</td>\n",
       "      <td>62cf5e10845442329191fc246e7bcea3</td>\n",
       "      <td>52000.0</td>\n",
       "    </tr>\n",
       "  </tbody>\n",
       "</table>\n",
       "</div>"
      ],
      "text/plain": [
       "    age  became_member_on gender                                id   income\n",
       "5    68          20180426      M  e2127556f4f64592b11af22de27a7932  70000.0\n",
       "8    65          20180209      M  389bc3fa690240e798340f5a15918d5c  53000.0\n",
       "12   58          20171111      M  2eeac8d8feae4a8cad5a6af0499a211d  51000.0\n",
       "14   26          20140213      M  e12aeaf2d47d42479ea1c4ac3d8286c6  46000.0\n",
       "16   49          20141113      M  62cf5e10845442329191fc246e7bcea3  52000.0"
      ]
     },
     "execution_count": 19,
     "metadata": {},
     "output_type": "execute_result"
    }
   ],
   "source": [
    "male_cust_profile = profile[profile['gender']=='M']\n",
    "male_cust_profile.head(5)"
   ]
  },
  {
   "cell_type": "code",
   "execution_count": 20,
   "metadata": {},
   "outputs": [
    {
     "data": {
      "image/png": "[encoded data removed]",
      "text/plain": [
       "<matplotlib.figure.Figure at 0x7fbb9c5c2780>"
      ]
     },
     "metadata": {
      "needs_background": "light"
     },
     "output_type": "display_data"
    }
   ],
   "source": [
    "fig = plt.figure()\n",
    "ax = fig.add_axes([0,0,1,1])\n",
    "ax.bar(male_cust_profile.age,male_cust_profile.income)\n",
    "plt.show()"
   ]
  },
  {
   "cell_type": "code",
   "execution_count": 21,
   "metadata": {},
   "outputs": [
    {
     "data": {
      "text/html": [
       "<div>\n",
       "<style scoped>\n",
       "    .dataframe tbody tr th:only-of-type {\n",
       "        vertical-align: middle;\n",
       "    }\n",
       "\n",
       "    .dataframe tbody tr th {\n",
       "        vertical-align: top;\n",
       "    }\n",
       "\n",
       "    .dataframe thead th {\n",
       "        text-align: right;\n",
       "    }\n",
       "</style>\n",
       "<table border=\"1\" class=\"dataframe\">\n",
       "  <thead>\n",
       "    <tr style=\"text-align: right;\">\n",
       "      <th></th>\n",
       "      <th>age</th>\n",
       "      <th>became_member_on</th>\n",
       "      <th>gender</th>\n",
       "      <th>id</th>\n",
       "      <th>income</th>\n",
       "    </tr>\n",
       "  </thead>\n",
       "  <tbody>\n",
       "    <tr>\n",
       "      <th>31</th>\n",
       "      <td>53</td>\n",
       "      <td>20170916</td>\n",
       "      <td>O</td>\n",
       "      <td>d1ede868e29245ea91818a903fec04c6</td>\n",
       "      <td>52000.0</td>\n",
       "    </tr>\n",
       "    <tr>\n",
       "      <th>273</th>\n",
       "      <td>60</td>\n",
       "      <td>20180216</td>\n",
       "      <td>O</td>\n",
       "      <td>d0be9ff460964c3398a33ad9b2829f3a</td>\n",
       "      <td>94000.0</td>\n",
       "    </tr>\n",
       "    <tr>\n",
       "      <th>383</th>\n",
       "      <td>49</td>\n",
       "      <td>20171207</td>\n",
       "      <td>O</td>\n",
       "      <td>0d0a9ca9281248a8a35806c9ae68f872</td>\n",
       "      <td>42000.0</td>\n",
       "    </tr>\n",
       "    <tr>\n",
       "      <th>513</th>\n",
       "      <td>63</td>\n",
       "      <td>20150920</td>\n",
       "      <td>O</td>\n",
       "      <td>01f46a5191424005af436cdf48a5da7c</td>\n",
       "      <td>89000.0</td>\n",
       "    </tr>\n",
       "    <tr>\n",
       "      <th>576</th>\n",
       "      <td>73</td>\n",
       "      <td>20180316</td>\n",
       "      <td>O</td>\n",
       "      <td>644ac06dc9b34a5bbd237a465cf47571</td>\n",
       "      <td>88000.0</td>\n",
       "    </tr>\n",
       "  </tbody>\n",
       "</table>\n",
       "</div>"
      ],
      "text/plain": [
       "     age  became_member_on gender                                id   income\n",
       "31    53          20170916      O  d1ede868e29245ea91818a903fec04c6  52000.0\n",
       "273   60          20180216      O  d0be9ff460964c3398a33ad9b2829f3a  94000.0\n",
       "383   49          20171207      O  0d0a9ca9281248a8a35806c9ae68f872  42000.0\n",
       "513   63          20150920      O  01f46a5191424005af436cdf48a5da7c  89000.0\n",
       "576   73          20180316      O  644ac06dc9b34a5bbd237a465cf47571  88000.0"
      ]
     },
     "execution_count": 21,
     "metadata": {},
     "output_type": "execute_result"
    }
   ],
   "source": [
    "other_cust_profile = profile[profile['gender']=='O']\n",
    "other_cust_profile.head(5)"
   ]
  },
  {
   "cell_type": "code",
   "execution_count": 22,
   "metadata": {},
   "outputs": [
    {
     "data": {
      "image/png": "[encoded data removed]",
      "text/plain": [
       "<matplotlib.figure.Figure at 0x7fbb956b6a58>"
      ]
     },
     "metadata": {
      "needs_background": "light"
     },
     "output_type": "display_data"
    }
   ],
   "source": [
    "fig = plt.figure()\n",
    "ax = fig.add_axes([0,0,1,1])\n",
    "ax.bar(other_cust_profile.age,other_cust_profile.income)\n",
    "plt.show()"
   ]
  },
  {
   "cell_type": "code",
   "execution_count": 23,
   "metadata": {},
   "outputs": [
    {
     "data": {
      "text/html": [
       "<div>\n",
       "<style scoped>\n",
       "    .dataframe tbody tr th:only-of-type {\n",
       "        vertical-align: middle;\n",
       "    }\n",
       "\n",
       "    .dataframe tbody tr th {\n",
       "        vertical-align: top;\n",
       "    }\n",
       "\n",
       "    .dataframe thead th {\n",
       "        text-align: right;\n",
       "    }\n",
       "</style>\n",
       "<table border=\"1\" class=\"dataframe\">\n",
       "  <thead>\n",
       "    <tr style=\"text-align: right;\">\n",
       "      <th></th>\n",
       "      <th>age</th>\n",
       "      <th>became_member_on</th>\n",
       "      <th>gender</th>\n",
       "      <th>id</th>\n",
       "      <th>income</th>\n",
       "    </tr>\n",
       "  </thead>\n",
       "  <tbody>\n",
       "    <tr>\n",
       "      <th>0</th>\n",
       "      <td>118</td>\n",
       "      <td>20170212</td>\n",
       "      <td>None</td>\n",
       "      <td>68be06ca386d4c31939f3a4f0e3dd783</td>\n",
       "      <td>NaN</td>\n",
       "    </tr>\n",
       "    <tr>\n",
       "      <th>2</th>\n",
       "      <td>118</td>\n",
       "      <td>20180712</td>\n",
       "      <td>None</td>\n",
       "      <td>38fe809add3b4fcf9315a9694bb96ff5</td>\n",
       "      <td>NaN</td>\n",
       "    </tr>\n",
       "    <tr>\n",
       "      <th>4</th>\n",
       "      <td>118</td>\n",
       "      <td>20170804</td>\n",
       "      <td>None</td>\n",
       "      <td>a03223e636434f42ac4c3df47e8bac43</td>\n",
       "      <td>NaN</td>\n",
       "    </tr>\n",
       "    <tr>\n",
       "      <th>6</th>\n",
       "      <td>118</td>\n",
       "      <td>20170925</td>\n",
       "      <td>None</td>\n",
       "      <td>8ec6ce2a7e7949b1bf142def7d0e0586</td>\n",
       "      <td>NaN</td>\n",
       "    </tr>\n",
       "    <tr>\n",
       "      <th>7</th>\n",
       "      <td>118</td>\n",
       "      <td>20171002</td>\n",
       "      <td>None</td>\n",
       "      <td>68617ca6246f4fbc85e91a2a49552598</td>\n",
       "      <td>NaN</td>\n",
       "    </tr>\n",
       "    <tr>\n",
       "      <th>9</th>\n",
       "      <td>118</td>\n",
       "      <td>20161122</td>\n",
       "      <td>None</td>\n",
       "      <td>8974fc5686fe429db53ddde067b88302</td>\n",
       "      <td>NaN</td>\n",
       "    </tr>\n",
       "    <tr>\n",
       "      <th>10</th>\n",
       "      <td>118</td>\n",
       "      <td>20170824</td>\n",
       "      <td>None</td>\n",
       "      <td>c4863c7985cf408faee930f111475da3</td>\n",
       "      <td>NaN</td>\n",
       "    </tr>\n",
       "    <tr>\n",
       "      <th>11</th>\n",
       "      <td>118</td>\n",
       "      <td>20150919</td>\n",
       "      <td>None</td>\n",
       "      <td>148adfcaa27d485b82f323aaaad036bd</td>\n",
       "      <td>NaN</td>\n",
       "    </tr>\n",
       "    <tr>\n",
       "      <th>17</th>\n",
       "      <td>118</td>\n",
       "      <td>20170801</td>\n",
       "      <td>None</td>\n",
       "      <td>744d603ef08c4f33af5a61c8c7628d1c</td>\n",
       "      <td>NaN</td>\n",
       "    </tr>\n",
       "    <tr>\n",
       "      <th>23</th>\n",
       "      <td>118</td>\n",
       "      <td>20170907</td>\n",
       "      <td>None</td>\n",
       "      <td>2b826eba31074a059d63b0ae8f50b7d5</td>\n",
       "      <td>NaN</td>\n",
       "    </tr>\n",
       "  </tbody>\n",
       "</table>\n",
       "</div>"
      ],
      "text/plain": [
       "    age  became_member_on gender                                id  income\n",
       "0   118          20170212   None  68be06ca386d4c31939f3a4f0e3dd783     NaN\n",
       "2   118          20180712   None  38fe809add3b4fcf9315a9694bb96ff5     NaN\n",
       "4   118          20170804   None  a03223e636434f42ac4c3df47e8bac43     NaN\n",
       "6   118          20170925   None  8ec6ce2a7e7949b1bf142def7d0e0586     NaN\n",
       "7   118          20171002   None  68617ca6246f4fbc85e91a2a49552598     NaN\n",
       "9   118          20161122   None  8974fc5686fe429db53ddde067b88302     NaN\n",
       "10  118          20170824   None  c4863c7985cf408faee930f111475da3     NaN\n",
       "11  118          20150919   None  148adfcaa27d485b82f323aaaad036bd     NaN\n",
       "17  118          20170801   None  744d603ef08c4f33af5a61c8c7628d1c     NaN\n",
       "23  118          20170907   None  2b826eba31074a059d63b0ae8f50b7d5     NaN"
      ]
     },
     "execution_count": 23,
     "metadata": {},
     "output_type": "execute_result"
    }
   ],
   "source": [
    "none_gend_cust_profile = profile[profile['gender'].isna()]\n",
    "none_gend_cust_profile.head(10)"
   ]
  },
  {
   "cell_type": "code",
   "execution_count": 24,
   "metadata": {},
   "outputs": [
    {
     "data": {
      "image/png": "[encoded data removed]",
      "text/plain": [
       "<matplotlib.figure.Figure at 0x7fbb961fa358>"
      ]
     },
     "metadata": {
      "needs_background": "light"
     },
     "output_type": "display_data"
    }
   ],
   "source": [
    "fig = plt.figure()\n",
    "ax = fig.add_axes([0,0,1,1])\n",
    "ax.bar(none_gend_cust_profile.age,none_gend_cust_profile.income)\n",
    "plt.show()"
   ]
  },
  {
   "cell_type": "markdown",
   "metadata": {},
   "source": [
    "We can unconsider the None fulffilled genders because they do not have crucial information, as the age informed is also a default value. This item shall be removed on the next part where the data will be cleanse for feature engineering."
   ]
  },
  {
   "cell_type": "markdown",
   "metadata": {},
   "source": [
    "### A.1.c) Transcript dataset"
   ]
  },
  {
   "cell_type": "markdown",
   "metadata": {},
   "source": [
    "This dataset contains each transaction made being related to what type of offer for each customer , and what type of event occured after the offer being submitted."
   ]
  },
  {
   "cell_type": "code",
   "execution_count": 25,
   "metadata": {},
   "outputs": [
    {
     "data": {
      "text/html": [
       "<div>\n",
       "<style scoped>\n",
       "    .dataframe tbody tr th:only-of-type {\n",
       "        vertical-align: middle;\n",
       "    }\n",
       "\n",
       "    .dataframe tbody tr th {\n",
       "        vertical-align: top;\n",
       "    }\n",
       "\n",
       "    .dataframe thead th {\n",
       "        text-align: right;\n",
       "    }\n",
       "</style>\n",
       "<table border=\"1\" class=\"dataframe\">\n",
       "  <thead>\n",
       "    <tr style=\"text-align: right;\">\n",
       "      <th></th>\n",
       "      <th>event</th>\n",
       "      <th>person</th>\n",
       "      <th>time</th>\n",
       "      <th>value</th>\n",
       "    </tr>\n",
       "  </thead>\n",
       "  <tbody>\n",
       "    <tr>\n",
       "      <th>0</th>\n",
       "      <td>offer received</td>\n",
       "      <td>78afa995795e4d85b5d9ceeca43f5fef</td>\n",
       "      <td>0</td>\n",
       "      <td>{'offer id': '9b98b8c7a33c4b65b9aebfe6a799e6d9'}</td>\n",
       "    </tr>\n",
       "    <tr>\n",
       "      <th>1</th>\n",
       "      <td>offer received</td>\n",
       "      <td>a03223e636434f42ac4c3df47e8bac43</td>\n",
       "      <td>0</td>\n",
       "      <td>{'offer id': '0b1e1539f2cc45b7b9fa7c272da2e1d7'}</td>\n",
       "    </tr>\n",
       "    <tr>\n",
       "      <th>2</th>\n",
       "      <td>offer received</td>\n",
       "      <td>e2127556f4f64592b11af22de27a7932</td>\n",
       "      <td>0</td>\n",
       "      <td>{'offer id': '2906b810c7d4411798c6938adc9daaa5'}</td>\n",
       "    </tr>\n",
       "    <tr>\n",
       "      <th>3</th>\n",
       "      <td>offer received</td>\n",
       "      <td>8ec6ce2a7e7949b1bf142def7d0e0586</td>\n",
       "      <td>0</td>\n",
       "      <td>{'offer id': 'fafdcd668e3743c1bb461111dcafc2a4'}</td>\n",
       "    </tr>\n",
       "    <tr>\n",
       "      <th>4</th>\n",
       "      <td>offer received</td>\n",
       "      <td>68617ca6246f4fbc85e91a2a49552598</td>\n",
       "      <td>0</td>\n",
       "      <td>{'offer id': '4d5c57ea9a6940dd891ad53e9dbe8da0'}</td>\n",
       "    </tr>\n",
       "  </tbody>\n",
       "</table>\n",
       "</div>"
      ],
      "text/plain": [
       "            event                            person  time  \\\n",
       "0  offer received  78afa995795e4d85b5d9ceeca43f5fef     0   \n",
       "1  offer received  a03223e636434f42ac4c3df47e8bac43     0   \n",
       "2  offer received  e2127556f4f64592b11af22de27a7932     0   \n",
       "3  offer received  8ec6ce2a7e7949b1bf142def7d0e0586     0   \n",
       "4  offer received  68617ca6246f4fbc85e91a2a49552598     0   \n",
       "\n",
       "                                              value  \n",
       "0  {'offer id': '9b98b8c7a33c4b65b9aebfe6a799e6d9'}  \n",
       "1  {'offer id': '0b1e1539f2cc45b7b9fa7c272da2e1d7'}  \n",
       "2  {'offer id': '2906b810c7d4411798c6938adc9daaa5'}  \n",
       "3  {'offer id': 'fafdcd668e3743c1bb461111dcafc2a4'}  \n",
       "4  {'offer id': '4d5c57ea9a6940dd891ad53e9dbe8da0'}  "
      ]
     },
     "execution_count": 25,
     "metadata": {},
     "output_type": "execute_result"
    }
   ],
   "source": [
    "transcript.head(5)\n"
   ]
  },
  {
   "cell_type": "code",
   "execution_count": 26,
   "metadata": {},
   "outputs": [
    {
     "data": {
      "text/plain": [
       "array(['offer received', 'offer viewed', 'transaction', 'offer completed'], dtype=object)"
      ]
     },
     "execution_count": 26,
     "metadata": {},
     "output_type": "execute_result"
    }
   ],
   "source": [
    "transcript.event.unique()"
   ]
  },
  {
   "cell_type": "code",
   "execution_count": 27,
   "metadata": {},
   "outputs": [
    {
     "data": {
      "text/html": [
       "<div>\n",
       "<style scoped>\n",
       "    .dataframe tbody tr th:only-of-type {\n",
       "        vertical-align: middle;\n",
       "    }\n",
       "\n",
       "    .dataframe tbody tr th {\n",
       "        vertical-align: top;\n",
       "    }\n",
       "\n",
       "    .dataframe thead th {\n",
       "        text-align: right;\n",
       "    }\n",
       "</style>\n",
       "<table border=\"1\" class=\"dataframe\">\n",
       "  <thead>\n",
       "    <tr style=\"text-align: right;\">\n",
       "      <th></th>\n",
       "      <th>count</th>\n",
       "      <th>mean</th>\n",
       "      <th>std</th>\n",
       "      <th>min</th>\n",
       "      <th>25%</th>\n",
       "      <th>50%</th>\n",
       "      <th>75%</th>\n",
       "      <th>max</th>\n",
       "    </tr>\n",
       "  </thead>\n",
       "  <tbody>\n",
       "    <tr>\n",
       "      <th>time</th>\n",
       "      <td>306534.0</td>\n",
       "      <td>366.38294</td>\n",
       "      <td>200.326314</td>\n",
       "      <td>0.0</td>\n",
       "      <td>186.0</td>\n",
       "      <td>408.0</td>\n",
       "      <td>528.0</td>\n",
       "      <td>714.0</td>\n",
       "    </tr>\n",
       "  </tbody>\n",
       "</table>\n",
       "</div>"
      ],
      "text/plain": [
       "         count       mean         std  min    25%    50%    75%    max\n",
       "time  306534.0  366.38294  200.326314  0.0  186.0  408.0  528.0  714.0"
      ]
     },
     "execution_count": 27,
     "metadata": {},
     "output_type": "execute_result"
    }
   ],
   "source": [
    "\n",
    "transcript.describe().transpose()"
   ]
  },
  {
   "cell_type": "code",
   "execution_count": 28,
   "metadata": {},
   "outputs": [
    {
     "data": {
      "text/plain": [
       "event     306534\n",
       "person    306534\n",
       "time      306534\n",
       "value     306534\n",
       "dtype: int64"
      ]
     },
     "execution_count": 28,
     "metadata": {},
     "output_type": "execute_result"
    }
   ],
   "source": [
    "transcript.count()"
   ]
  },
  {
   "cell_type": "code",
   "execution_count": 29,
   "metadata": {},
   "outputs": [
    {
     "data": {
      "text/plain": [
       "event     object\n",
       "person    object\n",
       "time       int64\n",
       "value     object\n",
       "dtype: object"
      ]
     },
     "execution_count": 29,
     "metadata": {},
     "output_type": "execute_result"
    }
   ],
   "source": [
    "transcript.dtypes"
   ]
  },
  {
   "cell_type": "code",
   "execution_count": 30,
   "metadata": {},
   "outputs": [
    {
     "name": "stdout",
     "output_type": "stream",
     "text": [
      "76277\n",
      "57725\n",
      "138953\n",
      "33579\n",
      "['offer received', 'offer viewed', 'transaction', 'offer completed']\n"
     ]
    }
   ],
   "source": [
    "transcript_offer_received_count = len(transcript[transcript['event'] == 'offer received'])\n",
    "print(transcript_offer_received_count)\n",
    "\n",
    "transcript_offer_viewed_count = len(transcript[transcript['event'] == 'offer viewed'])\n",
    "print(transcript_offer_viewed_count)\n",
    "\n",
    "transcript_transaction_count = len(transcript[transcript['event'] == 'transaction'])\n",
    "print(transcript_transaction_count)\n",
    "\n",
    "transcript_offer_completed_count = len(transcript[transcript['event'] == 'offer completed'])\n",
    "print(transcript_offer_completed_count)\n",
    "\n",
    "list_count_offers = [transcript_offer_received_count, \n",
    "                     transcript_offer_viewed_count, transcript_transaction_count, transcript_offer_completed_count]\n",
    "description = ['offer received', 'offer viewed', 'transaction', 'offer completed']\n",
    "print(description)\n",
    "\n",
    "\n",
    "\n"
   ]
  },
  {
   "cell_type": "code",
   "execution_count": 31,
   "metadata": {},
   "outputs": [
    {
     "data": {
      "image/png": "[encoded data removed]",
      "text/plain": [
       "<matplotlib.figure.Figure at 0x7fbb88084940>"
      ]
     },
     "metadata": {},
     "output_type": "display_data"
    }
   ],
   "source": [
    "\n",
    "\n",
    "plt.rcdefaults()\n",
    "fig, ax = plt.subplots()\n",
    "\n",
    "ypos = np.arange(len(description))\n",
    "\n",
    "ax.barh(ypos, list_count_offers, align='center')\n",
    "ax.set_yticks(np.arange(len(description)))\n",
    "ax.set_yticklabels(description)\n",
    "ax.invert_yaxis()  # labels read top-to-bottom\n",
    "\n",
    "plt.show()"
   ]
  },
  {
   "cell_type": "markdown",
   "metadata": {},
   "source": [
    "There are 4 possible transaction types where the  model could be based on. But further we will explore the data to feature engineering the model will have a final dataset shaped to it."
   ]
  },
  {
   "cell_type": "markdown",
   "metadata": {},
   "source": [
    "## B) Data Cleanse and Final dataset preparation"
   ]
  },
  {
   "cell_type": "markdown",
   "metadata": {},
   "source": [
    "As we can see, we have many possible to be correlated data but first, we must clean the data bringing creating a standard column name and using suitable data types for each field. I.e, this part is focused on transforming and renaming columns (e.g. a time field with 'int64' will be transformed as a 'date' format, and other necessary transformations will be done here to create the final dataset to enable us to properly feature engineer our train and test datasets. \n",
    "\n",
    "After transforming the original datasets, we will merge the classificatory data from the profile and portfolio original datasets to the transcript fact dataset."
   ]
  },
  {
   "cell_type": "code",
   "execution_count": 32,
   "metadata": {},
   "outputs": [],
   "source": [
    "'''First of all creating a def that will be used in the cleanse and name standarization of each data set.'''\n",
    "def rename_cols(df, new_name_cols):\n",
    "\n",
    "    df= df.rename(columns = new_name_cols)\n",
    "    return df"
   ]
  },
  {
   "cell_type": "markdown",
   "metadata": {},
   "source": [
    "### B.1.a) Portfolio dataset cleanse"
   ]
  },
  {
   "cell_type": "code",
   "execution_count": 33,
   "metadata": {},
   "outputs": [
    {
     "data": {
      "text/html": [
       "<div>\n",
       "<style scoped>\n",
       "    .dataframe tbody tr th:only-of-type {\n",
       "        vertical-align: middle;\n",
       "    }\n",
       "\n",
       "    .dataframe tbody tr th {\n",
       "        vertical-align: top;\n",
       "    }\n",
       "\n",
       "    .dataframe thead th {\n",
       "        text-align: right;\n",
       "    }\n",
       "</style>\n",
       "<table border=\"1\" class=\"dataframe\">\n",
       "  <thead>\n",
       "    <tr style=\"text-align: right;\">\n",
       "      <th></th>\n",
       "      <th>channels</th>\n",
       "      <th>offer_difficulty</th>\n",
       "      <th>offer_duration</th>\n",
       "      <th>offer_id</th>\n",
       "      <th>offer_type</th>\n",
       "      <th>offer_reward</th>\n",
       "    </tr>\n",
       "  </thead>\n",
       "  <tbody>\n",
       "    <tr>\n",
       "      <th>0</th>\n",
       "      <td>[email, mobile, social]</td>\n",
       "      <td>10</td>\n",
       "      <td>7</td>\n",
       "      <td>ae264e3637204a6fb9bb56bc8210ddfd</td>\n",
       "      <td>bogo</td>\n",
       "      <td>10</td>\n",
       "    </tr>\n",
       "    <tr>\n",
       "      <th>1</th>\n",
       "      <td>[web, email, mobile, social]</td>\n",
       "      <td>10</td>\n",
       "      <td>5</td>\n",
       "      <td>4d5c57ea9a6940dd891ad53e9dbe8da0</td>\n",
       "      <td>bogo</td>\n",
       "      <td>10</td>\n",
       "    </tr>\n",
       "    <tr>\n",
       "      <th>2</th>\n",
       "      <td>[web, email, mobile]</td>\n",
       "      <td>0</td>\n",
       "      <td>4</td>\n",
       "      <td>3f207df678b143eea3cee63160fa8bed</td>\n",
       "      <td>informational</td>\n",
       "      <td>0</td>\n",
       "    </tr>\n",
       "    <tr>\n",
       "      <th>3</th>\n",
       "      <td>[web, email, mobile]</td>\n",
       "      <td>5</td>\n",
       "      <td>7</td>\n",
       "      <td>9b98b8c7a33c4b65b9aebfe6a799e6d9</td>\n",
       "      <td>bogo</td>\n",
       "      <td>5</td>\n",
       "    </tr>\n",
       "    <tr>\n",
       "      <th>4</th>\n",
       "      <td>[web, email]</td>\n",
       "      <td>20</td>\n",
       "      <td>10</td>\n",
       "      <td>0b1e1539f2cc45b7b9fa7c272da2e1d7</td>\n",
       "      <td>discount</td>\n",
       "      <td>5</td>\n",
       "    </tr>\n",
       "    <tr>\n",
       "      <th>5</th>\n",
       "      <td>[web, email, mobile, social]</td>\n",
       "      <td>7</td>\n",
       "      <td>7</td>\n",
       "      <td>2298d6c36e964ae4a3e7e9706d1fb8c2</td>\n",
       "      <td>discount</td>\n",
       "      <td>3</td>\n",
       "    </tr>\n",
       "    <tr>\n",
       "      <th>6</th>\n",
       "      <td>[web, email, mobile, social]</td>\n",
       "      <td>10</td>\n",
       "      <td>10</td>\n",
       "      <td>fafdcd668e3743c1bb461111dcafc2a4</td>\n",
       "      <td>discount</td>\n",
       "      <td>2</td>\n",
       "    </tr>\n",
       "    <tr>\n",
       "      <th>7</th>\n",
       "      <td>[email, mobile, social]</td>\n",
       "      <td>0</td>\n",
       "      <td>3</td>\n",
       "      <td>5a8bc65990b245e5a138643cd4eb9837</td>\n",
       "      <td>informational</td>\n",
       "      <td>0</td>\n",
       "    </tr>\n",
       "    <tr>\n",
       "      <th>8</th>\n",
       "      <td>[web, email, mobile, social]</td>\n",
       "      <td>5</td>\n",
       "      <td>5</td>\n",
       "      <td>f19421c1d4aa40978ebb69ca19b0e20d</td>\n",
       "      <td>bogo</td>\n",
       "      <td>5</td>\n",
       "    </tr>\n",
       "    <tr>\n",
       "      <th>9</th>\n",
       "      <td>[web, email, mobile]</td>\n",
       "      <td>10</td>\n",
       "      <td>7</td>\n",
       "      <td>2906b810c7d4411798c6938adc9daaa5</td>\n",
       "      <td>discount</td>\n",
       "      <td>2</td>\n",
       "    </tr>\n",
       "  </tbody>\n",
       "</table>\n",
       "</div>"
      ],
      "text/plain": [
       "                       channels  offer_difficulty  offer_duration  \\\n",
       "0       [email, mobile, social]                10               7   \n",
       "1  [web, email, mobile, social]                10               5   \n",
       "2          [web, email, mobile]                 0               4   \n",
       "3          [web, email, mobile]                 5               7   \n",
       "4                  [web, email]                20              10   \n",
       "5  [web, email, mobile, social]                 7               7   \n",
       "6  [web, email, mobile, social]                10              10   \n",
       "7       [email, mobile, social]                 0               3   \n",
       "8  [web, email, mobile, social]                 5               5   \n",
       "9          [web, email, mobile]                10               7   \n",
       "\n",
       "                           offer_id     offer_type  offer_reward  \n",
       "0  ae264e3637204a6fb9bb56bc8210ddfd           bogo            10  \n",
       "1  4d5c57ea9a6940dd891ad53e9dbe8da0           bogo            10  \n",
       "2  3f207df678b143eea3cee63160fa8bed  informational             0  \n",
       "3  9b98b8c7a33c4b65b9aebfe6a799e6d9           bogo             5  \n",
       "4  0b1e1539f2cc45b7b9fa7c272da2e1d7       discount             5  \n",
       "5  2298d6c36e964ae4a3e7e9706d1fb8c2       discount             3  \n",
       "6  fafdcd668e3743c1bb461111dcafc2a4       discount             2  \n",
       "7  5a8bc65990b245e5a138643cd4eb9837  informational             0  \n",
       "8  f19421c1d4aa40978ebb69ca19b0e20d           bogo             5  \n",
       "9  2906b810c7d4411798c6938adc9daaa5       discount             2  "
      ]
     },
     "execution_count": 33,
     "metadata": {},
     "output_type": "execute_result"
    }
   ],
   "source": [
    "new_name_cols = {'difficulty':'offer_difficulty','duration':'offer_duration','id':'offer_id','reward':'offer_reward'}\n",
    "stg_portfolio = rename_cols(portfolio,new_name_cols)\n",
    "stg_portfolio.head(10)"
   ]
  },
  {
   "cell_type": "markdown",
   "metadata": {},
   "source": [
    "We will need to unpivot the channel types in order to have this information being obtained into the final dataset which consists of all three bases merged."
   ]
  },
  {
   "cell_type": "code",
   "execution_count": 34,
   "metadata": {},
   "outputs": [
    {
     "data": {
      "text/plain": [
       "channels            object\n",
       "offer_difficulty     int64\n",
       "offer_duration       int64\n",
       "offer_id            object\n",
       "offer_type          object\n",
       "offer_reward         int64\n",
       "dtype: object"
      ]
     },
     "execution_count": 34,
     "metadata": {},
     "output_type": "execute_result"
    }
   ],
   "source": [
    "stg_portfolio.dtypes"
   ]
  },
  {
   "cell_type": "markdown",
   "metadata": {},
   "source": [
    "This dataset could be now be considered staged for processing as we have easily the fields renamed for a better understanding and with each of it with the correct data type."
   ]
  },
  {
   "cell_type": "markdown",
   "metadata": {},
   "source": [
    "### B.1.b) Profile dataset cleanse"
   ]
  },
  {
   "cell_type": "code",
   "execution_count": 35,
   "metadata": {},
   "outputs": [
    {
     "data": {
      "text/html": [
       "<div>\n",
       "<style scoped>\n",
       "    .dataframe tbody tr th:only-of-type {\n",
       "        vertical-align: middle;\n",
       "    }\n",
       "\n",
       "    .dataframe tbody tr th {\n",
       "        vertical-align: top;\n",
       "    }\n",
       "\n",
       "    .dataframe thead th {\n",
       "        text-align: right;\n",
       "    }\n",
       "</style>\n",
       "<table border=\"1\" class=\"dataframe\">\n",
       "  <thead>\n",
       "    <tr style=\"text-align: right;\">\n",
       "      <th></th>\n",
       "      <th>customer_age</th>\n",
       "      <th>became_member_on</th>\n",
       "      <th>customer_gender</th>\n",
       "      <th>customer_id</th>\n",
       "      <th>customer_income</th>\n",
       "    </tr>\n",
       "  </thead>\n",
       "  <tbody>\n",
       "    <tr>\n",
       "      <th>0</th>\n",
       "      <td>118</td>\n",
       "      <td>20170212</td>\n",
       "      <td>None</td>\n",
       "      <td>68be06ca386d4c31939f3a4f0e3dd783</td>\n",
       "      <td>NaN</td>\n",
       "    </tr>\n",
       "    <tr>\n",
       "      <th>1</th>\n",
       "      <td>55</td>\n",
       "      <td>20170715</td>\n",
       "      <td>F</td>\n",
       "      <td>0610b486422d4921ae7d2bf64640c50b</td>\n",
       "      <td>112000.0</td>\n",
       "    </tr>\n",
       "    <tr>\n",
       "      <th>2</th>\n",
       "      <td>118</td>\n",
       "      <td>20180712</td>\n",
       "      <td>None</td>\n",
       "      <td>38fe809add3b4fcf9315a9694bb96ff5</td>\n",
       "      <td>NaN</td>\n",
       "    </tr>\n",
       "    <tr>\n",
       "      <th>3</th>\n",
       "      <td>75</td>\n",
       "      <td>20170509</td>\n",
       "      <td>F</td>\n",
       "      <td>78afa995795e4d85b5d9ceeca43f5fef</td>\n",
       "      <td>100000.0</td>\n",
       "    </tr>\n",
       "    <tr>\n",
       "      <th>4</th>\n",
       "      <td>118</td>\n",
       "      <td>20170804</td>\n",
       "      <td>None</td>\n",
       "      <td>a03223e636434f42ac4c3df47e8bac43</td>\n",
       "      <td>NaN</td>\n",
       "    </tr>\n",
       "  </tbody>\n",
       "</table>\n",
       "</div>"
      ],
      "text/plain": [
       "   customer_age  became_member_on customer_gender  \\\n",
       "0           118          20170212            None   \n",
       "1            55          20170715               F   \n",
       "2           118          20180712            None   \n",
       "3            75          20170509               F   \n",
       "4           118          20170804            None   \n",
       "\n",
       "                        customer_id  customer_income  \n",
       "0  68be06ca386d4c31939f3a4f0e3dd783              NaN  \n",
       "1  0610b486422d4921ae7d2bf64640c50b         112000.0  \n",
       "2  38fe809add3b4fcf9315a9694bb96ff5              NaN  \n",
       "3  78afa995795e4d85b5d9ceeca43f5fef         100000.0  \n",
       "4  a03223e636434f42ac4c3df47e8bac43              NaN  "
      ]
     },
     "execution_count": 35,
     "metadata": {},
     "output_type": "execute_result"
    }
   ],
   "source": [
    "new_name_cols = {'age':'customer_age','gender':'customer_gender','id':'customer_id','income':'customer_income'}\n",
    "stg_profile = rename_cols(profile,new_name_cols)\n",
    "stg_profile.head(5)"
   ]
  },
  {
   "cell_type": "code",
   "execution_count": 36,
   "metadata": {},
   "outputs": [
    {
     "data": {
      "text/plain": [
       "customer_age          int64\n",
       "became_member_on      int64\n",
       "customer_gender      object\n",
       "customer_id          object\n",
       "customer_income     float64\n",
       "dtype: object"
      ]
     },
     "execution_count": 36,
     "metadata": {},
     "output_type": "execute_result"
    }
   ],
   "source": [
    "stg_profile.dtypes"
   ]
  },
  {
   "cell_type": "markdown",
   "metadata": {},
   "source": [
    "First of all, we must remove the outlier encountered at the source data profiling phase."
   ]
  },
  {
   "cell_type": "code",
   "execution_count": 37,
   "metadata": {},
   "outputs": [],
   "source": [
    "stg_profile = stg_profile.dropna()"
   ]
  },
  {
   "cell_type": "code",
   "execution_count": 38,
   "metadata": {},
   "outputs": [
    {
     "data": {
      "text/plain": [
       "array(['F', 'M', 'O'], dtype=object)"
      ]
     },
     "execution_count": 38,
     "metadata": {},
     "output_type": "execute_result"
    }
   ],
   "source": [
    "stg_profile.customer_gender.unique()"
   ]
  },
  {
   "cell_type": "markdown",
   "metadata": {},
   "source": [
    "The second staging needed is to transform 'became_member_on' field from integer to date data type"
   ]
  },
  {
   "cell_type": "code",
   "execution_count": 39,
   "metadata": {},
   "outputs": [],
   "source": [
    "stg_profile['became_member_on']= pd.to_datetime(stg_profile['became_member_on'], format='%Y%m%d')"
   ]
  },
  {
   "cell_type": "code",
   "execution_count": 40,
   "metadata": {},
   "outputs": [
    {
     "data": {
      "text/plain": [
       "customer_age                 int64\n",
       "became_member_on    datetime64[ns]\n",
       "customer_gender             object\n",
       "customer_id                 object\n",
       "customer_income            float64\n",
       "dtype: object"
      ]
     },
     "execution_count": 40,
     "metadata": {},
     "output_type": "execute_result"
    }
   ],
   "source": [
    "stg_profile.dtypes"
   ]
  },
  {
   "cell_type": "code",
   "execution_count": 41,
   "metadata": {},
   "outputs": [
    {
     "data": {
      "text/html": [
       "<div>\n",
       "<style scoped>\n",
       "    .dataframe tbody tr th:only-of-type {\n",
       "        vertical-align: middle;\n",
       "    }\n",
       "\n",
       "    .dataframe tbody tr th {\n",
       "        vertical-align: top;\n",
       "    }\n",
       "\n",
       "    .dataframe thead th {\n",
       "        text-align: right;\n",
       "    }\n",
       "</style>\n",
       "<table border=\"1\" class=\"dataframe\">\n",
       "  <thead>\n",
       "    <tr style=\"text-align: right;\">\n",
       "      <th></th>\n",
       "      <th>customer_age</th>\n",
       "      <th>became_member_on</th>\n",
       "      <th>customer_gender</th>\n",
       "      <th>customer_id</th>\n",
       "      <th>customer_income</th>\n",
       "    </tr>\n",
       "  </thead>\n",
       "  <tbody>\n",
       "    <tr>\n",
       "      <th>1</th>\n",
       "      <td>55</td>\n",
       "      <td>2017-07-15</td>\n",
       "      <td>F</td>\n",
       "      <td>0610b486422d4921ae7d2bf64640c50b</td>\n",
       "      <td>112000.0</td>\n",
       "    </tr>\n",
       "    <tr>\n",
       "      <th>3</th>\n",
       "      <td>75</td>\n",
       "      <td>2017-05-09</td>\n",
       "      <td>F</td>\n",
       "      <td>78afa995795e4d85b5d9ceeca43f5fef</td>\n",
       "      <td>100000.0</td>\n",
       "    </tr>\n",
       "    <tr>\n",
       "      <th>5</th>\n",
       "      <td>68</td>\n",
       "      <td>2018-04-26</td>\n",
       "      <td>M</td>\n",
       "      <td>e2127556f4f64592b11af22de27a7932</td>\n",
       "      <td>70000.0</td>\n",
       "    </tr>\n",
       "    <tr>\n",
       "      <th>8</th>\n",
       "      <td>65</td>\n",
       "      <td>2018-02-09</td>\n",
       "      <td>M</td>\n",
       "      <td>389bc3fa690240e798340f5a15918d5c</td>\n",
       "      <td>53000.0</td>\n",
       "    </tr>\n",
       "    <tr>\n",
       "      <th>12</th>\n",
       "      <td>58</td>\n",
       "      <td>2017-11-11</td>\n",
       "      <td>M</td>\n",
       "      <td>2eeac8d8feae4a8cad5a6af0499a211d</td>\n",
       "      <td>51000.0</td>\n",
       "    </tr>\n",
       "  </tbody>\n",
       "</table>\n",
       "</div>"
      ],
      "text/plain": [
       "    customer_age became_member_on customer_gender  \\\n",
       "1             55       2017-07-15               F   \n",
       "3             75       2017-05-09               F   \n",
       "5             68       2018-04-26               M   \n",
       "8             65       2018-02-09               M   \n",
       "12            58       2017-11-11               M   \n",
       "\n",
       "                         customer_id  customer_income  \n",
       "1   0610b486422d4921ae7d2bf64640c50b         112000.0  \n",
       "3   78afa995795e4d85b5d9ceeca43f5fef         100000.0  \n",
       "5   e2127556f4f64592b11af22de27a7932          70000.0  \n",
       "8   389bc3fa690240e798340f5a15918d5c          53000.0  \n",
       "12  2eeac8d8feae4a8cad5a6af0499a211d          51000.0  "
      ]
     },
     "execution_count": 41,
     "metadata": {},
     "output_type": "execute_result"
    }
   ],
   "source": [
    "stg_profile.head(5)"
   ]
  },
  {
   "cell_type": "markdown",
   "metadata": {},
   "source": [
    "Also, thinking on further analysis, the customer age could be grouped for possible correlations or descriptive analysis.\n",
    "The age groups could following pattern of 5 years per group clunch. \n",
    "* Until 18\n",
    "* 19 - 28\n",
    "* 29 - 38\n",
    "* 39 - 48\n",
    "* 49 - 58\n",
    "* 59 - 68\n",
    "* 69 - 78\n",
    "* 79 - 88\n",
    "* Above 89"
   ]
  },
  {
   "cell_type": "code",
   "execution_count": 42,
   "metadata": {},
   "outputs": [],
   "source": [
    "def age_group_clf(df):\n",
    "    \n",
    "    #add Age_group column\n",
    "    df.loc[(df.customer_age <= 18) , 'age_group'] = 'Until 18'\n",
    "    df.loc[(df.customer_age >= 19) & (df.customer_age  <= 28) , 'age_group'] = '19-28'\n",
    "    df.loc[(df.customer_age >= 29) & (df.customer_age  <= 38) , 'age_group'] = '29-38'\n",
    "    df.loc[(df.customer_age >= 49) & (df.customer_age  <= 58) , 'age_group'] = '49-58'\n",
    "    df.loc[(df.customer_age >= 59) & (df.customer_age  <= 68) , 'age_group'] = '59-68'\n",
    "    df.loc[(df.customer_age >= 69) & (df.customer_age  <= 78) , 'age_group'] = '69-78'\n",
    "    df.loc[(df.customer_age >= 79) & (df.customer_age  <= 88) , 'age_group'] = '79-88'\n",
    "    df.loc[(df.customer_age >= 89) , 'age_group'] = 'Above 89'\n",
    "    \n",
    "\n",
    "    return df"
   ]
  },
  {
   "cell_type": "code",
   "execution_count": 43,
   "metadata": {},
   "outputs": [
    {
     "data": {
      "text/html": [
       "<div>\n",
       "<style scoped>\n",
       "    .dataframe tbody tr th:only-of-type {\n",
       "        vertical-align: middle;\n",
       "    }\n",
       "\n",
       "    .dataframe tbody tr th {\n",
       "        vertical-align: top;\n",
       "    }\n",
       "\n",
       "    .dataframe thead th {\n",
       "        text-align: right;\n",
       "    }\n",
       "</style>\n",
       "<table border=\"1\" class=\"dataframe\">\n",
       "  <thead>\n",
       "    <tr style=\"text-align: right;\">\n",
       "      <th></th>\n",
       "      <th>customer_age</th>\n",
       "      <th>became_member_on</th>\n",
       "      <th>customer_gender</th>\n",
       "      <th>customer_id</th>\n",
       "      <th>customer_income</th>\n",
       "      <th>age_group</th>\n",
       "    </tr>\n",
       "  </thead>\n",
       "  <tbody>\n",
       "    <tr>\n",
       "      <th>1</th>\n",
       "      <td>55</td>\n",
       "      <td>2017-07-15</td>\n",
       "      <td>F</td>\n",
       "      <td>0610b486422d4921ae7d2bf64640c50b</td>\n",
       "      <td>112000.0</td>\n",
       "      <td>49-58</td>\n",
       "    </tr>\n",
       "    <tr>\n",
       "      <th>3</th>\n",
       "      <td>75</td>\n",
       "      <td>2017-05-09</td>\n",
       "      <td>F</td>\n",
       "      <td>78afa995795e4d85b5d9ceeca43f5fef</td>\n",
       "      <td>100000.0</td>\n",
       "      <td>69-78</td>\n",
       "    </tr>\n",
       "    <tr>\n",
       "      <th>5</th>\n",
       "      <td>68</td>\n",
       "      <td>2018-04-26</td>\n",
       "      <td>M</td>\n",
       "      <td>e2127556f4f64592b11af22de27a7932</td>\n",
       "      <td>70000.0</td>\n",
       "      <td>59-68</td>\n",
       "    </tr>\n",
       "    <tr>\n",
       "      <th>8</th>\n",
       "      <td>65</td>\n",
       "      <td>2018-02-09</td>\n",
       "      <td>M</td>\n",
       "      <td>389bc3fa690240e798340f5a15918d5c</td>\n",
       "      <td>53000.0</td>\n",
       "      <td>59-68</td>\n",
       "    </tr>\n",
       "    <tr>\n",
       "      <th>12</th>\n",
       "      <td>58</td>\n",
       "      <td>2017-11-11</td>\n",
       "      <td>M</td>\n",
       "      <td>2eeac8d8feae4a8cad5a6af0499a211d</td>\n",
       "      <td>51000.0</td>\n",
       "      <td>49-58</td>\n",
       "    </tr>\n",
       "  </tbody>\n",
       "</table>\n",
       "</div>"
      ],
      "text/plain": [
       "    customer_age became_member_on customer_gender  \\\n",
       "1             55       2017-07-15               F   \n",
       "3             75       2017-05-09               F   \n",
       "5             68       2018-04-26               M   \n",
       "8             65       2018-02-09               M   \n",
       "12            58       2017-11-11               M   \n",
       "\n",
       "                         customer_id  customer_income age_group  \n",
       "1   0610b486422d4921ae7d2bf64640c50b         112000.0     49-58  \n",
       "3   78afa995795e4d85b5d9ceeca43f5fef         100000.0     69-78  \n",
       "5   e2127556f4f64592b11af22de27a7932          70000.0     59-68  \n",
       "8   389bc3fa690240e798340f5a15918d5c          53000.0     59-68  \n",
       "12  2eeac8d8feae4a8cad5a6af0499a211d          51000.0     49-58  "
      ]
     },
     "execution_count": 43,
     "metadata": {},
     "output_type": "execute_result"
    }
   ],
   "source": [
    "age_group_clf(stg_profile)\n",
    "stg_profile.head(5)"
   ]
  },
  {
   "cell_type": "markdown",
   "metadata": {},
   "source": [
    "This dataset could be now be considered staged for processing as we have easily the fields renamed for a better understanding and with each of it with the correct data type."
   ]
  },
  {
   "cell_type": "markdown",
   "metadata": {},
   "source": [
    "### B.1.c) Transcript dataset cleanse"
   ]
  },
  {
   "cell_type": "code",
   "execution_count": 44,
   "metadata": {},
   "outputs": [
    {
     "data": {
      "text/html": [
       "<div>\n",
       "<style scoped>\n",
       "    .dataframe tbody tr th:only-of-type {\n",
       "        vertical-align: middle;\n",
       "    }\n",
       "\n",
       "    .dataframe tbody tr th {\n",
       "        vertical-align: top;\n",
       "    }\n",
       "\n",
       "    .dataframe thead th {\n",
       "        text-align: right;\n",
       "    }\n",
       "</style>\n",
       "<table border=\"1\" class=\"dataframe\">\n",
       "  <thead>\n",
       "    <tr style=\"text-align: right;\">\n",
       "      <th></th>\n",
       "      <th>event</th>\n",
       "      <th>customer_id</th>\n",
       "      <th>time</th>\n",
       "      <th>value</th>\n",
       "    </tr>\n",
       "  </thead>\n",
       "  <tbody>\n",
       "    <tr>\n",
       "      <th>0</th>\n",
       "      <td>offer received</td>\n",
       "      <td>78afa995795e4d85b5d9ceeca43f5fef</td>\n",
       "      <td>0</td>\n",
       "      <td>{'offer id': '9b98b8c7a33c4b65b9aebfe6a799e6d9'}</td>\n",
       "    </tr>\n",
       "    <tr>\n",
       "      <th>1</th>\n",
       "      <td>offer received</td>\n",
       "      <td>a03223e636434f42ac4c3df47e8bac43</td>\n",
       "      <td>0</td>\n",
       "      <td>{'offer id': '0b1e1539f2cc45b7b9fa7c272da2e1d7'}</td>\n",
       "    </tr>\n",
       "    <tr>\n",
       "      <th>2</th>\n",
       "      <td>offer received</td>\n",
       "      <td>e2127556f4f64592b11af22de27a7932</td>\n",
       "      <td>0</td>\n",
       "      <td>{'offer id': '2906b810c7d4411798c6938adc9daaa5'}</td>\n",
       "    </tr>\n",
       "    <tr>\n",
       "      <th>3</th>\n",
       "      <td>offer received</td>\n",
       "      <td>8ec6ce2a7e7949b1bf142def7d0e0586</td>\n",
       "      <td>0</td>\n",
       "      <td>{'offer id': 'fafdcd668e3743c1bb461111dcafc2a4'}</td>\n",
       "    </tr>\n",
       "    <tr>\n",
       "      <th>4</th>\n",
       "      <td>offer received</td>\n",
       "      <td>68617ca6246f4fbc85e91a2a49552598</td>\n",
       "      <td>0</td>\n",
       "      <td>{'offer id': '4d5c57ea9a6940dd891ad53e9dbe8da0'}</td>\n",
       "    </tr>\n",
       "    <tr>\n",
       "      <th>5</th>\n",
       "      <td>offer received</td>\n",
       "      <td>389bc3fa690240e798340f5a15918d5c</td>\n",
       "      <td>0</td>\n",
       "      <td>{'offer id': 'f19421c1d4aa40978ebb69ca19b0e20d'}</td>\n",
       "    </tr>\n",
       "    <tr>\n",
       "      <th>6</th>\n",
       "      <td>offer received</td>\n",
       "      <td>c4863c7985cf408faee930f111475da3</td>\n",
       "      <td>0</td>\n",
       "      <td>{'offer id': '2298d6c36e964ae4a3e7e9706d1fb8c2'}</td>\n",
       "    </tr>\n",
       "    <tr>\n",
       "      <th>7</th>\n",
       "      <td>offer received</td>\n",
       "      <td>2eeac8d8feae4a8cad5a6af0499a211d</td>\n",
       "      <td>0</td>\n",
       "      <td>{'offer id': '3f207df678b143eea3cee63160fa8bed'}</td>\n",
       "    </tr>\n",
       "    <tr>\n",
       "      <th>8</th>\n",
       "      <td>offer received</td>\n",
       "      <td>aa4862eba776480b8bb9c68455b8c2e1</td>\n",
       "      <td>0</td>\n",
       "      <td>{'offer id': '0b1e1539f2cc45b7b9fa7c272da2e1d7'}</td>\n",
       "    </tr>\n",
       "    <tr>\n",
       "      <th>9</th>\n",
       "      <td>offer received</td>\n",
       "      <td>31dda685af34476cad5bc968bdb01c53</td>\n",
       "      <td>0</td>\n",
       "      <td>{'offer id': '0b1e1539f2cc45b7b9fa7c272da2e1d7'}</td>\n",
       "    </tr>\n",
       "    <tr>\n",
       "      <th>10</th>\n",
       "      <td>offer received</td>\n",
       "      <td>744d603ef08c4f33af5a61c8c7628d1c</td>\n",
       "      <td>0</td>\n",
       "      <td>{'offer id': '0b1e1539f2cc45b7b9fa7c272da2e1d7'}</td>\n",
       "    </tr>\n",
       "    <tr>\n",
       "      <th>11</th>\n",
       "      <td>offer received</td>\n",
       "      <td>3d02345581554e81b7b289ab5e288078</td>\n",
       "      <td>0</td>\n",
       "      <td>{'offer id': '0b1e1539f2cc45b7b9fa7c272da2e1d7'}</td>\n",
       "    </tr>\n",
       "    <tr>\n",
       "      <th>12</th>\n",
       "      <td>offer received</td>\n",
       "      <td>4b0da7e80e5945209a1fdddfe813dbe0</td>\n",
       "      <td>0</td>\n",
       "      <td>{'offer id': 'ae264e3637204a6fb9bb56bc8210ddfd'}</td>\n",
       "    </tr>\n",
       "    <tr>\n",
       "      <th>13</th>\n",
       "      <td>offer received</td>\n",
       "      <td>c27e0d6ab72c455a8bb66d980963de60</td>\n",
       "      <td>0</td>\n",
       "      <td>{'offer id': '3f207df678b143eea3cee63160fa8bed'}</td>\n",
       "    </tr>\n",
       "    <tr>\n",
       "      <th>14</th>\n",
       "      <td>offer received</td>\n",
       "      <td>d53717f5400c4e84affdaeda9dd926b3</td>\n",
       "      <td>0</td>\n",
       "      <td>{'offer id': '0b1e1539f2cc45b7b9fa7c272da2e1d7'}</td>\n",
       "    </tr>\n",
       "    <tr>\n",
       "      <th>15</th>\n",
       "      <td>offer received</td>\n",
       "      <td>f806632c011441378d4646567f357a21</td>\n",
       "      <td>0</td>\n",
       "      <td>{'offer id': 'fafdcd668e3743c1bb461111dcafc2a4'}</td>\n",
       "    </tr>\n",
       "    <tr>\n",
       "      <th>16</th>\n",
       "      <td>offer received</td>\n",
       "      <td>d058f73bf8674a26a95227db098147b1</td>\n",
       "      <td>0</td>\n",
       "      <td>{'offer id': '0b1e1539f2cc45b7b9fa7c272da2e1d7'}</td>\n",
       "    </tr>\n",
       "    <tr>\n",
       "      <th>17</th>\n",
       "      <td>offer received</td>\n",
       "      <td>65aba5c617294649aeb624da249e1ee5</td>\n",
       "      <td>0</td>\n",
       "      <td>{'offer id': '2906b810c7d4411798c6938adc9daaa5'}</td>\n",
       "    </tr>\n",
       "    <tr>\n",
       "      <th>18</th>\n",
       "      <td>offer received</td>\n",
       "      <td>ebe7ef46ea6f4963a7dd49f501b26779</td>\n",
       "      <td>0</td>\n",
       "      <td>{'offer id': '9b98b8c7a33c4b65b9aebfe6a799e6d9'}</td>\n",
       "    </tr>\n",
       "    <tr>\n",
       "      <th>19</th>\n",
       "      <td>offer received</td>\n",
       "      <td>1e9420836d554513ab90eba98552d0a9</td>\n",
       "      <td>0</td>\n",
       "      <td>{'offer id': 'ae264e3637204a6fb9bb56bc8210ddfd'}</td>\n",
       "    </tr>\n",
       "    <tr>\n",
       "      <th>20</th>\n",
       "      <td>offer received</td>\n",
       "      <td>868317b9be554cb18e50bc68484749a2</td>\n",
       "      <td>0</td>\n",
       "      <td>{'offer id': '2906b810c7d4411798c6938adc9daaa5'}</td>\n",
       "    </tr>\n",
       "    <tr>\n",
       "      <th>21</th>\n",
       "      <td>offer received</td>\n",
       "      <td>f082d80f0aac47a99173ba8ef8fc1909</td>\n",
       "      <td>0</td>\n",
       "      <td>{'offer id': '9b98b8c7a33c4b65b9aebfe6a799e6d9'}</td>\n",
       "    </tr>\n",
       "    <tr>\n",
       "      <th>22</th>\n",
       "      <td>offer received</td>\n",
       "      <td>102e9454054946fda62242d2e176fdce</td>\n",
       "      <td>0</td>\n",
       "      <td>{'offer id': '4d5c57ea9a6940dd891ad53e9dbe8da0'}</td>\n",
       "    </tr>\n",
       "    <tr>\n",
       "      <th>23</th>\n",
       "      <td>offer received</td>\n",
       "      <td>4beeb3ed64dd4898b0edf2f6b67426d3</td>\n",
       "      <td>0</td>\n",
       "      <td>{'offer id': '2906b810c7d4411798c6938adc9daaa5'}</td>\n",
       "    </tr>\n",
       "    <tr>\n",
       "      <th>24</th>\n",
       "      <td>offer received</td>\n",
       "      <td>9f30b375d7bd4c62a884ffe7034e09ee</td>\n",
       "      <td>0</td>\n",
       "      <td>{'offer id': '2298d6c36e964ae4a3e7e9706d1fb8c2'}</td>\n",
       "    </tr>\n",
       "    <tr>\n",
       "      <th>25</th>\n",
       "      <td>offer received</td>\n",
       "      <td>25c906289d154b66bf579693f89481c9</td>\n",
       "      <td>0</td>\n",
       "      <td>{'offer id': '2906b810c7d4411798c6938adc9daaa5'}</td>\n",
       "    </tr>\n",
       "    <tr>\n",
       "      <th>26</th>\n",
       "      <td>offer received</td>\n",
       "      <td>6e014185620b49bd98749f728747572f</td>\n",
       "      <td>0</td>\n",
       "      <td>{'offer id': 'f19421c1d4aa40978ebb69ca19b0e20d'}</td>\n",
       "    </tr>\n",
       "    <tr>\n",
       "      <th>27</th>\n",
       "      <td>offer received</td>\n",
       "      <td>02c083884c7d45b39cc68e1314fec56c</td>\n",
       "      <td>0</td>\n",
       "      <td>{'offer id': 'ae264e3637204a6fb9bb56bc8210ddfd'}</td>\n",
       "    </tr>\n",
       "    <tr>\n",
       "      <th>28</th>\n",
       "      <td>offer received</td>\n",
       "      <td>c0d210398dee4a0895b24444a5fcd1d2</td>\n",
       "      <td>0</td>\n",
       "      <td>{'offer id': '9b98b8c7a33c4b65b9aebfe6a799e6d9'}</td>\n",
       "    </tr>\n",
       "    <tr>\n",
       "      <th>29</th>\n",
       "      <td>offer received</td>\n",
       "      <td>8be4463721e14d7fa600686bf8c8b2ed</td>\n",
       "      <td>0</td>\n",
       "      <td>{'offer id': 'fafdcd668e3743c1bb461111dcafc2a4'}</td>\n",
       "    </tr>\n",
       "    <tr>\n",
       "      <th>...</th>\n",
       "      <td>...</td>\n",
       "      <td>...</td>\n",
       "      <td>...</td>\n",
       "      <td>...</td>\n",
       "    </tr>\n",
       "    <tr>\n",
       "      <th>306504</th>\n",
       "      <td>transaction</td>\n",
       "      <td>8524d450673b4c24869b6c94380006de</td>\n",
       "      <td>714</td>\n",
       "      <td>{'amount': 4.89}</td>\n",
       "    </tr>\n",
       "    <tr>\n",
       "      <th>306505</th>\n",
       "      <td>transaction</td>\n",
       "      <td>b895c57e8cd047a8872ce02aa54759d6</td>\n",
       "      <td>714</td>\n",
       "      <td>{'amount': 4.48}</td>\n",
       "    </tr>\n",
       "    <tr>\n",
       "      <th>306506</th>\n",
       "      <td>offer completed</td>\n",
       "      <td>b895c57e8cd047a8872ce02aa54759d6</td>\n",
       "      <td>714</td>\n",
       "      <td>{'offer_id': 'fafdcd668e3743c1bb461111dcafc2a4...</td>\n",
       "    </tr>\n",
       "    <tr>\n",
       "      <th>306507</th>\n",
       "      <td>offer viewed</td>\n",
       "      <td>8dda575c2a1d44b9ac8e8b07b93d1f8e</td>\n",
       "      <td>714</td>\n",
       "      <td>{'offer id': '0b1e1539f2cc45b7b9fa7c272da2e1d7'}</td>\n",
       "    </tr>\n",
       "    <tr>\n",
       "      <th>306508</th>\n",
       "      <td>transaction</td>\n",
       "      <td>8431c16f8e1d440880db371a68f82dd0</td>\n",
       "      <td>714</td>\n",
       "      <td>{'amount': 1.19}</td>\n",
       "    </tr>\n",
       "    <tr>\n",
       "      <th>306509</th>\n",
       "      <td>offer completed</td>\n",
       "      <td>8431c16f8e1d440880db371a68f82dd0</td>\n",
       "      <td>714</td>\n",
       "      <td>{'offer_id': 'fafdcd668e3743c1bb461111dcafc2a4...</td>\n",
       "    </tr>\n",
       "    <tr>\n",
       "      <th>306510</th>\n",
       "      <td>transaction</td>\n",
       "      <td>ba620885e51c4b0ea64a4f61daad494f</td>\n",
       "      <td>714</td>\n",
       "      <td>{'amount': 14.31}</td>\n",
       "    </tr>\n",
       "    <tr>\n",
       "      <th>306511</th>\n",
       "      <td>transaction</td>\n",
       "      <td>a1a8f40407c444cc848468275308958a</td>\n",
       "      <td>714</td>\n",
       "      <td>{'amount': 2.37}</td>\n",
       "    </tr>\n",
       "    <tr>\n",
       "      <th>306512</th>\n",
       "      <td>transaction</td>\n",
       "      <td>8d80970192fa496f99d6b45c470a4b60</td>\n",
       "      <td>714</td>\n",
       "      <td>{'amount': 6.92}</td>\n",
       "    </tr>\n",
       "    <tr>\n",
       "      <th>306513</th>\n",
       "      <td>transaction</td>\n",
       "      <td>bde275066f3c4fa0bff3093e3b866a2c</td>\n",
       "      <td>714</td>\n",
       "      <td>{'amount': 12.73}</td>\n",
       "    </tr>\n",
       "    <tr>\n",
       "      <th>306514</th>\n",
       "      <td>transaction</td>\n",
       "      <td>f1e4fd36e5a0446f83861308bddf6945</td>\n",
       "      <td>714</td>\n",
       "      <td>{'amount': 8.2}</td>\n",
       "    </tr>\n",
       "    <tr>\n",
       "      <th>306515</th>\n",
       "      <td>transaction</td>\n",
       "      <td>0b64be3b241c4407a5c9a71781173829</td>\n",
       "      <td>714</td>\n",
       "      <td>{'amount': 2.6}</td>\n",
       "    </tr>\n",
       "    <tr>\n",
       "      <th>306516</th>\n",
       "      <td>transaction</td>\n",
       "      <td>86d03d35d7e0434b935e7743e83be3a0</td>\n",
       "      <td>714</td>\n",
       "      <td>{'amount': 9.2}</td>\n",
       "    </tr>\n",
       "    <tr>\n",
       "      <th>306517</th>\n",
       "      <td>transaction</td>\n",
       "      <td>3408fd05c781401f8442fb6dbaaea9c7</td>\n",
       "      <td>714</td>\n",
       "      <td>{'amount': 11.7}</td>\n",
       "    </tr>\n",
       "    <tr>\n",
       "      <th>306518</th>\n",
       "      <td>transaction</td>\n",
       "      <td>1593d617fac246ef8e50dbb0ffd77f5f</td>\n",
       "      <td>714</td>\n",
       "      <td>{'amount': 40.67}</td>\n",
       "    </tr>\n",
       "    <tr>\n",
       "      <th>306519</th>\n",
       "      <td>transaction</td>\n",
       "      <td>f1b31d07b5d84f69a2d5f1d07843989e</td>\n",
       "      <td>714</td>\n",
       "      <td>{'amount': 31.13}</td>\n",
       "    </tr>\n",
       "    <tr>\n",
       "      <th>306520</th>\n",
       "      <td>transaction</td>\n",
       "      <td>2ce987015ec0404a97ba333e8e814090</td>\n",
       "      <td>714</td>\n",
       "      <td>{'amount': 1.6400000000000001}</td>\n",
       "    </tr>\n",
       "    <tr>\n",
       "      <th>306521</th>\n",
       "      <td>transaction</td>\n",
       "      <td>2e33545f0a764d27b2ccff95fc8d72c4</td>\n",
       "      <td>714</td>\n",
       "      <td>{'amount': 17.35}</td>\n",
       "    </tr>\n",
       "    <tr>\n",
       "      <th>306522</th>\n",
       "      <td>transaction</td>\n",
       "      <td>d1c4500ace2e45e9a45d3cd2fccac8d8</td>\n",
       "      <td>714</td>\n",
       "      <td>{'amount': 4.42}</td>\n",
       "    </tr>\n",
       "    <tr>\n",
       "      <th>306523</th>\n",
       "      <td>transaction</td>\n",
       "      <td>b65affd9e07346a1906364a396950e3d</td>\n",
       "      <td>714</td>\n",
       "      <td>{'amount': 18.35}</td>\n",
       "    </tr>\n",
       "    <tr>\n",
       "      <th>306524</th>\n",
       "      <td>transaction</td>\n",
       "      <td>d613ca9c59dd42f497bdbf6178da54a7</td>\n",
       "      <td>714</td>\n",
       "      <td>{'amount': 25.14}</td>\n",
       "    </tr>\n",
       "    <tr>\n",
       "      <th>306525</th>\n",
       "      <td>transaction</td>\n",
       "      <td>eec70ab28af74a22a4aeb889c0317944</td>\n",
       "      <td>714</td>\n",
       "      <td>{'amount': 43.58}</td>\n",
       "    </tr>\n",
       "    <tr>\n",
       "      <th>306526</th>\n",
       "      <td>transaction</td>\n",
       "      <td>24f56b5e1849462093931b164eb803b5</td>\n",
       "      <td>714</td>\n",
       "      <td>{'amount': 22.64}</td>\n",
       "    </tr>\n",
       "    <tr>\n",
       "      <th>306527</th>\n",
       "      <td>offer completed</td>\n",
       "      <td>24f56b5e1849462093931b164eb803b5</td>\n",
       "      <td>714</td>\n",
       "      <td>{'offer_id': 'fafdcd668e3743c1bb461111dcafc2a4...</td>\n",
       "    </tr>\n",
       "    <tr>\n",
       "      <th>306528</th>\n",
       "      <td>transaction</td>\n",
       "      <td>5ca2620962114246ab218fc648eb3934</td>\n",
       "      <td>714</td>\n",
       "      <td>{'amount': 2.2}</td>\n",
       "    </tr>\n",
       "    <tr>\n",
       "      <th>306529</th>\n",
       "      <td>transaction</td>\n",
       "      <td>b3a1272bc9904337b331bf348c3e8c17</td>\n",
       "      <td>714</td>\n",
       "      <td>{'amount': 1.5899999999999999}</td>\n",
       "    </tr>\n",
       "    <tr>\n",
       "      <th>306530</th>\n",
       "      <td>transaction</td>\n",
       "      <td>68213b08d99a4ae1b0dcb72aebd9aa35</td>\n",
       "      <td>714</td>\n",
       "      <td>{'amount': 9.53}</td>\n",
       "    </tr>\n",
       "    <tr>\n",
       "      <th>306531</th>\n",
       "      <td>transaction</td>\n",
       "      <td>a00058cf10334a308c68e7631c529907</td>\n",
       "      <td>714</td>\n",
       "      <td>{'amount': 3.61}</td>\n",
       "    </tr>\n",
       "    <tr>\n",
       "      <th>306532</th>\n",
       "      <td>transaction</td>\n",
       "      <td>76ddbd6576844afe811f1a3c0fbb5bec</td>\n",
       "      <td>714</td>\n",
       "      <td>{'amount': 3.5300000000000002}</td>\n",
       "    </tr>\n",
       "    <tr>\n",
       "      <th>306533</th>\n",
       "      <td>transaction</td>\n",
       "      <td>c02b10e8752c4d8e9b73f918558531f7</td>\n",
       "      <td>714</td>\n",
       "      <td>{'amount': 4.05}</td>\n",
       "    </tr>\n",
       "  </tbody>\n",
       "</table>\n",
       "<p>306534 rows × 4 columns</p>\n",
       "</div>"
      ],
      "text/plain": [
       "                  event                       customer_id  time  \\\n",
       "0        offer received  78afa995795e4d85b5d9ceeca43f5fef     0   \n",
       "1        offer received  a03223e636434f42ac4c3df47e8bac43     0   \n",
       "2        offer received  e2127556f4f64592b11af22de27a7932     0   \n",
       "3        offer received  8ec6ce2a7e7949b1bf142def7d0e0586     0   \n",
       "4        offer received  68617ca6246f4fbc85e91a2a49552598     0   \n",
       "5        offer received  389bc3fa690240e798340f5a15918d5c     0   \n",
       "6        offer received  c4863c7985cf408faee930f111475da3     0   \n",
       "7        offer received  2eeac8d8feae4a8cad5a6af0499a211d     0   \n",
       "8        offer received  aa4862eba776480b8bb9c68455b8c2e1     0   \n",
       "9        offer received  31dda685af34476cad5bc968bdb01c53     0   \n",
       "10       offer received  744d603ef08c4f33af5a61c8c7628d1c     0   \n",
       "11       offer received  3d02345581554e81b7b289ab5e288078     0   \n",
       "12       offer received  4b0da7e80e5945209a1fdddfe813dbe0     0   \n",
       "13       offer received  c27e0d6ab72c455a8bb66d980963de60     0   \n",
       "14       offer received  d53717f5400c4e84affdaeda9dd926b3     0   \n",
       "15       offer received  f806632c011441378d4646567f357a21     0   \n",
       "16       offer received  d058f73bf8674a26a95227db098147b1     0   \n",
       "17       offer received  65aba5c617294649aeb624da249e1ee5     0   \n",
       "18       offer received  ebe7ef46ea6f4963a7dd49f501b26779     0   \n",
       "19       offer received  1e9420836d554513ab90eba98552d0a9     0   \n",
       "20       offer received  868317b9be554cb18e50bc68484749a2     0   \n",
       "21       offer received  f082d80f0aac47a99173ba8ef8fc1909     0   \n",
       "22       offer received  102e9454054946fda62242d2e176fdce     0   \n",
       "23       offer received  4beeb3ed64dd4898b0edf2f6b67426d3     0   \n",
       "24       offer received  9f30b375d7bd4c62a884ffe7034e09ee     0   \n",
       "25       offer received  25c906289d154b66bf579693f89481c9     0   \n",
       "26       offer received  6e014185620b49bd98749f728747572f     0   \n",
       "27       offer received  02c083884c7d45b39cc68e1314fec56c     0   \n",
       "28       offer received  c0d210398dee4a0895b24444a5fcd1d2     0   \n",
       "29       offer received  8be4463721e14d7fa600686bf8c8b2ed     0   \n",
       "...                 ...                               ...   ...   \n",
       "306504      transaction  8524d450673b4c24869b6c94380006de   714   \n",
       "306505      transaction  b895c57e8cd047a8872ce02aa54759d6   714   \n",
       "306506  offer completed  b895c57e8cd047a8872ce02aa54759d6   714   \n",
       "306507     offer viewed  8dda575c2a1d44b9ac8e8b07b93d1f8e   714   \n",
       "306508      transaction  8431c16f8e1d440880db371a68f82dd0   714   \n",
       "306509  offer completed  8431c16f8e1d440880db371a68f82dd0   714   \n",
       "306510      transaction  ba620885e51c4b0ea64a4f61daad494f   714   \n",
       "306511      transaction  a1a8f40407c444cc848468275308958a   714   \n",
       "306512      transaction  8d80970192fa496f99d6b45c470a4b60   714   \n",
       "306513      transaction  bde275066f3c4fa0bff3093e3b866a2c   714   \n",
       "306514      transaction  f1e4fd36e5a0446f83861308bddf6945   714   \n",
       "306515      transaction  0b64be3b241c4407a5c9a71781173829   714   \n",
       "306516      transaction  86d03d35d7e0434b935e7743e83be3a0   714   \n",
       "306517      transaction  3408fd05c781401f8442fb6dbaaea9c7   714   \n",
       "306518      transaction  1593d617fac246ef8e50dbb0ffd77f5f   714   \n",
       "306519      transaction  f1b31d07b5d84f69a2d5f1d07843989e   714   \n",
       "306520      transaction  2ce987015ec0404a97ba333e8e814090   714   \n",
       "306521      transaction  2e33545f0a764d27b2ccff95fc8d72c4   714   \n",
       "306522      transaction  d1c4500ace2e45e9a45d3cd2fccac8d8   714   \n",
       "306523      transaction  b65affd9e07346a1906364a396950e3d   714   \n",
       "306524      transaction  d613ca9c59dd42f497bdbf6178da54a7   714   \n",
       "306525      transaction  eec70ab28af74a22a4aeb889c0317944   714   \n",
       "306526      transaction  24f56b5e1849462093931b164eb803b5   714   \n",
       "306527  offer completed  24f56b5e1849462093931b164eb803b5   714   \n",
       "306528      transaction  5ca2620962114246ab218fc648eb3934   714   \n",
       "306529      transaction  b3a1272bc9904337b331bf348c3e8c17   714   \n",
       "306530      transaction  68213b08d99a4ae1b0dcb72aebd9aa35   714   \n",
       "306531      transaction  a00058cf10334a308c68e7631c529907   714   \n",
       "306532      transaction  76ddbd6576844afe811f1a3c0fbb5bec   714   \n",
       "306533      transaction  c02b10e8752c4d8e9b73f918558531f7   714   \n",
       "\n",
       "                                                    value  \n",
       "0        {'offer id': '9b98b8c7a33c4b65b9aebfe6a799e6d9'}  \n",
       "1        {'offer id': '0b1e1539f2cc45b7b9fa7c272da2e1d7'}  \n",
       "2        {'offer id': '2906b810c7d4411798c6938adc9daaa5'}  \n",
       "3        {'offer id': 'fafdcd668e3743c1bb461111dcafc2a4'}  \n",
       "4        {'offer id': '4d5c57ea9a6940dd891ad53e9dbe8da0'}  \n",
       "5        {'offer id': 'f19421c1d4aa40978ebb69ca19b0e20d'}  \n",
       "6        {'offer id': '2298d6c36e964ae4a3e7e9706d1fb8c2'}  \n",
       "7        {'offer id': '3f207df678b143eea3cee63160fa8bed'}  \n",
       "8        {'offer id': '0b1e1539f2cc45b7b9fa7c272da2e1d7'}  \n",
       "9        {'offer id': '0b1e1539f2cc45b7b9fa7c272da2e1d7'}  \n",
       "10       {'offer id': '0b1e1539f2cc45b7b9fa7c272da2e1d7'}  \n",
       "11       {'offer id': '0b1e1539f2cc45b7b9fa7c272da2e1d7'}  \n",
       "12       {'offer id': 'ae264e3637204a6fb9bb56bc8210ddfd'}  \n",
       "13       {'offer id': '3f207df678b143eea3cee63160fa8bed'}  \n",
       "14       {'offer id': '0b1e1539f2cc45b7b9fa7c272da2e1d7'}  \n",
       "15       {'offer id': 'fafdcd668e3743c1bb461111dcafc2a4'}  \n",
       "16       {'offer id': '0b1e1539f2cc45b7b9fa7c272da2e1d7'}  \n",
       "17       {'offer id': '2906b810c7d4411798c6938adc9daaa5'}  \n",
       "18       {'offer id': '9b98b8c7a33c4b65b9aebfe6a799e6d9'}  \n",
       "19       {'offer id': 'ae264e3637204a6fb9bb56bc8210ddfd'}  \n",
       "20       {'offer id': '2906b810c7d4411798c6938adc9daaa5'}  \n",
       "21       {'offer id': '9b98b8c7a33c4b65b9aebfe6a799e6d9'}  \n",
       "22       {'offer id': '4d5c57ea9a6940dd891ad53e9dbe8da0'}  \n",
       "23       {'offer id': '2906b810c7d4411798c6938adc9daaa5'}  \n",
       "24       {'offer id': '2298d6c36e964ae4a3e7e9706d1fb8c2'}  \n",
       "25       {'offer id': '2906b810c7d4411798c6938adc9daaa5'}  \n",
       "26       {'offer id': 'f19421c1d4aa40978ebb69ca19b0e20d'}  \n",
       "27       {'offer id': 'ae264e3637204a6fb9bb56bc8210ddfd'}  \n",
       "28       {'offer id': '9b98b8c7a33c4b65b9aebfe6a799e6d9'}  \n",
       "29       {'offer id': 'fafdcd668e3743c1bb461111dcafc2a4'}  \n",
       "...                                                   ...  \n",
       "306504                                   {'amount': 4.89}  \n",
       "306505                                   {'amount': 4.48}  \n",
       "306506  {'offer_id': 'fafdcd668e3743c1bb461111dcafc2a4...  \n",
       "306507   {'offer id': '0b1e1539f2cc45b7b9fa7c272da2e1d7'}  \n",
       "306508                                   {'amount': 1.19}  \n",
       "306509  {'offer_id': 'fafdcd668e3743c1bb461111dcafc2a4...  \n",
       "306510                                  {'amount': 14.31}  \n",
       "306511                                   {'amount': 2.37}  \n",
       "306512                                   {'amount': 6.92}  \n",
       "306513                                  {'amount': 12.73}  \n",
       "306514                                    {'amount': 8.2}  \n",
       "306515                                    {'amount': 2.6}  \n",
       "306516                                    {'amount': 9.2}  \n",
       "306517                                   {'amount': 11.7}  \n",
       "306518                                  {'amount': 40.67}  \n",
       "306519                                  {'amount': 31.13}  \n",
       "306520                     {'amount': 1.6400000000000001}  \n",
       "306521                                  {'amount': 17.35}  \n",
       "306522                                   {'amount': 4.42}  \n",
       "306523                                  {'amount': 18.35}  \n",
       "306524                                  {'amount': 25.14}  \n",
       "306525                                  {'amount': 43.58}  \n",
       "306526                                  {'amount': 22.64}  \n",
       "306527  {'offer_id': 'fafdcd668e3743c1bb461111dcafc2a4...  \n",
       "306528                                    {'amount': 2.2}  \n",
       "306529                     {'amount': 1.5899999999999999}  \n",
       "306530                                   {'amount': 9.53}  \n",
       "306531                                   {'amount': 3.61}  \n",
       "306532                     {'amount': 3.5300000000000002}  \n",
       "306533                                   {'amount': 4.05}  \n",
       "\n",
       "[306534 rows x 4 columns]"
      ]
     },
     "execution_count": 44,
     "metadata": {},
     "output_type": "execute_result"
    }
   ],
   "source": [
    "new_name_cols = {'person':'customer_id'}\n",
    "stg_transcript = rename_cols(transcript,new_name_cols)\n",
    "stg_transcript"
   ]
  },
  {
   "cell_type": "markdown",
   "metadata": {},
   "source": [
    "We may also need to clean the each prior value field (now renamed as offer_id) to obtain each offer_id hash to further merge this field with portofolio primary key. Also we can obtain more information about each offer such as ammount and reward by unpivoting those dictonaries."
   ]
  },
  {
   "cell_type": "code",
   "execution_count": 45,
   "metadata": {},
   "outputs": [],
   "source": [
    "def unpivot_transcript(df):\n",
    "    \n",
    "    #Unpivoting dictonary\n",
    "    df['offer_id']  = df['value'].apply(lambda x: x.get('offer_id'))\n",
    "    df['offer id']  = df['value'].apply(lambda x: x.get('offer id'))\n",
    "    df['reward'] = df['value'].apply(lambda x: x.get('reward'))\n",
    "    df['amount'] = df['value'].apply(lambda x: x.get('amount'))\n",
    "    \n",
    "    #Matching the 'offer_id' and 'offer id' fields into one:\n",
    "    df['offer_id'] = df.apply(lambda x : x['offer id'] if x['offer_id'] == None else x['offer_id'], axis=1)\n",
    "    #Cleanning unused columns\n",
    "    df.drop(['value','offer id'], axis=1, inplace = True )\n",
    "    #Filling NaN values\n",
    "    df.fillna(0,inplace=True)\n",
    "\n",
    "\n",
    "    return df"
   ]
  },
  {
   "cell_type": "code",
   "execution_count": 46,
   "metadata": {},
   "outputs": [
    {
     "data": {
      "text/html": [
       "<div>\n",
       "<style scoped>\n",
       "    .dataframe tbody tr th:only-of-type {\n",
       "        vertical-align: middle;\n",
       "    }\n",
       "\n",
       "    .dataframe tbody tr th {\n",
       "        vertical-align: top;\n",
       "    }\n",
       "\n",
       "    .dataframe thead th {\n",
       "        text-align: right;\n",
       "    }\n",
       "</style>\n",
       "<table border=\"1\" class=\"dataframe\">\n",
       "  <thead>\n",
       "    <tr style=\"text-align: right;\">\n",
       "      <th></th>\n",
       "      <th>event</th>\n",
       "      <th>customer_id</th>\n",
       "      <th>time</th>\n",
       "      <th>offer_id</th>\n",
       "      <th>reward</th>\n",
       "      <th>amount</th>\n",
       "    </tr>\n",
       "  </thead>\n",
       "  <tbody>\n",
       "    <tr>\n",
       "      <th>0</th>\n",
       "      <td>offer received</td>\n",
       "      <td>78afa995795e4d85b5d9ceeca43f5fef</td>\n",
       "      <td>0</td>\n",
       "      <td>9b98b8c7a33c4b65b9aebfe6a799e6d9</td>\n",
       "      <td>0.0</td>\n",
       "      <td>0.0</td>\n",
       "    </tr>\n",
       "    <tr>\n",
       "      <th>1</th>\n",
       "      <td>offer received</td>\n",
       "      <td>a03223e636434f42ac4c3df47e8bac43</td>\n",
       "      <td>0</td>\n",
       "      <td>0b1e1539f2cc45b7b9fa7c272da2e1d7</td>\n",
       "      <td>0.0</td>\n",
       "      <td>0.0</td>\n",
       "    </tr>\n",
       "    <tr>\n",
       "      <th>2</th>\n",
       "      <td>offer received</td>\n",
       "      <td>e2127556f4f64592b11af22de27a7932</td>\n",
       "      <td>0</td>\n",
       "      <td>2906b810c7d4411798c6938adc9daaa5</td>\n",
       "      <td>0.0</td>\n",
       "      <td>0.0</td>\n",
       "    </tr>\n",
       "    <tr>\n",
       "      <th>3</th>\n",
       "      <td>offer received</td>\n",
       "      <td>8ec6ce2a7e7949b1bf142def7d0e0586</td>\n",
       "      <td>0</td>\n",
       "      <td>fafdcd668e3743c1bb461111dcafc2a4</td>\n",
       "      <td>0.0</td>\n",
       "      <td>0.0</td>\n",
       "    </tr>\n",
       "    <tr>\n",
       "      <th>4</th>\n",
       "      <td>offer received</td>\n",
       "      <td>68617ca6246f4fbc85e91a2a49552598</td>\n",
       "      <td>0</td>\n",
       "      <td>4d5c57ea9a6940dd891ad53e9dbe8da0</td>\n",
       "      <td>0.0</td>\n",
       "      <td>0.0</td>\n",
       "    </tr>\n",
       "  </tbody>\n",
       "</table>\n",
       "</div>"
      ],
      "text/plain": [
       "            event                       customer_id  time  \\\n",
       "0  offer received  78afa995795e4d85b5d9ceeca43f5fef     0   \n",
       "1  offer received  a03223e636434f42ac4c3df47e8bac43     0   \n",
       "2  offer received  e2127556f4f64592b11af22de27a7932     0   \n",
       "3  offer received  8ec6ce2a7e7949b1bf142def7d0e0586     0   \n",
       "4  offer received  68617ca6246f4fbc85e91a2a49552598     0   \n",
       "\n",
       "                           offer_id  reward  amount  \n",
       "0  9b98b8c7a33c4b65b9aebfe6a799e6d9     0.0     0.0  \n",
       "1  0b1e1539f2cc45b7b9fa7c272da2e1d7     0.0     0.0  \n",
       "2  2906b810c7d4411798c6938adc9daaa5     0.0     0.0  \n",
       "3  fafdcd668e3743c1bb461111dcafc2a4     0.0     0.0  \n",
       "4  4d5c57ea9a6940dd891ad53e9dbe8da0     0.0     0.0  "
      ]
     },
     "execution_count": 46,
     "metadata": {},
     "output_type": "execute_result"
    }
   ],
   "source": [
    "unpivot_transcript(stg_transcript)\n",
    "stg_transcript.head(5)"
   ]
  },
  {
   "cell_type": "markdown",
   "metadata": {},
   "source": [
    "This dataset could be now be considered staged for processing as we have easily the fields renamed for a better understanding and with each of it with the correct data type."
   ]
  },
  {
   "cell_type": "markdown",
   "metadata": {},
   "source": [
    "## B.2) Exploratory Analysis"
   ]
  },
  {
   "cell_type": "markdown",
   "metadata": {},
   "source": [
    "To better explore the relations between the datasets, we can wrangle the data merging each staged dataset to create the final dataset where we will better understand data correlation and distributions"
   ]
  },
  {
   "cell_type": "markdown",
   "metadata": {},
   "source": [
    "### B.2.a) Merging the datasets"
   ]
  },
  {
   "cell_type": "code",
   "execution_count": 47,
   "metadata": {},
   "outputs": [],
   "source": [
    "def merge_data(df1,df2,merge_key2,df3,merge_key3):\n",
    "    final_dataset = pd.merge(df1, df2 , on=merge_key2)\n",
    "    final_dataset = pd.merge(final_dataset,df3,on=merge_key3)\n",
    "    \n",
    "    print(\"Merge Successful!\")\n",
    "    \n",
    "\n",
    "    return final_dataset"
   ]
  },
  {
   "cell_type": "code",
   "execution_count": 48,
   "metadata": {},
   "outputs": [
    {
     "name": "stdout",
     "output_type": "stream",
     "text": [
      "Merge Successful!\n"
     ]
    }
   ],
   "source": [
    "prepared_df =  merge_data(stg_transcript,stg_portfolio,['offer_id'],stg_profile,['customer_id'])"
   ]
  },
  {
   "cell_type": "markdown",
   "metadata": {},
   "source": [
    "As a result of this cleanse and preparation, we obtained our final dataset that will be used for feature engineering."
   ]
  },
  {
   "cell_type": "markdown",
   "metadata": {},
   "source": [
    "## C) Exploratory analysis and feature engineer"
   ]
  },
  {
   "cell_type": "markdown",
   "metadata": {},
   "source": [
    "With the clean, pre-prepared and consolidated final dataset, we can start explore the data and its correlations, with more descriptive analysis in order to ease the efforts choosing featured information to create our train and test datasets.\n",
    "\n",
    "It may be necessary to create dummies and even model our data a bit. However, we will now have a final staged dataset that has had its integrity guaranteed by parts 'A' and 'B'."
   ]
  },
  {
   "cell_type": "code",
   "execution_count": 49,
   "metadata": {},
   "outputs": [
    {
     "data": {
      "text/plain": [
       "array(['bogo', 'informational', 'discount'], dtype=object)"
      ]
     },
     "execution_count": 49,
     "metadata": {},
     "output_type": "execute_result"
    }
   ],
   "source": [
    "prepared_df.offer_type.unique()\n"
   ]
  },
  {
   "cell_type": "code",
   "execution_count": 50,
   "metadata": {},
   "outputs": [
    {
     "data": {
      "text/plain": [
       "array(['offer received', 'offer viewed', 'offer completed'], dtype=object)"
      ]
     },
     "execution_count": 50,
     "metadata": {},
     "output_type": "execute_result"
    }
   ],
   "source": [
    "prepared_df.event.unique()"
   ]
  },
  {
   "cell_type": "code",
   "execution_count": 51,
   "metadata": {},
   "outputs": [
    {
     "data": {
      "text/html": [
       "<div>\n",
       "<style scoped>\n",
       "    .dataframe tbody tr th:only-of-type {\n",
       "        vertical-align: middle;\n",
       "    }\n",
       "\n",
       "    .dataframe tbody tr th {\n",
       "        vertical-align: top;\n",
       "    }\n",
       "\n",
       "    .dataframe thead th {\n",
       "        text-align: right;\n",
       "    }\n",
       "</style>\n",
       "<table border=\"1\" class=\"dataframe\">\n",
       "  <thead>\n",
       "    <tr style=\"text-align: right;\">\n",
       "      <th></th>\n",
       "      <th>time</th>\n",
       "      <th>reward</th>\n",
       "      <th>amount</th>\n",
       "      <th>offer_difficulty</th>\n",
       "      <th>offer_duration</th>\n",
       "      <th>offer_reward</th>\n",
       "      <th>customer_age</th>\n",
       "      <th>customer_income</th>\n",
       "    </tr>\n",
       "  </thead>\n",
       "  <tbody>\n",
       "    <tr>\n",
       "      <th>count</th>\n",
       "      <td>148805.000000</td>\n",
       "      <td>148805.000000</td>\n",
       "      <td>148805.0</td>\n",
       "      <td>148805.000000</td>\n",
       "      <td>148805.000000</td>\n",
       "      <td>148805.000000</td>\n",
       "      <td>148805.000000</td>\n",
       "      <td>148805.000000</td>\n",
       "    </tr>\n",
       "    <tr>\n",
       "      <th>mean</th>\n",
       "      <td>354.570223</td>\n",
       "      <td>1.078868</td>\n",
       "      <td>0.0</td>\n",
       "      <td>7.890561</td>\n",
       "      <td>6.625207</td>\n",
       "      <td>4.442445</td>\n",
       "      <td>54.779282</td>\n",
       "      <td>66414.119149</td>\n",
       "    </tr>\n",
       "    <tr>\n",
       "      <th>std</th>\n",
       "      <td>198.311301</td>\n",
       "      <td>2.452545</td>\n",
       "      <td>0.0</td>\n",
       "      <td>5.041335</td>\n",
       "      <td>2.133035</td>\n",
       "      <td>3.372362</td>\n",
       "      <td>17.193533</td>\n",
       "      <td>21496.947967</td>\n",
       "    </tr>\n",
       "    <tr>\n",
       "      <th>min</th>\n",
       "      <td>0.000000</td>\n",
       "      <td>0.000000</td>\n",
       "      <td>0.0</td>\n",
       "      <td>0.000000</td>\n",
       "      <td>3.000000</td>\n",
       "      <td>0.000000</td>\n",
       "      <td>18.000000</td>\n",
       "      <td>30000.000000</td>\n",
       "    </tr>\n",
       "    <tr>\n",
       "      <th>25%</th>\n",
       "      <td>168.000000</td>\n",
       "      <td>0.000000</td>\n",
       "      <td>0.0</td>\n",
       "      <td>5.000000</td>\n",
       "      <td>5.000000</td>\n",
       "      <td>2.000000</td>\n",
       "      <td>43.000000</td>\n",
       "      <td>51000.000000</td>\n",
       "    </tr>\n",
       "    <tr>\n",
       "      <th>50%</th>\n",
       "      <td>408.000000</td>\n",
       "      <td>0.000000</td>\n",
       "      <td>0.0</td>\n",
       "      <td>10.000000</td>\n",
       "      <td>7.000000</td>\n",
       "      <td>5.000000</td>\n",
       "      <td>56.000000</td>\n",
       "      <td>65000.000000</td>\n",
       "    </tr>\n",
       "    <tr>\n",
       "      <th>75%</th>\n",
       "      <td>510.000000</td>\n",
       "      <td>0.000000</td>\n",
       "      <td>0.0</td>\n",
       "      <td>10.000000</td>\n",
       "      <td>7.000000</td>\n",
       "      <td>5.000000</td>\n",
       "      <td>67.000000</td>\n",
       "      <td>81000.000000</td>\n",
       "    </tr>\n",
       "    <tr>\n",
       "      <th>max</th>\n",
       "      <td>714.000000</td>\n",
       "      <td>10.000000</td>\n",
       "      <td>0.0</td>\n",
       "      <td>20.000000</td>\n",
       "      <td>10.000000</td>\n",
       "      <td>10.000000</td>\n",
       "      <td>101.000000</td>\n",
       "      <td>120000.000000</td>\n",
       "    </tr>\n",
       "  </tbody>\n",
       "</table>\n",
       "</div>"
      ],
      "text/plain": [
       "                time         reward    amount  offer_difficulty  \\\n",
       "count  148805.000000  148805.000000  148805.0     148805.000000   \n",
       "mean      354.570223       1.078868       0.0          7.890561   \n",
       "std       198.311301       2.452545       0.0          5.041335   \n",
       "min         0.000000       0.000000       0.0          0.000000   \n",
       "25%       168.000000       0.000000       0.0          5.000000   \n",
       "50%       408.000000       0.000000       0.0         10.000000   \n",
       "75%       510.000000       0.000000       0.0         10.000000   \n",
       "max       714.000000      10.000000       0.0         20.000000   \n",
       "\n",
       "       offer_duration   offer_reward   customer_age  customer_income  \n",
       "count   148805.000000  148805.000000  148805.000000    148805.000000  \n",
       "mean         6.625207       4.442445      54.779282     66414.119149  \n",
       "std          2.133035       3.372362      17.193533     21496.947967  \n",
       "min          3.000000       0.000000      18.000000     30000.000000  \n",
       "25%          5.000000       2.000000      43.000000     51000.000000  \n",
       "50%          7.000000       5.000000      56.000000     65000.000000  \n",
       "75%          7.000000       5.000000      67.000000     81000.000000  \n",
       "max         10.000000      10.000000     101.000000    120000.000000  "
      ]
     },
     "execution_count": 51,
     "metadata": {},
     "output_type": "execute_result"
    }
   ],
   "source": [
    "prepared_df.describe()"
   ]
  },
  {
   "cell_type": "code",
   "execution_count": 52,
   "metadata": {},
   "outputs": [
    {
     "name": "stdout",
     "output_type": "stream",
     "text": [
      "<class 'pandas.core.frame.DataFrame'>\n",
      "Int64Index: 148805 entries, 0 to 148804\n",
      "Data columns (total 16 columns):\n",
      "event               148805 non-null object\n",
      "customer_id         148805 non-null object\n",
      "time                148805 non-null int64\n",
      "offer_id            148805 non-null object\n",
      "reward              148805 non-null float64\n",
      "amount              148805 non-null float64\n",
      "channels            148805 non-null object\n",
      "offer_difficulty    148805 non-null int64\n",
      "offer_duration      148805 non-null int64\n",
      "offer_type          148805 non-null object\n",
      "offer_reward        148805 non-null int64\n",
      "customer_age        148805 non-null int64\n",
      "became_member_on    148805 non-null datetime64[ns]\n",
      "customer_gender     148805 non-null object\n",
      "customer_income     148805 non-null float64\n",
      "age_group           126955 non-null object\n",
      "dtypes: datetime64[ns](1), float64(3), int64(5), object(7)\n",
      "memory usage: 19.3+ MB\n"
     ]
    }
   ],
   "source": [
    "prepared_df.info()"
   ]
  },
  {
   "cell_type": "markdown",
   "metadata": {},
   "source": [
    "### C.1) Exploratory Analysis"
   ]
  },
  {
   "cell_type": "markdown",
   "metadata": {},
   "source": [
    "#### Gender customer participation:"
   ]
  },
  {
   "cell_type": "code",
   "execution_count": 53,
   "metadata": {},
   "outputs": [
    {
     "name": "stdout",
     "output_type": "stream",
     "text": [
      "36.05294117647059\n",
      "49.90588235294118\n",
      "1.2470588235294118\n",
      "[42.82046974228017, 55.707805517287724, 1.4717247404321092]\n"
     ]
    }
   ],
   "source": [
    "\n",
    "percent_f = (len(prepared_df[prepared_df['customer_gender']=='F'])/len(prepared_df['customer_gender']))*100\n",
    "print(percent_female)\n",
    "\n",
    "percent_m = (len(prepared_df[prepared_df['customer_gender']=='M'])/len(prepared_df['customer_gender']))*100\n",
    "print(percent_male)\n",
    "\n",
    "percent_o = (len(prepared_df[prepared_df['customer_gender']=='O'])/len(prepared_df['customer_gender']))*100\n",
    "print(percent_others)\n",
    "\n",
    "list_gender = [percent_f, percent_m, percent_o]\n",
    "labels = ['Female', 'Male', 'Others']\n",
    "print(list_gender)\n",
    "\n",
    "\n"
   ]
  },
  {
   "cell_type": "code",
   "execution_count": 54,
   "metadata": {},
   "outputs": [
    {
     "data": {
      "image/png": "[encoded data removed]",
      "text/plain": [
       "<matplotlib.figure.Figure at 0x7fbb956a6dd8>"
      ]
     },
     "metadata": {},
     "output_type": "display_data"
    }
   ],
   "source": [
    "\n",
    "\n",
    "# Pie chart, where the slices will be ordered and plotted counter-clockwise:\n",
    "\n",
    "fig1, ax1 = plt.subplots()\n",
    "ax1.pie(list_gender, labels=labels, autopct='%1.1f%%',\n",
    "        shadow=False)\n",
    "ax1.axis('equal')  # Equal aspect ratio ensures that pie is drawn as a circle.\n",
    "\n",
    "plt.show()"
   ]
  },
  {
   "cell_type": "markdown",
   "metadata": {},
   "source": [
    "As the first data adequation found in the previous step, the outlier data was removed from the modelling in order to do not skew the train datasets."
   ]
  },
  {
   "cell_type": "markdown",
   "metadata": {},
   "source": [
    "#### Income Distribution"
   ]
  },
  {
   "cell_type": "code",
   "execution_count": 55,
   "metadata": {},
   "outputs": [
    {
     "data": {
      "text/plain": [
       "<matplotlib.axes._subplots.AxesSubplot at 0x7fbb956b12b0>"
      ]
     },
     "execution_count": 55,
     "metadata": {},
     "output_type": "execute_result"
    },
    {
     "data": {
      "image/png": "[encoded data removed]",
      "text/plain": [
       "<matplotlib.figure.Figure at 0x7fbb879b5d68>"
      ]
     },
     "metadata": {},
     "output_type": "display_data"
    }
   ],
   "source": [
    "sns.distplot(prepared_df['customer_income'], bins=50, hist_kws={'alpha': 0.4})"
   ]
  },
  {
   "cell_type": "markdown",
   "metadata": {},
   "source": [
    "For a better modeling, this should be standardized for better train results."
   ]
  },
  {
   "cell_type": "code",
   "execution_count": 56,
   "metadata": {},
   "outputs": [
    {
     "data": {
      "text/plain": [
       "65000.0"
      ]
     },
     "execution_count": 56,
     "metadata": {},
     "output_type": "execute_result"
    }
   ],
   "source": [
    "prepared_df['customer_income'].median()"
   ]
  },
  {
   "cell_type": "code",
   "execution_count": 57,
   "metadata": {},
   "outputs": [
    {
     "data": {
      "image/png": "[encoded data removed]",
      "text/plain": [
       "<matplotlib.figure.Figure at 0x7fbb956aeeb8>"
      ]
     },
     "metadata": {},
     "output_type": "display_data"
    }
   ],
   "source": [
    "ax = sns.violinplot(x=\"age_group\",y=\"customer_income\", data=prepared_df)"
   ]
  },
  {
   "cell_type": "code",
   "execution_count": 58,
   "metadata": {},
   "outputs": [
    {
     "data": {
      "text/html": [
       "<div>\n",
       "<style scoped>\n",
       "    .dataframe tbody tr th:only-of-type {\n",
       "        vertical-align: middle;\n",
       "    }\n",
       "\n",
       "    .dataframe tbody tr th {\n",
       "        vertical-align: top;\n",
       "    }\n",
       "\n",
       "    .dataframe thead th {\n",
       "        text-align: right;\n",
       "    }\n",
       "</style>\n",
       "<table border=\"1\" class=\"dataframe\">\n",
       "  <thead>\n",
       "    <tr style=\"text-align: right;\">\n",
       "      <th></th>\n",
       "      <th>time</th>\n",
       "      <th>reward</th>\n",
       "      <th>amount</th>\n",
       "      <th>offer_difficulty</th>\n",
       "      <th>offer_duration</th>\n",
       "      <th>offer_reward</th>\n",
       "      <th>customer_age</th>\n",
       "      <th>customer_income</th>\n",
       "    </tr>\n",
       "    <tr>\n",
       "      <th>age_group</th>\n",
       "      <th></th>\n",
       "      <th></th>\n",
       "      <th></th>\n",
       "      <th></th>\n",
       "      <th></th>\n",
       "      <th></th>\n",
       "      <th></th>\n",
       "      <th></th>\n",
       "    </tr>\n",
       "  </thead>\n",
       "  <tbody>\n",
       "    <tr>\n",
       "      <th>19-28</th>\n",
       "      <td>408</td>\n",
       "      <td>0.0</td>\n",
       "      <td>0.0</td>\n",
       "      <td>10</td>\n",
       "      <td>7</td>\n",
       "      <td>3</td>\n",
       "      <td>24</td>\n",
       "      <td>50000.0</td>\n",
       "    </tr>\n",
       "    <tr>\n",
       "      <th>29-38</th>\n",
       "      <td>408</td>\n",
       "      <td>0.0</td>\n",
       "      <td>0.0</td>\n",
       "      <td>10</td>\n",
       "      <td>7</td>\n",
       "      <td>5</td>\n",
       "      <td>34</td>\n",
       "      <td>52000.0</td>\n",
       "    </tr>\n",
       "    <tr>\n",
       "      <th>49-58</th>\n",
       "      <td>408</td>\n",
       "      <td>0.0</td>\n",
       "      <td>0.0</td>\n",
       "      <td>10</td>\n",
       "      <td>7</td>\n",
       "      <td>5</td>\n",
       "      <td>54</td>\n",
       "      <td>72000.0</td>\n",
       "    </tr>\n",
       "    <tr>\n",
       "      <th>59-68</th>\n",
       "      <td>408</td>\n",
       "      <td>0.0</td>\n",
       "      <td>0.0</td>\n",
       "      <td>10</td>\n",
       "      <td>7</td>\n",
       "      <td>5</td>\n",
       "      <td>63</td>\n",
       "      <td>71000.0</td>\n",
       "    </tr>\n",
       "    <tr>\n",
       "      <th>69-78</th>\n",
       "      <td>408</td>\n",
       "      <td>0.0</td>\n",
       "      <td>0.0</td>\n",
       "      <td>10</td>\n",
       "      <td>7</td>\n",
       "      <td>5</td>\n",
       "      <td>73</td>\n",
       "      <td>71000.0</td>\n",
       "    </tr>\n",
       "    <tr>\n",
       "      <th>79-88</th>\n",
       "      <td>408</td>\n",
       "      <td>0.0</td>\n",
       "      <td>0.0</td>\n",
       "      <td>10</td>\n",
       "      <td>7</td>\n",
       "      <td>5</td>\n",
       "      <td>82</td>\n",
       "      <td>72000.0</td>\n",
       "    </tr>\n",
       "    <tr>\n",
       "      <th>Above 89</th>\n",
       "      <td>408</td>\n",
       "      <td>0.0</td>\n",
       "      <td>0.0</td>\n",
       "      <td>10</td>\n",
       "      <td>7</td>\n",
       "      <td>5</td>\n",
       "      <td>92</td>\n",
       "      <td>72000.0</td>\n",
       "    </tr>\n",
       "    <tr>\n",
       "      <th>Until 18</th>\n",
       "      <td>408</td>\n",
       "      <td>0.0</td>\n",
       "      <td>0.0</td>\n",
       "      <td>7</td>\n",
       "      <td>7</td>\n",
       "      <td>5</td>\n",
       "      <td>18</td>\n",
       "      <td>49000.0</td>\n",
       "    </tr>\n",
       "  </tbody>\n",
       "</table>\n",
       "</div>"
      ],
      "text/plain": [
       "           time  reward  amount  offer_difficulty  offer_duration  \\\n",
       "age_group                                                           \n",
       "19-28       408     0.0     0.0                10               7   \n",
       "29-38       408     0.0     0.0                10               7   \n",
       "49-58       408     0.0     0.0                10               7   \n",
       "59-68       408     0.0     0.0                10               7   \n",
       "69-78       408     0.0     0.0                10               7   \n",
       "79-88       408     0.0     0.0                10               7   \n",
       "Above 89    408     0.0     0.0                10               7   \n",
       "Until 18    408     0.0     0.0                 7               7   \n",
       "\n",
       "           offer_reward  customer_age  customer_income  \n",
       "age_group                                               \n",
       "19-28                 3            24          50000.0  \n",
       "29-38                 5            34          52000.0  \n",
       "49-58                 5            54          72000.0  \n",
       "59-68                 5            63          71000.0  \n",
       "69-78                 5            73          71000.0  \n",
       "79-88                 5            82          72000.0  \n",
       "Above 89              5            92          72000.0  \n",
       "Until 18              5            18          49000.0  "
      ]
     },
     "execution_count": 58,
     "metadata": {},
     "output_type": "execute_result"
    }
   ],
   "source": [
    "prepared_df.groupby('age_group').median()"
   ]
  },
  {
   "cell_type": "code",
   "execution_count": 59,
   "metadata": {},
   "outputs": [
    {
     "data": {
      "text/html": [
       "<div>\n",
       "<style scoped>\n",
       "    .dataframe tbody tr th:only-of-type {\n",
       "        vertical-align: middle;\n",
       "    }\n",
       "\n",
       "    .dataframe tbody tr th {\n",
       "        vertical-align: top;\n",
       "    }\n",
       "\n",
       "    .dataframe thead th {\n",
       "        text-align: right;\n",
       "    }\n",
       "</style>\n",
       "<table border=\"1\" class=\"dataframe\">\n",
       "  <thead>\n",
       "    <tr style=\"text-align: right;\">\n",
       "      <th></th>\n",
       "      <th>time</th>\n",
       "      <th>reward</th>\n",
       "      <th>amount</th>\n",
       "      <th>offer_difficulty</th>\n",
       "      <th>offer_duration</th>\n",
       "      <th>offer_reward</th>\n",
       "      <th>customer_age</th>\n",
       "      <th>customer_income</th>\n",
       "    </tr>\n",
       "    <tr>\n",
       "      <th>age_group</th>\n",
       "      <th></th>\n",
       "      <th></th>\n",
       "      <th></th>\n",
       "      <th></th>\n",
       "      <th></th>\n",
       "      <th></th>\n",
       "      <th></th>\n",
       "      <th></th>\n",
       "    </tr>\n",
       "  </thead>\n",
       "  <tbody>\n",
       "    <tr>\n",
       "      <th>19-28</th>\n",
       "      <td>351.644403</td>\n",
       "      <td>0.840819</td>\n",
       "      <td>0.0</td>\n",
       "      <td>7.748662</td>\n",
       "      <td>6.578621</td>\n",
       "      <td>4.431309</td>\n",
       "      <td>23.624777</td>\n",
       "      <td>51322.628190</td>\n",
       "    </tr>\n",
       "    <tr>\n",
       "      <th>29-38</th>\n",
       "      <td>353.653838</td>\n",
       "      <td>0.952546</td>\n",
       "      <td>0.0</td>\n",
       "      <td>7.814137</td>\n",
       "      <td>6.618600</td>\n",
       "      <td>4.445661</td>\n",
       "      <td>33.960314</td>\n",
       "      <td>53369.182967</td>\n",
       "    </tr>\n",
       "    <tr>\n",
       "      <th>49-58</th>\n",
       "      <td>354.329444</td>\n",
       "      <td>1.142167</td>\n",
       "      <td>0.0</td>\n",
       "      <td>7.942218</td>\n",
       "      <td>6.640799</td>\n",
       "      <td>4.431247</td>\n",
       "      <td>53.690598</td>\n",
       "      <td>71624.692943</td>\n",
       "    </tr>\n",
       "    <tr>\n",
       "      <th>59-68</th>\n",
       "      <td>354.855572</td>\n",
       "      <td>1.126197</td>\n",
       "      <td>0.0</td>\n",
       "      <td>7.961547</td>\n",
       "      <td>6.660084</td>\n",
       "      <td>4.441404</td>\n",
       "      <td>63.286676</td>\n",
       "      <td>70851.274922</td>\n",
       "    </tr>\n",
       "    <tr>\n",
       "      <th>69-78</th>\n",
       "      <td>356.088903</td>\n",
       "      <td>1.123511</td>\n",
       "      <td>0.0</td>\n",
       "      <td>7.889804</td>\n",
       "      <td>6.618433</td>\n",
       "      <td>4.438711</td>\n",
       "      <td>72.911512</td>\n",
       "      <td>71497.254171</td>\n",
       "    </tr>\n",
       "    <tr>\n",
       "      <th>79-88</th>\n",
       "      <td>357.104373</td>\n",
       "      <td>1.177009</td>\n",
       "      <td>0.0</td>\n",
       "      <td>7.805213</td>\n",
       "      <td>6.584578</td>\n",
       "      <td>4.413458</td>\n",
       "      <td>82.801505</td>\n",
       "      <td>72621.878067</td>\n",
       "    </tr>\n",
       "    <tr>\n",
       "      <th>Above 89</th>\n",
       "      <td>358.475843</td>\n",
       "      <td>1.177454</td>\n",
       "      <td>0.0</td>\n",
       "      <td>7.966576</td>\n",
       "      <td>6.610149</td>\n",
       "      <td>4.529626</td>\n",
       "      <td>92.539654</td>\n",
       "      <td>71976.906715</td>\n",
       "    </tr>\n",
       "    <tr>\n",
       "      <th>Until 18</th>\n",
       "      <td>359.362275</td>\n",
       "      <td>0.874251</td>\n",
       "      <td>0.0</td>\n",
       "      <td>7.323353</td>\n",
       "      <td>6.362275</td>\n",
       "      <td>4.252994</td>\n",
       "      <td>18.000000</td>\n",
       "      <td>50380.239521</td>\n",
       "    </tr>\n",
       "  </tbody>\n",
       "</table>\n",
       "</div>"
      ],
      "text/plain": [
       "                 time    reward  amount  offer_difficulty  offer_duration  \\\n",
       "age_group                                                                   \n",
       "19-28      351.644403  0.840819     0.0          7.748662        6.578621   \n",
       "29-38      353.653838  0.952546     0.0          7.814137        6.618600   \n",
       "49-58      354.329444  1.142167     0.0          7.942218        6.640799   \n",
       "59-68      354.855572  1.126197     0.0          7.961547        6.660084   \n",
       "69-78      356.088903  1.123511     0.0          7.889804        6.618433   \n",
       "79-88      357.104373  1.177009     0.0          7.805213        6.584578   \n",
       "Above 89   358.475843  1.177454     0.0          7.966576        6.610149   \n",
       "Until 18   359.362275  0.874251     0.0          7.323353        6.362275   \n",
       "\n",
       "           offer_reward  customer_age  customer_income  \n",
       "age_group                                               \n",
       "19-28          4.431309     23.624777     51322.628190  \n",
       "29-38          4.445661     33.960314     53369.182967  \n",
       "49-58          4.431247     53.690598     71624.692943  \n",
       "59-68          4.441404     63.286676     70851.274922  \n",
       "69-78          4.438711     72.911512     71497.254171  \n",
       "79-88          4.413458     82.801505     72621.878067  \n",
       "Above 89       4.529626     92.539654     71976.906715  \n",
       "Until 18       4.252994     18.000000     50380.239521  "
      ]
     },
     "execution_count": 59,
     "metadata": {},
     "output_type": "execute_result"
    }
   ],
   "source": [
    "prepared_df.groupby('age_group').mean()"
   ]
  },
  {
   "cell_type": "markdown",
   "metadata": {},
   "source": [
    "##### Findings:\n",
    "\n",
    "Our general median income is 65,000.00.\n",
    "The customer income differs by age group where older groups presents more median income."
   ]
  },
  {
   "cell_type": "markdown",
   "metadata": {},
   "source": [
    "##### Offer Distribution:"
   ]
  },
  {
   "cell_type": "code",
   "execution_count": 60,
   "metadata": {},
   "outputs": [
    {
     "name": "stdout",
     "output_type": "stream",
     "text": [
      "76277\n",
      "42.89775209166359\n",
      "57725\n",
      "15.227982930681092\n",
      "138953\n",
      "41.87426497765532\n"
     ]
    }
   ],
   "source": [
    "offer_type_bogo = len(prepared_df[prepared_df['offer_type'] == 'bogo'])\n",
    "offer_type_bogo_percent = (len(prepared_df[prepared_df['offer_type'] == 'bogo'])/len(prepared_df))*100\n",
    "print(transcript_offer_received_count)\n",
    "print(offer_type_bogo_percent)\n",
    "\n",
    "offer_type_info = len(prepared_df[prepared_df['offer_type'] == 'informational'])\n",
    "offer_type_info_percent = (len(prepared_df[prepared_df['offer_type'] == 'informational'])/len(prepared_df))*100\n",
    "print(transcript_offer_viewed_count)\n",
    "print(offer_type_info_percent)\n",
    "\n",
    "offer_type_disc = len(prepared_df[prepared_df['offer_type'] == 'discount'])\n",
    "offer_type_disc_percent = (len(prepared_df[prepared_df['offer_type'] == 'discount'])/len(prepared_df))*100\n",
    "print(transcript_transaction_count)\n",
    "print(offer_type_disc_percent)\n",
    "\n",
    "\n",
    "list_count_offers = [offer_type_bogo,offer_type_info,offer_type_disc]\n",
    "list_percent_offers =  [offer_type_bogo_percent,offer_type_info_percent,offer_type_disc_percent]\n",
    "description = ['BOGO', 'Info', 'Discount']"
   ]
  },
  {
   "cell_type": "code",
   "execution_count": 61,
   "metadata": {},
   "outputs": [
    {
     "data": {
      "image/png": "[encoded data removed]",
      "text/plain": [
       "<matplotlib.figure.Figure at 0x7fbb87fd9a20>"
      ]
     },
     "metadata": {},
     "output_type": "display_data"
    }
   ],
   "source": [
    "plt.rcdefaults()\n",
    "fig, ax = plt.subplots(1, 2, figsize=(15, 8))\n",
    "\n",
    "ypos = np.arange(len(description))\n",
    "##Bar plot to count registers \n",
    "ax[0].barh(ypos, list_count_offers, align='center')\n",
    "ax[0].set_yticks(np.arange(len(description)))\n",
    "ax[0].set_yticklabels(description)\n",
    "ax[0].invert_yaxis()  # labels read top-to-bottom\n",
    "\n",
    "#Pie plot to show offer share\n",
    "ax[1].pie(list_percent_offers, labels=description, autopct='%1.1f%%',\n",
    "        shadow=False)\n",
    "ax[1].axis('equal')  # Equal aspect ratio ensures that pie is drawn as a circle.\n",
    "\n",
    "plt.show()\n"
   ]
  },
  {
   "cell_type": "code",
   "execution_count": 62,
   "metadata": {},
   "outputs": [
    {
     "data": {
      "text/plain": [
       "<matplotlib.axes._subplots.AxesSubplot at 0x7fbb87f6fda0>"
      ]
     },
     "execution_count": 62,
     "metadata": {},
     "output_type": "execute_result"
    },
    {
     "data": {
      "image/png": "[encoded data removed]",
      "text/plain": [
       "<matplotlib.figure.Figure at 0x7fbb880ce470>"
      ]
     },
     "metadata": {},
     "output_type": "display_data"
    }
   ],
   "source": [
    "fig, axes = plt.subplots(2, 1, figsize=(22, 17))\n",
    "\n",
    "fig.suptitle(\"Offers by customer's income and age\")\n",
    "\n",
    "sns.boxplot(ax=axes[0], data=prepared_df, x='offer_type', y='customer_age', hue = 'customer_gender')\n",
    "sns.boxplot(ax=axes[1], data=prepared_df, x='offer_type', y='customer_income',hue = 'customer_gender')"
   ]
  },
  {
   "cell_type": "code",
   "execution_count": 63,
   "metadata": {},
   "outputs": [
    {
     "data": {
      "text/html": [
       "<div>\n",
       "<style scoped>\n",
       "    .dataframe tbody tr th:only-of-type {\n",
       "        vertical-align: middle;\n",
       "    }\n",
       "\n",
       "    .dataframe tbody tr th {\n",
       "        vertical-align: top;\n",
       "    }\n",
       "\n",
       "    .dataframe thead th {\n",
       "        text-align: right;\n",
       "    }\n",
       "</style>\n",
       "<table border=\"1\" class=\"dataframe\">\n",
       "  <thead>\n",
       "    <tr style=\"text-align: right;\">\n",
       "      <th></th>\n",
       "      <th>time</th>\n",
       "      <th>reward</th>\n",
       "      <th>amount</th>\n",
       "      <th>offer_difficulty</th>\n",
       "      <th>offer_duration</th>\n",
       "      <th>offer_reward</th>\n",
       "      <th>customer_age</th>\n",
       "      <th>customer_income</th>\n",
       "    </tr>\n",
       "    <tr>\n",
       "      <th>offer_type</th>\n",
       "      <th></th>\n",
       "      <th></th>\n",
       "      <th></th>\n",
       "      <th></th>\n",
       "      <th></th>\n",
       "      <th></th>\n",
       "      <th></th>\n",
       "      <th></th>\n",
       "    </tr>\n",
       "  </thead>\n",
       "  <tbody>\n",
       "    <tr>\n",
       "      <th>bogo</th>\n",
       "      <td>408</td>\n",
       "      <td>0.0</td>\n",
       "      <td>0.0</td>\n",
       "      <td>10</td>\n",
       "      <td>5</td>\n",
       "      <td>10</td>\n",
       "      <td>56</td>\n",
       "      <td>65000.0</td>\n",
       "    </tr>\n",
       "    <tr>\n",
       "      <th>discount</th>\n",
       "      <td>408</td>\n",
       "      <td>0.0</td>\n",
       "      <td>0.0</td>\n",
       "      <td>10</td>\n",
       "      <td>7</td>\n",
       "      <td>2</td>\n",
       "      <td>56</td>\n",
       "      <td>65000.0</td>\n",
       "    </tr>\n",
       "    <tr>\n",
       "      <th>informational</th>\n",
       "      <td>402</td>\n",
       "      <td>0.0</td>\n",
       "      <td>0.0</td>\n",
       "      <td>0</td>\n",
       "      <td>3</td>\n",
       "      <td>0</td>\n",
       "      <td>55</td>\n",
       "      <td>64000.0</td>\n",
       "    </tr>\n",
       "  </tbody>\n",
       "</table>\n",
       "</div>"
      ],
      "text/plain": [
       "               time  reward  amount  offer_difficulty  offer_duration  \\\n",
       "offer_type                                                              \n",
       "bogo            408     0.0     0.0                10               5   \n",
       "discount        408     0.0     0.0                10               7   \n",
       "informational   402     0.0     0.0                 0               3   \n",
       "\n",
       "               offer_reward  customer_age  customer_income  \n",
       "offer_type                                                  \n",
       "bogo                     10            56          65000.0  \n",
       "discount                  2            56          65000.0  \n",
       "informational             0            55          64000.0  "
      ]
     },
     "execution_count": 63,
     "metadata": {},
     "output_type": "execute_result"
    }
   ],
   "source": [
    "prepared_df.groupby(['offer_type']).median()"
   ]
  },
  {
   "cell_type": "code",
   "execution_count": 64,
   "metadata": {},
   "outputs": [
    {
     "data": {
      "text/html": [
       "<div>\n",
       "<style scoped>\n",
       "    .dataframe tbody tr th:only-of-type {\n",
       "        vertical-align: middle;\n",
       "    }\n",
       "\n",
       "    .dataframe tbody tr th {\n",
       "        vertical-align: top;\n",
       "    }\n",
       "\n",
       "    .dataframe thead th {\n",
       "        text-align: right;\n",
       "    }\n",
       "</style>\n",
       "<table border=\"1\" class=\"dataframe\">\n",
       "  <thead>\n",
       "    <tr style=\"text-align: right;\">\n",
       "      <th></th>\n",
       "      <th></th>\n",
       "      <th>time</th>\n",
       "      <th>reward</th>\n",
       "      <th>amount</th>\n",
       "      <th>offer_difficulty</th>\n",
       "      <th>offer_duration</th>\n",
       "      <th>offer_reward</th>\n",
       "      <th>customer_age</th>\n",
       "      <th>customer_income</th>\n",
       "    </tr>\n",
       "    <tr>\n",
       "      <th>offer_type</th>\n",
       "      <th>customer_gender</th>\n",
       "      <th></th>\n",
       "      <th></th>\n",
       "      <th></th>\n",
       "      <th></th>\n",
       "      <th></th>\n",
       "      <th></th>\n",
       "      <th></th>\n",
       "      <th></th>\n",
       "    </tr>\n",
       "  </thead>\n",
       "  <tbody>\n",
       "    <tr>\n",
       "      <th rowspan=\"3\" valign=\"top\">bogo</th>\n",
       "      <th>F</th>\n",
       "      <td>408</td>\n",
       "      <td>0.0</td>\n",
       "      <td>0.0</td>\n",
       "      <td>10</td>\n",
       "      <td>5</td>\n",
       "      <td>10</td>\n",
       "      <td>58</td>\n",
       "      <td>71000.0</td>\n",
       "    </tr>\n",
       "    <tr>\n",
       "      <th>M</th>\n",
       "      <td>408</td>\n",
       "      <td>0.0</td>\n",
       "      <td>0.0</td>\n",
       "      <td>10</td>\n",
       "      <td>5</td>\n",
       "      <td>10</td>\n",
       "      <td>54</td>\n",
       "      <td>61000.0</td>\n",
       "    </tr>\n",
       "    <tr>\n",
       "      <th>O</th>\n",
       "      <td>408</td>\n",
       "      <td>0.0</td>\n",
       "      <td>0.0</td>\n",
       "      <td>5</td>\n",
       "      <td>7</td>\n",
       "      <td>5</td>\n",
       "      <td>55</td>\n",
       "      <td>64000.0</td>\n",
       "    </tr>\n",
       "    <tr>\n",
       "      <th rowspan=\"3\" valign=\"top\">discount</th>\n",
       "      <th>F</th>\n",
       "      <td>408</td>\n",
       "      <td>0.0</td>\n",
       "      <td>0.0</td>\n",
       "      <td>10</td>\n",
       "      <td>7</td>\n",
       "      <td>2</td>\n",
       "      <td>58</td>\n",
       "      <td>72000.0</td>\n",
       "    </tr>\n",
       "    <tr>\n",
       "      <th>M</th>\n",
       "      <td>408</td>\n",
       "      <td>0.0</td>\n",
       "      <td>0.0</td>\n",
       "      <td>10</td>\n",
       "      <td>7</td>\n",
       "      <td>2</td>\n",
       "      <td>54</td>\n",
       "      <td>61000.0</td>\n",
       "    </tr>\n",
       "    <tr>\n",
       "      <th>O</th>\n",
       "      <td>390</td>\n",
       "      <td>0.0</td>\n",
       "      <td>0.0</td>\n",
       "      <td>10</td>\n",
       "      <td>7</td>\n",
       "      <td>3</td>\n",
       "      <td>56</td>\n",
       "      <td>64000.0</td>\n",
       "    </tr>\n",
       "    <tr>\n",
       "      <th rowspan=\"3\" valign=\"top\">informational</th>\n",
       "      <th>F</th>\n",
       "      <td>408</td>\n",
       "      <td>0.0</td>\n",
       "      <td>0.0</td>\n",
       "      <td>0</td>\n",
       "      <td>3</td>\n",
       "      <td>0</td>\n",
       "      <td>57</td>\n",
       "      <td>71000.0</td>\n",
       "    </tr>\n",
       "    <tr>\n",
       "      <th>M</th>\n",
       "      <td>396</td>\n",
       "      <td>0.0</td>\n",
       "      <td>0.0</td>\n",
       "      <td>0</td>\n",
       "      <td>3</td>\n",
       "      <td>0</td>\n",
       "      <td>53</td>\n",
       "      <td>59000.0</td>\n",
       "    </tr>\n",
       "    <tr>\n",
       "      <th>O</th>\n",
       "      <td>384</td>\n",
       "      <td>0.0</td>\n",
       "      <td>0.0</td>\n",
       "      <td>0</td>\n",
       "      <td>3</td>\n",
       "      <td>0</td>\n",
       "      <td>55</td>\n",
       "      <td>63000.0</td>\n",
       "    </tr>\n",
       "  </tbody>\n",
       "</table>\n",
       "</div>"
      ],
      "text/plain": [
       "                               time  reward  amount  offer_difficulty  \\\n",
       "offer_type    customer_gender                                           \n",
       "bogo          F                 408     0.0     0.0                10   \n",
       "              M                 408     0.0     0.0                10   \n",
       "              O                 408     0.0     0.0                 5   \n",
       "discount      F                 408     0.0     0.0                10   \n",
       "              M                 408     0.0     0.0                10   \n",
       "              O                 390     0.0     0.0                10   \n",
       "informational F                 408     0.0     0.0                 0   \n",
       "              M                 396     0.0     0.0                 0   \n",
       "              O                 384     0.0     0.0                 0   \n",
       "\n",
       "                               offer_duration  offer_reward  customer_age  \\\n",
       "offer_type    customer_gender                                               \n",
       "bogo          F                             5            10            58   \n",
       "              M                             5            10            54   \n",
       "              O                             7             5            55   \n",
       "discount      F                             7             2            58   \n",
       "              M                             7             2            54   \n",
       "              O                             7             3            56   \n",
       "informational F                             3             0            57   \n",
       "              M                             3             0            53   \n",
       "              O                             3             0            55   \n",
       "\n",
       "                               customer_income  \n",
       "offer_type    customer_gender                   \n",
       "bogo          F                        71000.0  \n",
       "              M                        61000.0  \n",
       "              O                        64000.0  \n",
       "discount      F                        72000.0  \n",
       "              M                        61000.0  \n",
       "              O                        64000.0  \n",
       "informational F                        71000.0  \n",
       "              M                        59000.0  \n",
       "              O                        63000.0  "
      ]
     },
     "execution_count": 64,
     "metadata": {},
     "output_type": "execute_result"
    }
   ],
   "source": [
    "prepared_df.groupby(['offer_type','customer_gender']).median()"
   ]
  },
  {
   "cell_type": "markdown",
   "metadata": {},
   "source": [
    "##### Findings:\n",
    "We have more presence of the same age groups on the offer types, however, BOGO and discount offers are more submitted by the app."
   ]
  },
  {
   "cell_type": "code",
   "execution_count": 65,
   "metadata": {},
   "outputs": [
    {
     "data": {
      "text/plain": [
       "<matplotlib.legend.Legend at 0x7fbb88100668>"
      ]
     },
     "execution_count": 65,
     "metadata": {},
     "output_type": "execute_result"
    },
    {
     "data": {
      "image/png": "[encoded data removed]",
      "text/plain": [
       "<matplotlib.figure.Figure at 0x7fbb87e68780>"
      ]
     },
     "metadata": {},
     "output_type": "display_data"
    }
   ],
   "source": [
    "plt.figure(figsize=(20, 5))\n",
    "sns.countplot(x= \"age_group\", hue= \"offer_type\", data=prepared_df)\n",
    "sns.set(style=\"whitegrid\")\n",
    "plt.title('Offer type by Age')\n",
    "plt.ylabel('Count')\n",
    "plt.xlabel('Offer Type')\n",
    "plt.legend(title='Age Group')"
   ]
  },
  {
   "cell_type": "markdown",
   "metadata": {},
   "source": [
    "##### Findings:\n",
    "'BOGO' (Buy-One-Get-One) and 'Discount' have similar distributions over submitted offers to the customers with median customer age user of 56 general and having some upper outliers on age for some group genders, and having male genders presenting upper outliers to its income."
   ]
  },
  {
   "cell_type": "markdown",
   "metadata": {},
   "source": [
    "#### Reward based on age distribution:"
   ]
  },
  {
   "cell_type": "code",
   "execution_count": 66,
   "metadata": {},
   "outputs": [
    {
     "data": {
      "text/plain": [
       "<matplotlib.legend.Legend at 0x7fbb87dd0940>"
      ]
     },
     "execution_count": 66,
     "metadata": {},
     "output_type": "execute_result"
    },
    {
     "data": {
      "image/png": "[encoded data removed]",
      "text/plain": [
       "<matplotlib.figure.Figure at 0x7fbb87de0f98>"
      ]
     },
     "metadata": {},
     "output_type": "display_data"
    }
   ],
   "source": [
    "plt.figure(figsize=(20, 5))\n",
    "sns.barplot(x= \"reward\",y = 'customer_gender', hue= \"age_group\", data=prepared_df)\n",
    "sns.set(style=\"whitegrid\")\n",
    "plt.title('Reward received based on age distribution')\n",
    "plt.ylabel('Count')\n",
    "plt.xlabel('Amount Spent')\n",
    "plt.legend(title='Age Group')"
   ]
  },
  {
   "cell_type": "markdown",
   "metadata": {},
   "source": [
    "We can see for as general user case, it's enabled to say that users over 30 years holds more rewards received by completing offers. Females between 79 and 88, non-binary users above 89, and males between 49 and 58 have the most rewards prized by the app. This step leads us to analyse the events related."
   ]
  },
  {
   "cell_type": "markdown",
   "metadata": {},
   "source": [
    "#### Event by Age:"
   ]
  },
  {
   "cell_type": "code",
   "execution_count": 67,
   "metadata": {},
   "outputs": [
    {
     "data": {
      "text/plain": [
       "<matplotlib.legend.Legend at 0x7fbb87dd0ba8>"
      ]
     },
     "execution_count": 67,
     "metadata": {},
     "output_type": "execute_result"
    },
    {
     "data": {
      "image/png": "[encoded data removed]",
      "text/plain": [
       "<matplotlib.figure.Figure at 0x7fbb87da53c8>"
      ]
     },
     "metadata": {},
     "output_type": "display_data"
    }
   ],
   "source": [
    "plt.figure(figsize=(20, 5))\n",
    "sns.countplot(x= \"event\", hue= \"age_group\", data=prepared_df)\n",
    "sns.set(style=\"whitegrid\")\n",
    "plt.title('Event by Age')\n",
    "plt.ylabel('Count')\n",
    "plt.xlabel('Event')\n",
    "plt.legend(title='Age Group')"
   ]
  },
  {
   "cell_type": "markdown",
   "metadata": {},
   "source": [
    "##### Findings:\n",
    "People between 56 and 65 years tend to receive more, view more and complete more offers as well as it's possible to correlate it to the higher amount spent previouly shown."
   ]
  },
  {
   "cell_type": "code",
   "execution_count": 68,
   "metadata": {},
   "outputs": [
    {
     "data": {
      "text/plain": [
       "<matplotlib.legend.Legend at 0x7fbb87e68e10>"
      ]
     },
     "execution_count": 68,
     "metadata": {},
     "output_type": "execute_result"
    },
    {
     "data": {
      "image/png": "[encoded data removed]",
      "text/plain": [
       "<matplotlib.figure.Figure at 0x7fbb8800d438>"
      ]
     },
     "metadata": {},
     "output_type": "display_data"
    }
   ],
   "source": [
    "plt.figure(figsize=(20, 5))\n",
    "sns.countplot(x= \"event\", hue= \"offer_type\", data=prepared_df)\n",
    "sns.set(style=\"whitegrid\")\n",
    "plt.title('Distribution of age groups in events')\n",
    "plt.ylabel('Count')\n",
    "plt.xlabel('Event')\n",
    "plt.legend(title='Offer Type')"
   ]
  },
  {
   "cell_type": "code",
   "execution_count": 69,
   "metadata": {},
   "outputs": [
    {
     "data": {
      "text/plain": [
       "<matplotlib.legend.Legend at 0x7fbb8809c860>"
      ]
     },
     "execution_count": 69,
     "metadata": {},
     "output_type": "execute_result"
    },
    {
     "data": {
      "image/png": "[encoded data removed]",
      "text/plain": [
       "<matplotlib.figure.Figure at 0x7fbb880747b8>"
      ]
     },
     "metadata": {},
     "output_type": "display_data"
    }
   ],
   "source": [
    "plt.figure(figsize=(20, 5))\n",
    "sns.barplot(x= \"reward\",y = 'customer_gender', hue= \"offer_type\", data=prepared_df)\n",
    "sns.set(style=\"whitegrid\")\n",
    "plt.title('Reward received based on offer type')\n",
    "plt.ylabel('Count')\n",
    "plt.xlabel('Reward amount')\n",
    "plt.legend(title='Age Group')"
   ]
  },
  {
   "cell_type": "markdown",
   "metadata": {},
   "source": [
    "In General people in this dataset, people between 49 and 58 followed by people of age between 59-68 are the most frequent users also completing offers. Events considering the 'bogo' offers have more rewards."
   ]
  },
  {
   "cell_type": "markdown",
   "metadata": {},
   "source": [
    "### C.2) Feature Engineering"
   ]
  },
  {
   "cell_type": "markdown",
   "metadata": {},
   "source": [
    "With some possible compreenhesion from the final dataset, the feature engineer must be done to enable the modeling. For that it is needed to follow some steps:"
   ]
  },
  {
   "cell_type": "code",
   "execution_count": 70,
   "metadata": {},
   "outputs": [],
   "source": [
    "offers_encode = {'bogo': 0, 'discount': 1, 'informational': 2}\n",
    "prepared_df['offer_type'] = prepared_df['offer_type'].map(offers_encode)\n",
    "\n",
    "gender_encode = {'M': 0,'O':1,'F':2}\n",
    "prepared_df['customer_gender'] = prepared_df['customer_gender'].map(gender_encode)"
   ]
  },
  {
   "cell_type": "markdown",
   "metadata": {},
   "source": [
    "Encoded offers in order to to have a clean classitory analysis"
   ]
  },
  {
   "cell_type": "code",
   "execution_count": 71,
   "metadata": {},
   "outputs": [
    {
     "data": {
      "text/html": [
       "<div>\n",
       "<style scoped>\n",
       "    .dataframe tbody tr th:only-of-type {\n",
       "        vertical-align: middle;\n",
       "    }\n",
       "\n",
       "    .dataframe tbody tr th {\n",
       "        vertical-align: top;\n",
       "    }\n",
       "\n",
       "    .dataframe thead th {\n",
       "        text-align: right;\n",
       "    }\n",
       "</style>\n",
       "<table border=\"1\" class=\"dataframe\">\n",
       "  <thead>\n",
       "    <tr style=\"text-align: right;\">\n",
       "      <th></th>\n",
       "      <th>event</th>\n",
       "      <th>customer_id</th>\n",
       "      <th>time</th>\n",
       "      <th>offer_id</th>\n",
       "      <th>reward</th>\n",
       "      <th>amount</th>\n",
       "      <th>channels</th>\n",
       "      <th>offer_difficulty</th>\n",
       "      <th>offer_duration</th>\n",
       "      <th>offer_type</th>\n",
       "      <th>offer_reward</th>\n",
       "      <th>customer_age</th>\n",
       "      <th>became_member_on</th>\n",
       "      <th>customer_gender</th>\n",
       "      <th>customer_income</th>\n",
       "      <th>age_group</th>\n",
       "    </tr>\n",
       "  </thead>\n",
       "  <tbody>\n",
       "    <tr>\n",
       "      <th>0</th>\n",
       "      <td>offer received</td>\n",
       "      <td>78afa995795e4d85b5d9ceeca43f5fef</td>\n",
       "      <td>0</td>\n",
       "      <td>9b98b8c7a33c4b65b9aebfe6a799e6d9</td>\n",
       "      <td>0.0</td>\n",
       "      <td>0.0</td>\n",
       "      <td>[web, email, mobile]</td>\n",
       "      <td>5</td>\n",
       "      <td>7</td>\n",
       "      <td>0</td>\n",
       "      <td>5</td>\n",
       "      <td>75</td>\n",
       "      <td>2017-05-09</td>\n",
       "      <td>2</td>\n",
       "      <td>100000.0</td>\n",
       "      <td>69-78</td>\n",
       "    </tr>\n",
       "    <tr>\n",
       "      <th>1</th>\n",
       "      <td>offer viewed</td>\n",
       "      <td>78afa995795e4d85b5d9ceeca43f5fef</td>\n",
       "      <td>6</td>\n",
       "      <td>9b98b8c7a33c4b65b9aebfe6a799e6d9</td>\n",
       "      <td>0.0</td>\n",
       "      <td>0.0</td>\n",
       "      <td>[web, email, mobile]</td>\n",
       "      <td>5</td>\n",
       "      <td>7</td>\n",
       "      <td>0</td>\n",
       "      <td>5</td>\n",
       "      <td>75</td>\n",
       "      <td>2017-05-09</td>\n",
       "      <td>2</td>\n",
       "      <td>100000.0</td>\n",
       "      <td>69-78</td>\n",
       "    </tr>\n",
       "    <tr>\n",
       "      <th>2</th>\n",
       "      <td>offer completed</td>\n",
       "      <td>78afa995795e4d85b5d9ceeca43f5fef</td>\n",
       "      <td>132</td>\n",
       "      <td>9b98b8c7a33c4b65b9aebfe6a799e6d9</td>\n",
       "      <td>5.0</td>\n",
       "      <td>0.0</td>\n",
       "      <td>[web, email, mobile]</td>\n",
       "      <td>5</td>\n",
       "      <td>7</td>\n",
       "      <td>0</td>\n",
       "      <td>5</td>\n",
       "      <td>75</td>\n",
       "      <td>2017-05-09</td>\n",
       "      <td>2</td>\n",
       "      <td>100000.0</td>\n",
       "      <td>69-78</td>\n",
       "    </tr>\n",
       "    <tr>\n",
       "      <th>3</th>\n",
       "      <td>offer received</td>\n",
       "      <td>78afa995795e4d85b5d9ceeca43f5fef</td>\n",
       "      <td>504</td>\n",
       "      <td>f19421c1d4aa40978ebb69ca19b0e20d</td>\n",
       "      <td>0.0</td>\n",
       "      <td>0.0</td>\n",
       "      <td>[web, email, mobile, social]</td>\n",
       "      <td>5</td>\n",
       "      <td>5</td>\n",
       "      <td>0</td>\n",
       "      <td>5</td>\n",
       "      <td>75</td>\n",
       "      <td>2017-05-09</td>\n",
       "      <td>2</td>\n",
       "      <td>100000.0</td>\n",
       "      <td>69-78</td>\n",
       "    </tr>\n",
       "    <tr>\n",
       "      <th>4</th>\n",
       "      <td>offer completed</td>\n",
       "      <td>78afa995795e4d85b5d9ceeca43f5fef</td>\n",
       "      <td>510</td>\n",
       "      <td>f19421c1d4aa40978ebb69ca19b0e20d</td>\n",
       "      <td>5.0</td>\n",
       "      <td>0.0</td>\n",
       "      <td>[web, email, mobile, social]</td>\n",
       "      <td>5</td>\n",
       "      <td>5</td>\n",
       "      <td>0</td>\n",
       "      <td>5</td>\n",
       "      <td>75</td>\n",
       "      <td>2017-05-09</td>\n",
       "      <td>2</td>\n",
       "      <td>100000.0</td>\n",
       "      <td>69-78</td>\n",
       "    </tr>\n",
       "  </tbody>\n",
       "</table>\n",
       "</div>"
      ],
      "text/plain": [
       "             event                       customer_id  time  \\\n",
       "0   offer received  78afa995795e4d85b5d9ceeca43f5fef     0   \n",
       "1     offer viewed  78afa995795e4d85b5d9ceeca43f5fef     6   \n",
       "2  offer completed  78afa995795e4d85b5d9ceeca43f5fef   132   \n",
       "3   offer received  78afa995795e4d85b5d9ceeca43f5fef   504   \n",
       "4  offer completed  78afa995795e4d85b5d9ceeca43f5fef   510   \n",
       "\n",
       "                           offer_id  reward  amount  \\\n",
       "0  9b98b8c7a33c4b65b9aebfe6a799e6d9     0.0     0.0   \n",
       "1  9b98b8c7a33c4b65b9aebfe6a799e6d9     0.0     0.0   \n",
       "2  9b98b8c7a33c4b65b9aebfe6a799e6d9     5.0     0.0   \n",
       "3  f19421c1d4aa40978ebb69ca19b0e20d     0.0     0.0   \n",
       "4  f19421c1d4aa40978ebb69ca19b0e20d     5.0     0.0   \n",
       "\n",
       "                       channels  offer_difficulty  offer_duration  offer_type  \\\n",
       "0          [web, email, mobile]                 5               7           0   \n",
       "1          [web, email, mobile]                 5               7           0   \n",
       "2          [web, email, mobile]                 5               7           0   \n",
       "3  [web, email, mobile, social]                 5               5           0   \n",
       "4  [web, email, mobile, social]                 5               5           0   \n",
       "\n",
       "   offer_reward  customer_age became_member_on  customer_gender  \\\n",
       "0             5            75       2017-05-09                2   \n",
       "1             5            75       2017-05-09                2   \n",
       "2             5            75       2017-05-09                2   \n",
       "3             5            75       2017-05-09                2   \n",
       "4             5            75       2017-05-09                2   \n",
       "\n",
       "   customer_income age_group  \n",
       "0         100000.0     69-78  \n",
       "1         100000.0     69-78  \n",
       "2         100000.0     69-78  \n",
       "3         100000.0     69-78  \n",
       "4         100000.0     69-78  "
      ]
     },
     "execution_count": 71,
     "metadata": {},
     "output_type": "execute_result"
    }
   ],
   "source": [
    "prepared_df.head(5)"
   ]
  },
  {
   "cell_type": "markdown",
   "metadata": {},
   "source": [
    "To better modeling, it will be needed to create dummy variables to channel types and events. Also, a standardization must be done when splitted to train and test datasets."
   ]
  },
  {
   "cell_type": "code",
   "execution_count": 72,
   "metadata": {},
   "outputs": [],
   "source": [
    "dummy_channels = pd.get_dummies(prepared_df.channels.apply(pd.Series).stack()).sum(level=0)\n",
    "feature_df = pd.concat([prepared_df, dummy_channels], axis = 1)\n",
    "feature_df = feature_df.drop(columns='channels')"
   ]
  },
  {
   "cell_type": "code",
   "execution_count": 73,
   "metadata": {},
   "outputs": [
    {
     "data": {
      "text/html": [
       "<div>\n",
       "<style scoped>\n",
       "    .dataframe tbody tr th:only-of-type {\n",
       "        vertical-align: middle;\n",
       "    }\n",
       "\n",
       "    .dataframe tbody tr th {\n",
       "        vertical-align: top;\n",
       "    }\n",
       "\n",
       "    .dataframe thead th {\n",
       "        text-align: right;\n",
       "    }\n",
       "</style>\n",
       "<table border=\"1\" class=\"dataframe\">\n",
       "  <thead>\n",
       "    <tr style=\"text-align: right;\">\n",
       "      <th></th>\n",
       "      <th>event</th>\n",
       "      <th>customer_id</th>\n",
       "      <th>time</th>\n",
       "      <th>offer_id</th>\n",
       "      <th>reward</th>\n",
       "      <th>amount</th>\n",
       "      <th>offer_difficulty</th>\n",
       "      <th>offer_duration</th>\n",
       "      <th>offer_type</th>\n",
       "      <th>offer_reward</th>\n",
       "      <th>customer_age</th>\n",
       "      <th>became_member_on</th>\n",
       "      <th>customer_gender</th>\n",
       "      <th>customer_income</th>\n",
       "      <th>age_group</th>\n",
       "      <th>email</th>\n",
       "      <th>mobile</th>\n",
       "      <th>social</th>\n",
       "      <th>web</th>\n",
       "    </tr>\n",
       "  </thead>\n",
       "  <tbody>\n",
       "    <tr>\n",
       "      <th>0</th>\n",
       "      <td>offer received</td>\n",
       "      <td>78afa995795e4d85b5d9ceeca43f5fef</td>\n",
       "      <td>0</td>\n",
       "      <td>9b98b8c7a33c4b65b9aebfe6a799e6d9</td>\n",
       "      <td>0.0</td>\n",
       "      <td>0.0</td>\n",
       "      <td>5</td>\n",
       "      <td>7</td>\n",
       "      <td>0</td>\n",
       "      <td>5</td>\n",
       "      <td>75</td>\n",
       "      <td>2017-05-09</td>\n",
       "      <td>2</td>\n",
       "      <td>100000.0</td>\n",
       "      <td>69-78</td>\n",
       "      <td>1</td>\n",
       "      <td>1</td>\n",
       "      <td>0</td>\n",
       "      <td>1</td>\n",
       "    </tr>\n",
       "    <tr>\n",
       "      <th>1</th>\n",
       "      <td>offer viewed</td>\n",
       "      <td>78afa995795e4d85b5d9ceeca43f5fef</td>\n",
       "      <td>6</td>\n",
       "      <td>9b98b8c7a33c4b65b9aebfe6a799e6d9</td>\n",
       "      <td>0.0</td>\n",
       "      <td>0.0</td>\n",
       "      <td>5</td>\n",
       "      <td>7</td>\n",
       "      <td>0</td>\n",
       "      <td>5</td>\n",
       "      <td>75</td>\n",
       "      <td>2017-05-09</td>\n",
       "      <td>2</td>\n",
       "      <td>100000.0</td>\n",
       "      <td>69-78</td>\n",
       "      <td>1</td>\n",
       "      <td>1</td>\n",
       "      <td>0</td>\n",
       "      <td>1</td>\n",
       "    </tr>\n",
       "    <tr>\n",
       "      <th>2</th>\n",
       "      <td>offer completed</td>\n",
       "      <td>78afa995795e4d85b5d9ceeca43f5fef</td>\n",
       "      <td>132</td>\n",
       "      <td>9b98b8c7a33c4b65b9aebfe6a799e6d9</td>\n",
       "      <td>5.0</td>\n",
       "      <td>0.0</td>\n",
       "      <td>5</td>\n",
       "      <td>7</td>\n",
       "      <td>0</td>\n",
       "      <td>5</td>\n",
       "      <td>75</td>\n",
       "      <td>2017-05-09</td>\n",
       "      <td>2</td>\n",
       "      <td>100000.0</td>\n",
       "      <td>69-78</td>\n",
       "      <td>1</td>\n",
       "      <td>1</td>\n",
       "      <td>0</td>\n",
       "      <td>1</td>\n",
       "    </tr>\n",
       "    <tr>\n",
       "      <th>3</th>\n",
       "      <td>offer received</td>\n",
       "      <td>78afa995795e4d85b5d9ceeca43f5fef</td>\n",
       "      <td>504</td>\n",
       "      <td>f19421c1d4aa40978ebb69ca19b0e20d</td>\n",
       "      <td>0.0</td>\n",
       "      <td>0.0</td>\n",
       "      <td>5</td>\n",
       "      <td>5</td>\n",
       "      <td>0</td>\n",
       "      <td>5</td>\n",
       "      <td>75</td>\n",
       "      <td>2017-05-09</td>\n",
       "      <td>2</td>\n",
       "      <td>100000.0</td>\n",
       "      <td>69-78</td>\n",
       "      <td>1</td>\n",
       "      <td>1</td>\n",
       "      <td>1</td>\n",
       "      <td>1</td>\n",
       "    </tr>\n",
       "    <tr>\n",
       "      <th>4</th>\n",
       "      <td>offer completed</td>\n",
       "      <td>78afa995795e4d85b5d9ceeca43f5fef</td>\n",
       "      <td>510</td>\n",
       "      <td>f19421c1d4aa40978ebb69ca19b0e20d</td>\n",
       "      <td>5.0</td>\n",
       "      <td>0.0</td>\n",
       "      <td>5</td>\n",
       "      <td>5</td>\n",
       "      <td>0</td>\n",
       "      <td>5</td>\n",
       "      <td>75</td>\n",
       "      <td>2017-05-09</td>\n",
       "      <td>2</td>\n",
       "      <td>100000.0</td>\n",
       "      <td>69-78</td>\n",
       "      <td>1</td>\n",
       "      <td>1</td>\n",
       "      <td>1</td>\n",
       "      <td>1</td>\n",
       "    </tr>\n",
       "  </tbody>\n",
       "</table>\n",
       "</div>"
      ],
      "text/plain": [
       "             event                       customer_id  time  \\\n",
       "0   offer received  78afa995795e4d85b5d9ceeca43f5fef     0   \n",
       "1     offer viewed  78afa995795e4d85b5d9ceeca43f5fef     6   \n",
       "2  offer completed  78afa995795e4d85b5d9ceeca43f5fef   132   \n",
       "3   offer received  78afa995795e4d85b5d9ceeca43f5fef   504   \n",
       "4  offer completed  78afa995795e4d85b5d9ceeca43f5fef   510   \n",
       "\n",
       "                           offer_id  reward  amount  offer_difficulty  \\\n",
       "0  9b98b8c7a33c4b65b9aebfe6a799e6d9     0.0     0.0                 5   \n",
       "1  9b98b8c7a33c4b65b9aebfe6a799e6d9     0.0     0.0                 5   \n",
       "2  9b98b8c7a33c4b65b9aebfe6a799e6d9     5.0     0.0                 5   \n",
       "3  f19421c1d4aa40978ebb69ca19b0e20d     0.0     0.0                 5   \n",
       "4  f19421c1d4aa40978ebb69ca19b0e20d     5.0     0.0                 5   \n",
       "\n",
       "   offer_duration  offer_type  offer_reward  customer_age became_member_on  \\\n",
       "0               7           0             5            75       2017-05-09   \n",
       "1               7           0             5            75       2017-05-09   \n",
       "2               7           0             5            75       2017-05-09   \n",
       "3               5           0             5            75       2017-05-09   \n",
       "4               5           0             5            75       2017-05-09   \n",
       "\n",
       "   customer_gender  customer_income age_group  email  mobile  social  web  \n",
       "0                2         100000.0     69-78      1       1       0    1  \n",
       "1                2         100000.0     69-78      1       1       0    1  \n",
       "2                2         100000.0     69-78      1       1       0    1  \n",
       "3                2         100000.0     69-78      1       1       1    1  \n",
       "4                2         100000.0     69-78      1       1       1    1  "
      ]
     },
     "execution_count": 73,
     "metadata": {},
     "output_type": "execute_result"
    }
   ],
   "source": [
    "feature_df.head(5)"
   ]
  },
  {
   "cell_type": "code",
   "execution_count": 74,
   "metadata": {},
   "outputs": [],
   "source": [
    "dummy_events = pd.get_dummies(feature_df.event)\n",
    "feature_df = pd.concat([feature_df,dummy_events], axis = 1)\n"
   ]
  },
  {
   "cell_type": "code",
   "execution_count": 75,
   "metadata": {},
   "outputs": [],
   "source": [
    "events_encode = {'offer received': 0, 'offer viewed': 1, 'offer completed': 2}\n",
    "prepared_df['offer_type'] = prepared_df['offer_type'].map(offers_encode)\n"
   ]
  },
  {
   "cell_type": "code",
   "execution_count": 76,
   "metadata": {},
   "outputs": [],
   "source": [
    "feature_df['events_id'] = prepared_df['event'].map(events_encode) "
   ]
  },
  {
   "cell_type": "code",
   "execution_count": 77,
   "metadata": {},
   "outputs": [],
   "source": [
    "dummy_age_g = pd.get_dummies(feature_df.age_group)\n",
    "feature_df = pd.concat([feature_df,dummy_age_g], axis = 1)"
   ]
  },
  {
   "cell_type": "code",
   "execution_count": 78,
   "metadata": {},
   "outputs": [
    {
     "data": {
      "text/html": [
       "<div>\n",
       "<style scoped>\n",
       "    .dataframe tbody tr th:only-of-type {\n",
       "        vertical-align: middle;\n",
       "    }\n",
       "\n",
       "    .dataframe tbody tr th {\n",
       "        vertical-align: top;\n",
       "    }\n",
       "\n",
       "    .dataframe thead th {\n",
       "        text-align: right;\n",
       "    }\n",
       "</style>\n",
       "<table border=\"1\" class=\"dataframe\">\n",
       "  <thead>\n",
       "    <tr style=\"text-align: right;\">\n",
       "      <th></th>\n",
       "      <th>event</th>\n",
       "      <th>customer_id</th>\n",
       "      <th>time</th>\n",
       "      <th>offer_id</th>\n",
       "      <th>reward</th>\n",
       "      <th>amount</th>\n",
       "      <th>offer_difficulty</th>\n",
       "      <th>offer_duration</th>\n",
       "      <th>offer_type</th>\n",
       "      <th>offer_reward</th>\n",
       "      <th>...</th>\n",
       "      <th>offer viewed</th>\n",
       "      <th>events_id</th>\n",
       "      <th>19-28</th>\n",
       "      <th>29-38</th>\n",
       "      <th>49-58</th>\n",
       "      <th>59-68</th>\n",
       "      <th>69-78</th>\n",
       "      <th>79-88</th>\n",
       "      <th>Above 89</th>\n",
       "      <th>Until 18</th>\n",
       "    </tr>\n",
       "  </thead>\n",
       "  <tbody>\n",
       "    <tr>\n",
       "      <th>0</th>\n",
       "      <td>offer received</td>\n",
       "      <td>78afa995795e4d85b5d9ceeca43f5fef</td>\n",
       "      <td>0</td>\n",
       "      <td>9b98b8c7a33c4b65b9aebfe6a799e6d9</td>\n",
       "      <td>0.0</td>\n",
       "      <td>0.0</td>\n",
       "      <td>5</td>\n",
       "      <td>7</td>\n",
       "      <td>0</td>\n",
       "      <td>5</td>\n",
       "      <td>...</td>\n",
       "      <td>0</td>\n",
       "      <td>0</td>\n",
       "      <td>0</td>\n",
       "      <td>0</td>\n",
       "      <td>0</td>\n",
       "      <td>0</td>\n",
       "      <td>1</td>\n",
       "      <td>0</td>\n",
       "      <td>0</td>\n",
       "      <td>0</td>\n",
       "    </tr>\n",
       "    <tr>\n",
       "      <th>1</th>\n",
       "      <td>offer viewed</td>\n",
       "      <td>78afa995795e4d85b5d9ceeca43f5fef</td>\n",
       "      <td>6</td>\n",
       "      <td>9b98b8c7a33c4b65b9aebfe6a799e6d9</td>\n",
       "      <td>0.0</td>\n",
       "      <td>0.0</td>\n",
       "      <td>5</td>\n",
       "      <td>7</td>\n",
       "      <td>0</td>\n",
       "      <td>5</td>\n",
       "      <td>...</td>\n",
       "      <td>1</td>\n",
       "      <td>1</td>\n",
       "      <td>0</td>\n",
       "      <td>0</td>\n",
       "      <td>0</td>\n",
       "      <td>0</td>\n",
       "      <td>1</td>\n",
       "      <td>0</td>\n",
       "      <td>0</td>\n",
       "      <td>0</td>\n",
       "    </tr>\n",
       "    <tr>\n",
       "      <th>2</th>\n",
       "      <td>offer completed</td>\n",
       "      <td>78afa995795e4d85b5d9ceeca43f5fef</td>\n",
       "      <td>132</td>\n",
       "      <td>9b98b8c7a33c4b65b9aebfe6a799e6d9</td>\n",
       "      <td>5.0</td>\n",
       "      <td>0.0</td>\n",
       "      <td>5</td>\n",
       "      <td>7</td>\n",
       "      <td>0</td>\n",
       "      <td>5</td>\n",
       "      <td>...</td>\n",
       "      <td>0</td>\n",
       "      <td>2</td>\n",
       "      <td>0</td>\n",
       "      <td>0</td>\n",
       "      <td>0</td>\n",
       "      <td>0</td>\n",
       "      <td>1</td>\n",
       "      <td>0</td>\n",
       "      <td>0</td>\n",
       "      <td>0</td>\n",
       "    </tr>\n",
       "    <tr>\n",
       "      <th>3</th>\n",
       "      <td>offer received</td>\n",
       "      <td>78afa995795e4d85b5d9ceeca43f5fef</td>\n",
       "      <td>504</td>\n",
       "      <td>f19421c1d4aa40978ebb69ca19b0e20d</td>\n",
       "      <td>0.0</td>\n",
       "      <td>0.0</td>\n",
       "      <td>5</td>\n",
       "      <td>5</td>\n",
       "      <td>0</td>\n",
       "      <td>5</td>\n",
       "      <td>...</td>\n",
       "      <td>0</td>\n",
       "      <td>0</td>\n",
       "      <td>0</td>\n",
       "      <td>0</td>\n",
       "      <td>0</td>\n",
       "      <td>0</td>\n",
       "      <td>1</td>\n",
       "      <td>0</td>\n",
       "      <td>0</td>\n",
       "      <td>0</td>\n",
       "    </tr>\n",
       "    <tr>\n",
       "      <th>4</th>\n",
       "      <td>offer completed</td>\n",
       "      <td>78afa995795e4d85b5d9ceeca43f5fef</td>\n",
       "      <td>510</td>\n",
       "      <td>f19421c1d4aa40978ebb69ca19b0e20d</td>\n",
       "      <td>5.0</td>\n",
       "      <td>0.0</td>\n",
       "      <td>5</td>\n",
       "      <td>5</td>\n",
       "      <td>0</td>\n",
       "      <td>5</td>\n",
       "      <td>...</td>\n",
       "      <td>0</td>\n",
       "      <td>2</td>\n",
       "      <td>0</td>\n",
       "      <td>0</td>\n",
       "      <td>0</td>\n",
       "      <td>0</td>\n",
       "      <td>1</td>\n",
       "      <td>0</td>\n",
       "      <td>0</td>\n",
       "      <td>0</td>\n",
       "    </tr>\n",
       "  </tbody>\n",
       "</table>\n",
       "<p>5 rows × 31 columns</p>\n",
       "</div>"
      ],
      "text/plain": [
       "             event                       customer_id  time  \\\n",
       "0   offer received  78afa995795e4d85b5d9ceeca43f5fef     0   \n",
       "1     offer viewed  78afa995795e4d85b5d9ceeca43f5fef     6   \n",
       "2  offer completed  78afa995795e4d85b5d9ceeca43f5fef   132   \n",
       "3   offer received  78afa995795e4d85b5d9ceeca43f5fef   504   \n",
       "4  offer completed  78afa995795e4d85b5d9ceeca43f5fef   510   \n",
       "\n",
       "                           offer_id  reward  amount  offer_difficulty  \\\n",
       "0  9b98b8c7a33c4b65b9aebfe6a799e6d9     0.0     0.0                 5   \n",
       "1  9b98b8c7a33c4b65b9aebfe6a799e6d9     0.0     0.0                 5   \n",
       "2  9b98b8c7a33c4b65b9aebfe6a799e6d9     5.0     0.0                 5   \n",
       "3  f19421c1d4aa40978ebb69ca19b0e20d     0.0     0.0                 5   \n",
       "4  f19421c1d4aa40978ebb69ca19b0e20d     5.0     0.0                 5   \n",
       "\n",
       "   offer_duration  offer_type  offer_reward    ...     offer viewed events_id  \\\n",
       "0               7           0             5    ...                0         0   \n",
       "1               7           0             5    ...                1         1   \n",
       "2               7           0             5    ...                0         2   \n",
       "3               5           0             5    ...                0         0   \n",
       "4               5           0             5    ...                0         2   \n",
       "\n",
       "   19-28  29-38 49-58  59-68  69-78  79-88  Above 89  Until 18  \n",
       "0      0      0     0      0      1      0         0         0  \n",
       "1      0      0     0      0      1      0         0         0  \n",
       "2      0      0     0      0      1      0         0         0  \n",
       "3      0      0     0      0      1      0         0         0  \n",
       "4      0      0     0      0      1      0         0         0  \n",
       "\n",
       "[5 rows x 31 columns]"
      ]
     },
     "execution_count": 78,
     "metadata": {},
     "output_type": "execute_result"
    }
   ],
   "source": [
    "feature_df.head(5)"
   ]
  },
  {
   "cell_type": "markdown",
   "metadata": {},
   "source": [
    "to a better correlation matrix to be created, it will be applied the scalling for the metric fields:"
   ]
  },
  {
   "cell_type": "code",
   "execution_count": 79,
   "metadata": {
    "scrolled": true
   },
   "outputs": [
    {
     "data": {
      "image/png": "[encoded data removed]",
      "text/plain": [
       "<matplotlib.figure.Figure at 0x7fbb859f4470>"
      ]
     },
     "metadata": {},
     "output_type": "display_data"
    }
   ],
   "source": [
    "corrMatrix = feature_df.corr()\n",
    "sns.heatmap(corrMatrix)\n",
    "plt.show()"
   ]
  },
  {
   "cell_type": "code",
   "execution_count": 80,
   "metadata": {},
   "outputs": [
    {
     "name": "stdout",
     "output_type": "stream",
     "text": [
      "<class 'pandas.core.frame.DataFrame'>\n",
      "Int64Index: 148805 entries, 0 to 148804\n",
      "Data columns (total 31 columns):\n",
      "event               148805 non-null object\n",
      "customer_id         148805 non-null object\n",
      "time                148805 non-null int64\n",
      "offer_id            148805 non-null object\n",
      "reward              148805 non-null float64\n",
      "amount              148805 non-null float64\n",
      "offer_difficulty    148805 non-null int64\n",
      "offer_duration      148805 non-null int64\n",
      "offer_type          148805 non-null int64\n",
      "offer_reward        148805 non-null int64\n",
      "customer_age        148805 non-null int64\n",
      "became_member_on    148805 non-null datetime64[ns]\n",
      "customer_gender     148805 non-null int64\n",
      "customer_income     148805 non-null float64\n",
      "age_group           126955 non-null object\n",
      "email               148805 non-null uint8\n",
      "mobile              148805 non-null uint8\n",
      "social              148805 non-null uint8\n",
      "web                 148805 non-null uint8\n",
      "offer completed     148805 non-null uint8\n",
      "offer received      148805 non-null uint8\n",
      "offer viewed        148805 non-null uint8\n",
      "events_id           148805 non-null int64\n",
      "19-28               148805 non-null uint8\n",
      "29-38               148805 non-null uint8\n",
      "49-58               148805 non-null uint8\n",
      "59-68               148805 non-null uint8\n",
      "69-78               148805 non-null uint8\n",
      "79-88               148805 non-null uint8\n",
      "Above 89            148805 non-null uint8\n",
      "Until 18            148805 non-null uint8\n",
      "dtypes: datetime64[ns](1), float64(3), int64(8), object(4), uint8(15)\n",
      "memory usage: 26.4+ MB\n"
     ]
    }
   ],
   "source": [
    "feature_df.info()"
   ]
  },
  {
   "cell_type": "markdown",
   "metadata": {},
   "source": [
    "As observed on the correlational matrix, only the following variables have a significable relation:\n",
    "* reward;\n",
    "* offer_difficulty;\n",
    "* offer_duration;\n",
    "* offer_type;\n",
    "* offer_reward;\n",
    "* customer_age;\n",
    "* customer_gender;\n",
    "* customer_income;\n",
    "* email;\n",
    "* web.\n",
    "\n",
    "\n",
    "The age groups,offer completed,offer received, and offer viewed will not be used in the model and will be dropped with the id of each dimensional dataset merged, yet it helped us into the EDA phase.\n"
   ]
  },
  {
   "cell_type": "code",
   "execution_count": 81,
   "metadata": {},
   "outputs": [],
   "source": [
    "X = feature_df.drop(['customer_id','offer_id', 'events_id' , 'event' , 'became_member_on','offer completed', 'offer received',\n",
    "       'offer viewed','age_group','19-28','29-38','49-58','59-68','69-78','79-88','Above 89','Until 18'], axis=1)\n",
    "Y = feature_df['events_id']"
   ]
  },
  {
   "cell_type": "code",
   "execution_count": 82,
   "metadata": {
    "scrolled": true
   },
   "outputs": [
    {
     "data": {
      "text/html": [
       "<div>\n",
       "<style scoped>\n",
       "    .dataframe tbody tr th:only-of-type {\n",
       "        vertical-align: middle;\n",
       "    }\n",
       "\n",
       "    .dataframe tbody tr th {\n",
       "        vertical-align: top;\n",
       "    }\n",
       "\n",
       "    .dataframe thead th {\n",
       "        text-align: right;\n",
       "    }\n",
       "</style>\n",
       "<table border=\"1\" class=\"dataframe\">\n",
       "  <thead>\n",
       "    <tr style=\"text-align: right;\">\n",
       "      <th></th>\n",
       "      <th>time</th>\n",
       "      <th>reward</th>\n",
       "      <th>amount</th>\n",
       "      <th>offer_difficulty</th>\n",
       "      <th>offer_duration</th>\n",
       "      <th>offer_type</th>\n",
       "      <th>offer_reward</th>\n",
       "      <th>customer_age</th>\n",
       "      <th>customer_gender</th>\n",
       "      <th>customer_income</th>\n",
       "      <th>email</th>\n",
       "      <th>mobile</th>\n",
       "      <th>social</th>\n",
       "      <th>web</th>\n",
       "    </tr>\n",
       "  </thead>\n",
       "  <tbody>\n",
       "    <tr>\n",
       "      <th>0</th>\n",
       "      <td>0</td>\n",
       "      <td>0.0</td>\n",
       "      <td>0.0</td>\n",
       "      <td>5</td>\n",
       "      <td>7</td>\n",
       "      <td>0</td>\n",
       "      <td>5</td>\n",
       "      <td>75</td>\n",
       "      <td>2</td>\n",
       "      <td>100000.0</td>\n",
       "      <td>1</td>\n",
       "      <td>1</td>\n",
       "      <td>0</td>\n",
       "      <td>1</td>\n",
       "    </tr>\n",
       "    <tr>\n",
       "      <th>1</th>\n",
       "      <td>6</td>\n",
       "      <td>0.0</td>\n",
       "      <td>0.0</td>\n",
       "      <td>5</td>\n",
       "      <td>7</td>\n",
       "      <td>0</td>\n",
       "      <td>5</td>\n",
       "      <td>75</td>\n",
       "      <td>2</td>\n",
       "      <td>100000.0</td>\n",
       "      <td>1</td>\n",
       "      <td>1</td>\n",
       "      <td>0</td>\n",
       "      <td>1</td>\n",
       "    </tr>\n",
       "    <tr>\n",
       "      <th>2</th>\n",
       "      <td>132</td>\n",
       "      <td>5.0</td>\n",
       "      <td>0.0</td>\n",
       "      <td>5</td>\n",
       "      <td>7</td>\n",
       "      <td>0</td>\n",
       "      <td>5</td>\n",
       "      <td>75</td>\n",
       "      <td>2</td>\n",
       "      <td>100000.0</td>\n",
       "      <td>1</td>\n",
       "      <td>1</td>\n",
       "      <td>0</td>\n",
       "      <td>1</td>\n",
       "    </tr>\n",
       "    <tr>\n",
       "      <th>3</th>\n",
       "      <td>504</td>\n",
       "      <td>0.0</td>\n",
       "      <td>0.0</td>\n",
       "      <td>5</td>\n",
       "      <td>5</td>\n",
       "      <td>0</td>\n",
       "      <td>5</td>\n",
       "      <td>75</td>\n",
       "      <td>2</td>\n",
       "      <td>100000.0</td>\n",
       "      <td>1</td>\n",
       "      <td>1</td>\n",
       "      <td>1</td>\n",
       "      <td>1</td>\n",
       "    </tr>\n",
       "    <tr>\n",
       "      <th>4</th>\n",
       "      <td>510</td>\n",
       "      <td>5.0</td>\n",
       "      <td>0.0</td>\n",
       "      <td>5</td>\n",
       "      <td>5</td>\n",
       "      <td>0</td>\n",
       "      <td>5</td>\n",
       "      <td>75</td>\n",
       "      <td>2</td>\n",
       "      <td>100000.0</td>\n",
       "      <td>1</td>\n",
       "      <td>1</td>\n",
       "      <td>1</td>\n",
       "      <td>1</td>\n",
       "    </tr>\n",
       "  </tbody>\n",
       "</table>\n",
       "</div>"
      ],
      "text/plain": [
       "   time  reward  amount  offer_difficulty  offer_duration  offer_type  \\\n",
       "0     0     0.0     0.0                 5               7           0   \n",
       "1     6     0.0     0.0                 5               7           0   \n",
       "2   132     5.0     0.0                 5               7           0   \n",
       "3   504     0.0     0.0                 5               5           0   \n",
       "4   510     5.0     0.0                 5               5           0   \n",
       "\n",
       "   offer_reward  customer_age  customer_gender  customer_income  email  \\\n",
       "0             5            75                2         100000.0      1   \n",
       "1             5            75                2         100000.0      1   \n",
       "2             5            75                2         100000.0      1   \n",
       "3             5            75                2         100000.0      1   \n",
       "4             5            75                2         100000.0      1   \n",
       "\n",
       "   mobile  social  web  \n",
       "0       1       0    1  \n",
       "1       1       0    1  \n",
       "2       1       0    1  \n",
       "3       1       1    1  \n",
       "4       1       1    1  "
      ]
     },
     "execution_count": 82,
     "metadata": {},
     "output_type": "execute_result"
    }
   ],
   "source": [
    "X.head(5)"
   ]
  },
  {
   "cell_type": "code",
   "execution_count": 83,
   "metadata": {},
   "outputs": [
    {
     "data": {
      "text/plain": [
       "array([0, 1, 2])"
      ]
     },
     "execution_count": 83,
     "metadata": {},
     "output_type": "execute_result"
    }
   ],
   "source": [
    "Y.unique()"
   ]
  },
  {
   "cell_type": "code",
   "execution_count": 84,
   "metadata": {},
   "outputs": [
    {
     "data": {
      "text/plain": [
       "((148805, 14), (148805,))"
      ]
     },
     "execution_count": 84,
     "metadata": {},
     "output_type": "execute_result"
    }
   ],
   "source": [
    "X.shape, Y.shape"
   ]
  },
  {
   "cell_type": "markdown",
   "metadata": {},
   "source": [
    "## D) Data Split and Models train"
   ]
  },
  {
   "cell_type": "markdown",
   "metadata": {},
   "source": [
    "To ensure the model scale, it will be applied normalization to fit the values rescaled to the dataset ranging from 0 to 1 with the standarization where the mean will be centered by a unit stardard deviation. With that, the mean will be zero and the result of the distribution will have one standard deviation unit."
   ]
  },
  {
   "cell_type": "code",
   "execution_count": 85,
   "metadata": {},
   "outputs": [],
   "source": [
    "#split the dataset into test and train sets.\n",
    "X_train, X_test, y_train, y_test = train_test_split(X, Y, test_size=0.4, random_state=42)"
   ]
  },
  {
   "cell_type": "code",
   "execution_count": 86,
   "metadata": {},
   "outputs": [
    {
     "data": {
      "text/plain": [
       "((89283, 14), (59522, 14), (89283,), (59522,))"
      ]
     },
     "execution_count": 86,
     "metadata": {},
     "output_type": "execute_result"
    }
   ],
   "source": [
    "X_train.shape, X_test.shape, y_train.shape, y_test.shape"
   ]
  },
  {
   "cell_type": "code",
   "execution_count": 87,
   "metadata": {},
   "outputs": [],
   "source": [
    "std = StandardScaler()"
   ]
  },
  {
   "cell_type": "markdown",
   "metadata": {},
   "source": [
    "The model considered will related channel types and event with age and its age groups. It will be removed reward,customer income, amount spent, offer time, the date the customer registered in the app database, and identification fields. The Age_group dummies will be removed because the age shows a strong direct relation that its dummies to the customer income. Thus,\n"
   ]
  },
  {
   "cell_type": "code",
   "execution_count": 88,
   "metadata": {},
   "outputs": [
    {
     "name": "stderr",
     "output_type": "stream",
     "text": [
      "/opt/conda/lib/python3.6/site-packages/pandas/core/generic.py:4405: SettingWithCopyWarning: \n",
      "A value is trying to be set on a copy of a slice from a DataFrame.\n",
      "Try using .loc[row_indexer,col_indexer] = value instead\n",
      "\n",
      "See the caveats in the documentation: http://pandas.pydata.org/pandas-docs/stable/indexing.html#indexing-view-versus-copy\n",
      "  self[name] = value\n",
      "/opt/conda/lib/python3.6/site-packages/sklearn/utils/validation.py:475: DataConversionWarning: Data with input dtype int64 was converted to float64 by StandardScaler.\n",
      "  warnings.warn(msg, DataConversionWarning)\n"
     ]
    }
   ],
   "source": [
    "X_train.customer_income = std.fit_transform(X_train.customer_income.values.reshape(-1, 1))\n",
    "X_train.customer_age = std.fit_transform(X_train.customer_age.values.reshape(-1, 1))\n",
    "X_train.time = std.fit_transform(X_train.time.values.reshape(-1, 1))\n",
    "X_train.reset_index(inplace=True)\n",
    "X_train = X_train.drop(['index'], axis=1)"
   ]
  },
  {
   "cell_type": "code",
   "execution_count": 89,
   "metadata": {
    "scrolled": true
   },
   "outputs": [
    {
     "data": {
      "text/html": [
       "<div>\n",
       "<style scoped>\n",
       "    .dataframe tbody tr th:only-of-type {\n",
       "        vertical-align: middle;\n",
       "    }\n",
       "\n",
       "    .dataframe tbody tr th {\n",
       "        vertical-align: top;\n",
       "    }\n",
       "\n",
       "    .dataframe thead th {\n",
       "        text-align: right;\n",
       "    }\n",
       "</style>\n",
       "<table border=\"1\" class=\"dataframe\">\n",
       "  <thead>\n",
       "    <tr style=\"text-align: right;\">\n",
       "      <th></th>\n",
       "      <th>time</th>\n",
       "      <th>reward</th>\n",
       "      <th>amount</th>\n",
       "      <th>offer_difficulty</th>\n",
       "      <th>offer_duration</th>\n",
       "      <th>offer_type</th>\n",
       "      <th>offer_reward</th>\n",
       "      <th>customer_age</th>\n",
       "      <th>customer_gender</th>\n",
       "      <th>customer_income</th>\n",
       "      <th>email</th>\n",
       "      <th>mobile</th>\n",
       "      <th>social</th>\n",
       "      <th>web</th>\n",
       "    </tr>\n",
       "  </thead>\n",
       "  <tbody>\n",
       "    <tr>\n",
       "      <th>0</th>\n",
       "      <td>0.266426</td>\n",
       "      <td>0.0</td>\n",
       "      <td>0.0</td>\n",
       "      <td>0</td>\n",
       "      <td>3</td>\n",
       "      <td>2</td>\n",
       "      <td>0</td>\n",
       "      <td>-0.218725</td>\n",
       "      <td>2</td>\n",
       "      <td>-0.766628</td>\n",
       "      <td>1</td>\n",
       "      <td>1</td>\n",
       "      <td>1</td>\n",
       "      <td>0</td>\n",
       "    </tr>\n",
       "    <tr>\n",
       "      <th>1</th>\n",
       "      <td>0.266426</td>\n",
       "      <td>0.0</td>\n",
       "      <td>0.0</td>\n",
       "      <td>7</td>\n",
       "      <td>7</td>\n",
       "      <td>1</td>\n",
       "      <td>3</td>\n",
       "      <td>-1.558664</td>\n",
       "      <td>2</td>\n",
       "      <td>-0.441499</td>\n",
       "      <td>1</td>\n",
       "      <td>1</td>\n",
       "      <td>1</td>\n",
       "      <td>1</td>\n",
       "    </tr>\n",
       "    <tr>\n",
       "      <th>2</th>\n",
       "      <td>-1.609273</td>\n",
       "      <td>10.0</td>\n",
       "      <td>0.0</td>\n",
       "      <td>10</td>\n",
       "      <td>5</td>\n",
       "      <td>0</td>\n",
       "      <td>10</td>\n",
       "      <td>-0.510016</td>\n",
       "      <td>2</td>\n",
       "      <td>-0.580840</td>\n",
       "      <td>1</td>\n",
       "      <td>1</td>\n",
       "      <td>1</td>\n",
       "      <td>1</td>\n",
       "    </tr>\n",
       "    <tr>\n",
       "      <th>3</th>\n",
       "      <td>0.750477</td>\n",
       "      <td>0.0</td>\n",
       "      <td>0.0</td>\n",
       "      <td>10</td>\n",
       "      <td>10</td>\n",
       "      <td>1</td>\n",
       "      <td>2</td>\n",
       "      <td>0.305600</td>\n",
       "      <td>2</td>\n",
       "      <td>0.719673</td>\n",
       "      <td>1</td>\n",
       "      <td>1</td>\n",
       "      <td>1</td>\n",
       "      <td>1</td>\n",
       "    </tr>\n",
       "    <tr>\n",
       "      <th>4</th>\n",
       "      <td>-0.641171</td>\n",
       "      <td>5.0</td>\n",
       "      <td>0.0</td>\n",
       "      <td>5</td>\n",
       "      <td>7</td>\n",
       "      <td>0</td>\n",
       "      <td>5</td>\n",
       "      <td>-0.160466</td>\n",
       "      <td>2</td>\n",
       "      <td>-0.766628</td>\n",
       "      <td>1</td>\n",
       "      <td>1</td>\n",
       "      <td>0</td>\n",
       "      <td>1</td>\n",
       "    </tr>\n",
       "  </tbody>\n",
       "</table>\n",
       "</div>"
      ],
      "text/plain": [
       "       time  reward  amount  offer_difficulty  offer_duration  offer_type  \\\n",
       "0  0.266426     0.0     0.0                 0               3           2   \n",
       "1  0.266426     0.0     0.0                 7               7           1   \n",
       "2 -1.609273    10.0     0.0                10               5           0   \n",
       "3  0.750477     0.0     0.0                10              10           1   \n",
       "4 -0.641171     5.0     0.0                 5               7           0   \n",
       "\n",
       "   offer_reward  customer_age  customer_gender  customer_income  email  \\\n",
       "0             0     -0.218725                2        -0.766628      1   \n",
       "1             3     -1.558664                2        -0.441499      1   \n",
       "2            10     -0.510016                2        -0.580840      1   \n",
       "3             2      0.305600                2         0.719673      1   \n",
       "4             5     -0.160466                2        -0.766628      1   \n",
       "\n",
       "   mobile  social  web  \n",
       "0       1       1    0  \n",
       "1       1       1    1  \n",
       "2       1       1    1  \n",
       "3       1       1    1  \n",
       "4       1       0    1  "
      ]
     },
     "execution_count": 89,
     "metadata": {},
     "output_type": "execute_result"
    }
   ],
   "source": [
    "X_train.head()"
   ]
  },
  {
   "cell_type": "markdown",
   "metadata": {},
   "source": [
    "Transformming the train and test dataframes to numpy array for usage into the models"
   ]
  },
  {
   "cell_type": "code",
   "execution_count": 90,
   "metadata": {},
   "outputs": [],
   "source": [
    "\n",
    "X_train = X_train.values\n",
    "X_test = X_test.values\n",
    "y_train = y_train.values\n",
    "y_test = y_test.values"
   ]
  },
  {
   "cell_type": "code",
   "execution_count": 91,
   "metadata": {},
   "outputs": [
    {
     "data": {
      "text/plain": [
       "((89283, 14), (59522, 14))"
      ]
     },
     "execution_count": 91,
     "metadata": {},
     "output_type": "execute_result"
    }
   ],
   "source": [
    "X_train.shape, X_test.shape"
   ]
  },
  {
   "cell_type": "markdown",
   "metadata": {},
   "source": [
    "## E) Models application and evalutation "
   ]
  },
  {
   "cell_type": "markdown",
   "metadata": {},
   "source": [
    "With the train and test datasets splitted, it will be possible to use them into the models proposed. The models will be pipelined and trained based on the scikit learn pipeline method to enable multiple models usage.\n",
    "The pipeline can be used as any other estimator and avoids leaking the test set into the train set."
   ]
  },
  {
   "cell_type": "code",
   "execution_count": 92,
   "metadata": {},
   "outputs": [
    {
     "data": {
      "text/plain": [
       "Pipeline(memory=None,\n",
       "     steps=[('pca', PCA(copy=True, iterated_power='auto', n_components=None, random_state=None,\n",
       "  svd_solver='auto', tol=0.0, whiten=False)), ('clf', RandomForestClassifier(bootstrap=True, class_weight=None, criterion='gini',\n",
       "            max_depth=None, max_features='auto', max_leaf_nodes=None,\n",
       "         ...timators=10, n_jobs=1,\n",
       "            oob_score=False, random_state=None, verbose=0, warm_start=True))])"
      ]
     },
     "execution_count": 92,
     "metadata": {},
     "output_type": "execute_result"
    }
   ],
   "source": [
    "## Model with the PCA Analysis into the data pipeline included to the RFC\n",
    "model = Pipeline([\n",
    "                    ('pca', PCA()),\n",
    "                    ('clf', RandomForestClassifier(warm_start=True))\n",
    "                 ])\n",
    "model"
   ]
  },
  {
   "cell_type": "code",
   "execution_count": 93,
   "metadata": {},
   "outputs": [
    {
     "data": {
      "text/plain": [
       "Pipeline(memory=None,\n",
       "     steps=[('clf', RandomForestClassifier(bootstrap=True, class_weight=None, criterion='gini',\n",
       "            max_depth=None, max_features='auto', max_leaf_nodes=None,\n",
       "            min_impurity_decrease=0.0, min_impurity_split=None,\n",
       "            min_samples_leaf=1, min_samples_split=2,\n",
       "            min_weight_fraction_leaf=0.0, n_estimators=10, n_jobs=1,\n",
       "            oob_score=False, random_state=None, verbose=0, warm_start=True))])"
      ]
     },
     "execution_count": 93,
     "metadata": {},
     "output_type": "execute_result"
    }
   ],
   "source": [
    "## Model without the PCA Analysis into the data pipeline included to the RFC\n",
    "model_2 = Pipeline([ \n",
    "                 ('clf', RandomForestClassifier(warm_start=True))])\n",
    "model_2"
   ]
  },
  {
   "cell_type": "code",
   "execution_count": 94,
   "metadata": {},
   "outputs": [
    {
     "data": {
      "text/plain": [
       "Pipeline(memory=None,\n",
       "     steps=[('clf', MultinomialNB(alpha=1.0, class_prior=None, fit_prior=True))])"
      ]
     },
     "execution_count": 94,
     "metadata": {},
     "output_type": "execute_result"
    }
   ],
   "source": [
    "## Naive Bayes Model\n",
    "model_3 = Pipeline([ \n",
    "                 ('clf', MultinomialNB())])\n",
    "model_3"
   ]
  },
  {
   "cell_type": "markdown",
   "metadata": {},
   "source": [
    "### E.1) Fiting the models"
   ]
  },
  {
   "cell_type": "code",
   "execution_count": 95,
   "metadata": {},
   "outputs": [
    {
     "data": {
      "text/plain": [
       "Pipeline(memory=None,\n",
       "     steps=[('pca', PCA(copy=True, iterated_power='auto', n_components=None, random_state=None,\n",
       "  svd_solver='auto', tol=0.0, whiten=False)), ('clf', RandomForestClassifier(bootstrap=True, class_weight=None, criterion='gini',\n",
       "            max_depth=None, max_features='auto', max_leaf_nodes=None,\n",
       "         ...timators=10, n_jobs=1,\n",
       "            oob_score=False, random_state=None, verbose=0, warm_start=True))])"
      ]
     },
     "execution_count": 95,
     "metadata": {},
     "output_type": "execute_result"
    }
   ],
   "source": [
    "model.fit(X,Y)"
   ]
  },
  {
   "cell_type": "code",
   "execution_count": 96,
   "metadata": {},
   "outputs": [
    {
     "data": {
      "text/plain": [
       "Pipeline(memory=None,\n",
       "     steps=[('clf', RandomForestClassifier(bootstrap=True, class_weight=None, criterion='gini',\n",
       "            max_depth=None, max_features='auto', max_leaf_nodes=None,\n",
       "            min_impurity_decrease=0.0, min_impurity_split=None,\n",
       "            min_samples_leaf=1, min_samples_split=2,\n",
       "            min_weight_fraction_leaf=0.0, n_estimators=10, n_jobs=1,\n",
       "            oob_score=False, random_state=None, verbose=0, warm_start=True))])"
      ]
     },
     "execution_count": 96,
     "metadata": {},
     "output_type": "execute_result"
    }
   ],
   "source": [
    "model_2.fit(X,Y)"
   ]
  },
  {
   "cell_type": "code",
   "execution_count": 97,
   "metadata": {},
   "outputs": [
    {
     "data": {
      "text/plain": [
       "Pipeline(memory=None,\n",
       "     steps=[('clf', MultinomialNB(alpha=1.0, class_prior=None, fit_prior=True))])"
      ]
     },
     "execution_count": 97,
     "metadata": {},
     "output_type": "execute_result"
    }
   ],
   "source": [
    "model_3.fit(X,Y)"
   ]
  },
  {
   "cell_type": "markdown",
   "metadata": {},
   "source": [
    "### E.2) Evalutating the results"
   ]
  },
  {
   "cell_type": "code",
   "execution_count": 98,
   "metadata": {},
   "outputs": [
    {
     "data": {
      "text/plain": [
       "{'fit_time': array([ 5.58237028,  5.60107875,  5.50229406,  5.39334822,  5.03723264]),\n",
       " 'score_time': array([ 0.21873331,  0.23357439,  0.22692966,  0.24790239,  0.22930169]),\n",
       " 'test_accuracy': array([ 0.8742356 ,  0.90910924,  0.89395518,  0.88962064,  0.88014113]),\n",
       " 'train_accuracy': array([ 0.92665675,  0.92740499,  0.92820302,  0.92979067,  0.93016926]),\n",
       " 'test_f1_macro': array([ 0.88323495,  0.91871159,  0.90449032,  0.90160242,  0.89364553]),\n",
       " 'train_f1_macro': array([ 0.93547066,  0.93611768,  0.93687906,  0.93830965,  0.93865419]),\n",
       " 'test_f1_weighted': array([ 0.86864107,  0.90760087,  0.89167467,  0.8880326 ,  0.87878114]),\n",
       " 'train_f1_weighted': array([ 0.92621593,  0.92696098,  0.92780407,  0.929424  ,  0.9298129 ])}"
      ]
     },
     "execution_count": 98,
     "metadata": {},
     "output_type": "execute_result"
    }
   ],
   "source": [
    "scores = cross_validate(model, X, Y, cv=5, \n",
    "                        scoring=['accuracy','f1_macro','f1_weighted'], return_train_score=True)\n",
    "scores"
   ]
  },
  {
   "cell_type": "code",
   "execution_count": 99,
   "metadata": {},
   "outputs": [
    {
     "data": {
      "text/plain": [
       "{'fit_time': array([ 1.42660022,  1.33210731,  1.33365965,  1.43591428,  1.48571563]),\n",
       " 'score_time': array([ 0.24419904,  0.31910658,  0.23397017,  0.26067877,  0.23700261]),\n",
       " 'test_accuracy': array([ 0.85165647,  0.8618998 ,  0.86448708,  0.85954773,  0.85756048]),\n",
       " 'train_accuracy': array([ 0.92468268,  0.92512012,  0.92606095,  0.92800981,  0.92806082]),\n",
       " 'test_f1_macro': array([ 0.86124878,  0.8745843 ,  0.876959  ,  0.87420087,  0.87300761]),\n",
       " 'train_f1_macro': array([ 0.93376447,  0.93417707,  0.93504586,  0.93678283,  0.93680169]),\n",
       " 'test_f1_weighted': array([ 0.84417703,  0.85809931,  0.86077816,  0.8570743 ,  0.85549679]),\n",
       " 'train_f1_weighted': array([ 0.92425084,  0.9247097 ,  0.92568378,  0.92765926,  0.92769353])}"
      ]
     },
     "execution_count": 99,
     "metadata": {},
     "output_type": "execute_result"
    }
   ],
   "source": [
    "scores_2 = cross_validate(model_2, X, Y, cv=5, \n",
    "                          scoring=['accuracy','f1_macro','f1_weighted'], return_train_score=True)\n",
    "scores_2"
   ]
  },
  {
   "cell_type": "code",
   "execution_count": 100,
   "metadata": {},
   "outputs": [
    {
     "data": {
      "text/plain": [
       "{'fit_time': array([ 0.03390837,  0.03328466,  0.03326249,  0.03393173,  0.03512836]),\n",
       " 'score_time': array([ 0.02064252,  0.02106118,  0.02123833,  0.02173352,  0.02159667]),\n",
       " 'test_accuracy': array([ 0.47375848,  0.46991029,  0.47555526,  0.46167804,  0.46377688]),\n",
       " 'train_accuracy': array([ 0.45901901,  0.47895736,  0.47063271,  0.4735896 ,  0.46408501]),\n",
       " 'test_f1_macro': array([ 0.4362242 ,  0.44734195,  0.44179443,  0.43547022,  0.43443917]),\n",
       " 'train_f1_macro': array([ 0.42466062,  0.45342726,  0.44149826,  0.44473702,  0.4305061 ]),\n",
       " 'test_f1_weighted': array([ 0.43317666,  0.43831043,  0.43630369,  0.4301031 ,  0.42890916]),\n",
       " 'train_f1_weighted': array([ 0.42058158,  0.44621801,  0.43565222,  0.43868564,  0.42619217])}"
      ]
     },
     "execution_count": 100,
     "metadata": {},
     "output_type": "execute_result"
    }
   ],
   "source": [
    "scores_3 = cross_validate(model_3, X, Y, cv=5, \n",
    "                          scoring=['accuracy','f1_macro','f1_weighted'], return_train_score=True)\n",
    "scores_3"
   ]
  },
  {
   "cell_type": "code",
   "execution_count": 101,
   "metadata": {},
   "outputs": [
    {
     "data": {
      "text/plain": [
       "fit_time             542.326479\n",
       "score_time            23.128829\n",
       "test_accuracy         88.941236\n",
       "train_accuracy        92.844494\n",
       "test_f1_macro         90.033696\n",
       "train_f1_macro        93.708625\n",
       "test_f1_weighted      88.694607\n",
       "train_f1_weighted     92.804358\n",
       "dtype: float64"
      ]
     },
     "execution_count": 101,
     "metadata": {},
     "output_type": "execute_result"
    }
   ],
   "source": [
    "scores_df = pd.DataFrame(scores)\n",
    "scores_df.mean()*100"
   ]
  },
  {
   "cell_type": "code",
   "execution_count": 102,
   "metadata": {
    "scrolled": true
   },
   "outputs": [
    {
     "data": {
      "text/html": [
       "<div>\n",
       "<style scoped>\n",
       "    .dataframe tbody tr th:only-of-type {\n",
       "        vertical-align: middle;\n",
       "    }\n",
       "\n",
       "    .dataframe tbody tr th {\n",
       "        vertical-align: top;\n",
       "    }\n",
       "\n",
       "    .dataframe thead th {\n",
       "        text-align: right;\n",
       "    }\n",
       "</style>\n",
       "<table border=\"1\" class=\"dataframe\">\n",
       "  <thead>\n",
       "    <tr style=\"text-align: right;\">\n",
       "      <th></th>\n",
       "      <th>count</th>\n",
       "      <th>mean</th>\n",
       "      <th>std</th>\n",
       "      <th>min</th>\n",
       "      <th>25%</th>\n",
       "      <th>50%</th>\n",
       "      <th>75%</th>\n",
       "      <th>max</th>\n",
       "    </tr>\n",
       "  </thead>\n",
       "  <tbody>\n",
       "    <tr>\n",
       "      <th>fit_time</th>\n",
       "      <td>5.0</td>\n",
       "      <td>5.423265</td>\n",
       "      <td>0.230810</td>\n",
       "      <td>5.037233</td>\n",
       "      <td>5.393348</td>\n",
       "      <td>5.502294</td>\n",
       "      <td>5.582370</td>\n",
       "      <td>5.601079</td>\n",
       "    </tr>\n",
       "    <tr>\n",
       "      <th>score_time</th>\n",
       "      <td>5.0</td>\n",
       "      <td>0.231288</td>\n",
       "      <td>0.010745</td>\n",
       "      <td>0.218733</td>\n",
       "      <td>0.226930</td>\n",
       "      <td>0.229302</td>\n",
       "      <td>0.233574</td>\n",
       "      <td>0.247902</td>\n",
       "    </tr>\n",
       "    <tr>\n",
       "      <th>test_accuracy</th>\n",
       "      <td>5.0</td>\n",
       "      <td>0.889412</td>\n",
       "      <td>0.013462</td>\n",
       "      <td>0.874236</td>\n",
       "      <td>0.880141</td>\n",
       "      <td>0.889621</td>\n",
       "      <td>0.893955</td>\n",
       "      <td>0.909109</td>\n",
       "    </tr>\n",
       "    <tr>\n",
       "      <th>train_accuracy</th>\n",
       "      <td>5.0</td>\n",
       "      <td>0.928445</td>\n",
       "      <td>0.001510</td>\n",
       "      <td>0.926657</td>\n",
       "      <td>0.927405</td>\n",
       "      <td>0.928203</td>\n",
       "      <td>0.929791</td>\n",
       "      <td>0.930169</td>\n",
       "    </tr>\n",
       "    <tr>\n",
       "      <th>test_f1_macro</th>\n",
       "      <td>5.0</td>\n",
       "      <td>0.900337</td>\n",
       "      <td>0.013169</td>\n",
       "      <td>0.883235</td>\n",
       "      <td>0.893646</td>\n",
       "      <td>0.901602</td>\n",
       "      <td>0.904490</td>\n",
       "      <td>0.918712</td>\n",
       "    </tr>\n",
       "    <tr>\n",
       "      <th>train_f1_macro</th>\n",
       "      <td>5.0</td>\n",
       "      <td>0.937086</td>\n",
       "      <td>0.001374</td>\n",
       "      <td>0.935471</td>\n",
       "      <td>0.936118</td>\n",
       "      <td>0.936879</td>\n",
       "      <td>0.938310</td>\n",
       "      <td>0.938654</td>\n",
       "    </tr>\n",
       "    <tr>\n",
       "      <th>test_f1_weighted</th>\n",
       "      <td>5.0</td>\n",
       "      <td>0.886946</td>\n",
       "      <td>0.014594</td>\n",
       "      <td>0.868641</td>\n",
       "      <td>0.878781</td>\n",
       "      <td>0.888033</td>\n",
       "      <td>0.891675</td>\n",
       "      <td>0.907601</td>\n",
       "    </tr>\n",
       "    <tr>\n",
       "      <th>train_f1_weighted</th>\n",
       "      <td>5.0</td>\n",
       "      <td>0.928044</td>\n",
       "      <td>0.001550</td>\n",
       "      <td>0.926216</td>\n",
       "      <td>0.926961</td>\n",
       "      <td>0.927804</td>\n",
       "      <td>0.929424</td>\n",
       "      <td>0.929813</td>\n",
       "    </tr>\n",
       "  </tbody>\n",
       "</table>\n",
       "</div>"
      ],
      "text/plain": [
       "                   count      mean       std       min       25%       50%  \\\n",
       "fit_time             5.0  5.423265  0.230810  5.037233  5.393348  5.502294   \n",
       "score_time           5.0  0.231288  0.010745  0.218733  0.226930  0.229302   \n",
       "test_accuracy        5.0  0.889412  0.013462  0.874236  0.880141  0.889621   \n",
       "train_accuracy       5.0  0.928445  0.001510  0.926657  0.927405  0.928203   \n",
       "test_f1_macro        5.0  0.900337  0.013169  0.883235  0.893646  0.901602   \n",
       "train_f1_macro       5.0  0.937086  0.001374  0.935471  0.936118  0.936879   \n",
       "test_f1_weighted     5.0  0.886946  0.014594  0.868641  0.878781  0.888033   \n",
       "train_f1_weighted    5.0  0.928044  0.001550  0.926216  0.926961  0.927804   \n",
       "\n",
       "                        75%       max  \n",
       "fit_time           5.582370  5.601079  \n",
       "score_time         0.233574  0.247902  \n",
       "test_accuracy      0.893955  0.909109  \n",
       "train_accuracy     0.929791  0.930169  \n",
       "test_f1_macro      0.904490  0.918712  \n",
       "train_f1_macro     0.938310  0.938654  \n",
       "test_f1_weighted   0.891675  0.907601  \n",
       "train_f1_weighted  0.929424  0.929813  "
      ]
     },
     "execution_count": 102,
     "metadata": {},
     "output_type": "execute_result"
    }
   ],
   "source": [
    "scores_df.describe().transpose()"
   ]
  },
  {
   "cell_type": "code",
   "execution_count": 103,
   "metadata": {
    "scrolled": true
   },
   "outputs": [
    {
     "data": {
      "image/png": "[encoded data removed]",
      "text/plain": [
       "<matplotlib.figure.Figure at 0x7fbb85991da0>"
      ]
     },
     "metadata": {},
     "output_type": "display_data"
    }
   ],
   "source": [
    "sns.boxplot(scores['test_f1_macro'], palette='pastel');\n",
    "sns.stripplot(scores['test_f1_macro']);"
   ]
  },
  {
   "cell_type": "code",
   "execution_count": 104,
   "metadata": {
    "scrolled": true
   },
   "outputs": [
    {
     "data": {
      "image/png": "[encoded data removed]",
      "text/plain": [
       "<matplotlib.figure.Figure at 0x7fbb859a6390>"
      ]
     },
     "metadata": {},
     "output_type": "display_data"
    }
   ],
   "source": [
    "sns.violinplot(scores['test_f1_weighted'], palette='pastel');\n",
    "sns.stripplot(scores['test_f1_weighted']);"
   ]
  },
  {
   "cell_type": "code",
   "execution_count": 105,
   "metadata": {},
   "outputs": [
    {
     "data": {
      "text/plain": [
       "fit_time             140.279942\n",
       "score_time            25.899143\n",
       "test_accuracy         85.903031\n",
       "train_accuracy        92.638688\n",
       "test_f1_macro         87.200011\n",
       "train_f1_macro        93.531439\n",
       "test_f1_weighted      85.512512\n",
       "train_f1_weighted     92.599942\n",
       "dtype: float64"
      ]
     },
     "execution_count": 105,
     "metadata": {},
     "output_type": "execute_result"
    }
   ],
   "source": [
    "scores_2_df = pd.DataFrame(scores_2)\n",
    "scores_2_df.mean()*100"
   ]
  },
  {
   "cell_type": "code",
   "execution_count": 106,
   "metadata": {},
   "outputs": [
    {
     "data": {
      "text/html": [
       "<div>\n",
       "<style scoped>\n",
       "    .dataframe tbody tr th:only-of-type {\n",
       "        vertical-align: middle;\n",
       "    }\n",
       "\n",
       "    .dataframe tbody tr th {\n",
       "        vertical-align: top;\n",
       "    }\n",
       "\n",
       "    .dataframe thead th {\n",
       "        text-align: right;\n",
       "    }\n",
       "</style>\n",
       "<table border=\"1\" class=\"dataframe\">\n",
       "  <thead>\n",
       "    <tr style=\"text-align: right;\">\n",
       "      <th></th>\n",
       "      <th>count</th>\n",
       "      <th>mean</th>\n",
       "      <th>std</th>\n",
       "      <th>min</th>\n",
       "      <th>25%</th>\n",
       "      <th>50%</th>\n",
       "      <th>75%</th>\n",
       "      <th>max</th>\n",
       "    </tr>\n",
       "  </thead>\n",
       "  <tbody>\n",
       "    <tr>\n",
       "      <th>fit_time</th>\n",
       "      <td>5.0</td>\n",
       "      <td>1.402799</td>\n",
       "      <td>0.067668</td>\n",
       "      <td>1.332107</td>\n",
       "      <td>1.333660</td>\n",
       "      <td>1.426600</td>\n",
       "      <td>1.435914</td>\n",
       "      <td>1.485716</td>\n",
       "    </tr>\n",
       "    <tr>\n",
       "      <th>score_time</th>\n",
       "      <td>5.0</td>\n",
       "      <td>0.258991</td>\n",
       "      <td>0.035161</td>\n",
       "      <td>0.233970</td>\n",
       "      <td>0.237003</td>\n",
       "      <td>0.244199</td>\n",
       "      <td>0.260679</td>\n",
       "      <td>0.319107</td>\n",
       "    </tr>\n",
       "    <tr>\n",
       "      <th>test_accuracy</th>\n",
       "      <td>5.0</td>\n",
       "      <td>0.859030</td>\n",
       "      <td>0.004869</td>\n",
       "      <td>0.851656</td>\n",
       "      <td>0.857560</td>\n",
       "      <td>0.859548</td>\n",
       "      <td>0.861900</td>\n",
       "      <td>0.864487</td>\n",
       "    </tr>\n",
       "    <tr>\n",
       "      <th>train_accuracy</th>\n",
       "      <td>5.0</td>\n",
       "      <td>0.926387</td>\n",
       "      <td>0.001585</td>\n",
       "      <td>0.924683</td>\n",
       "      <td>0.925120</td>\n",
       "      <td>0.926061</td>\n",
       "      <td>0.928010</td>\n",
       "      <td>0.928061</td>\n",
       "    </tr>\n",
       "    <tr>\n",
       "      <th>test_f1_macro</th>\n",
       "      <td>5.0</td>\n",
       "      <td>0.872000</td>\n",
       "      <td>0.006179</td>\n",
       "      <td>0.861249</td>\n",
       "      <td>0.873008</td>\n",
       "      <td>0.874201</td>\n",
       "      <td>0.874584</td>\n",
       "      <td>0.876959</td>\n",
       "    </tr>\n",
       "    <tr>\n",
       "      <th>train_f1_macro</th>\n",
       "      <td>5.0</td>\n",
       "      <td>0.935314</td>\n",
       "      <td>0.001426</td>\n",
       "      <td>0.933764</td>\n",
       "      <td>0.934177</td>\n",
       "      <td>0.935046</td>\n",
       "      <td>0.936783</td>\n",
       "      <td>0.936802</td>\n",
       "    </tr>\n",
       "    <tr>\n",
       "      <th>test_f1_weighted</th>\n",
       "      <td>5.0</td>\n",
       "      <td>0.855125</td>\n",
       "      <td>0.006415</td>\n",
       "      <td>0.844177</td>\n",
       "      <td>0.855497</td>\n",
       "      <td>0.857074</td>\n",
       "      <td>0.858099</td>\n",
       "      <td>0.860778</td>\n",
       "    </tr>\n",
       "    <tr>\n",
       "      <th>train_f1_weighted</th>\n",
       "      <td>5.0</td>\n",
       "      <td>0.925999</td>\n",
       "      <td>0.001616</td>\n",
       "      <td>0.924251</td>\n",
       "      <td>0.924710</td>\n",
       "      <td>0.925684</td>\n",
       "      <td>0.927659</td>\n",
       "      <td>0.927694</td>\n",
       "    </tr>\n",
       "  </tbody>\n",
       "</table>\n",
       "</div>"
      ],
      "text/plain": [
       "                   count      mean       std       min       25%       50%  \\\n",
       "fit_time             5.0  1.402799  0.067668  1.332107  1.333660  1.426600   \n",
       "score_time           5.0  0.258991  0.035161  0.233970  0.237003  0.244199   \n",
       "test_accuracy        5.0  0.859030  0.004869  0.851656  0.857560  0.859548   \n",
       "train_accuracy       5.0  0.926387  0.001585  0.924683  0.925120  0.926061   \n",
       "test_f1_macro        5.0  0.872000  0.006179  0.861249  0.873008  0.874201   \n",
       "train_f1_macro       5.0  0.935314  0.001426  0.933764  0.934177  0.935046   \n",
       "test_f1_weighted     5.0  0.855125  0.006415  0.844177  0.855497  0.857074   \n",
       "train_f1_weighted    5.0  0.925999  0.001616  0.924251  0.924710  0.925684   \n",
       "\n",
       "                        75%       max  \n",
       "fit_time           1.435914  1.485716  \n",
       "score_time         0.260679  0.319107  \n",
       "test_accuracy      0.861900  0.864487  \n",
       "train_accuracy     0.928010  0.928061  \n",
       "test_f1_macro      0.874584  0.876959  \n",
       "train_f1_macro     0.936783  0.936802  \n",
       "test_f1_weighted   0.858099  0.860778  \n",
       "train_f1_weighted  0.927659  0.927694  "
      ]
     },
     "execution_count": 106,
     "metadata": {},
     "output_type": "execute_result"
    }
   ],
   "source": [
    "scores_2_df.describe().transpose()"
   ]
  },
  {
   "cell_type": "code",
   "execution_count": 107,
   "metadata": {},
   "outputs": [
    {
     "data": {
      "image/png": "[encoded data removed]",
      "text/plain": [
       "<matplotlib.figure.Figure at 0x7fbb85956940>"
      ]
     },
     "metadata": {},
     "output_type": "display_data"
    }
   ],
   "source": [
    "sns.boxplot(scores_2['test_f1_macro'], palette='pastel');\n",
    "sns.stripplot(scores_2['test_f1_macro']);"
   ]
  },
  {
   "cell_type": "code",
   "execution_count": 108,
   "metadata": {},
   "outputs": [
    {
     "data": {
      "image/png": "[encoded data removed]",
      "text/plain": [
       "<matplotlib.figure.Figure at 0x7fbb81c03e10>"
      ]
     },
     "metadata": {},
     "output_type": "display_data"
    }
   ],
   "source": [
    "sns.violinplot(scores_2['test_f1_weighted'], palette='pastel');\n",
    "sns.stripplot(scores_2['test_f1_weighted']);"
   ]
  },
  {
   "cell_type": "code",
   "execution_count": 109,
   "metadata": {},
   "outputs": [
    {
     "data": {
      "text/plain": [
       "fit_time              3.390312\n",
       "score_time            2.125444\n",
       "test_accuracy        46.893579\n",
       "train_accuracy       46.925674\n",
       "test_f1_macro        43.905399\n",
       "train_f1_macro       43.896585\n",
       "test_f1_weighted     43.336061\n",
       "train_f1_weighted    43.346592\n",
       "dtype: float64"
      ]
     },
     "execution_count": 109,
     "metadata": {},
     "output_type": "execute_result"
    }
   ],
   "source": [
    "scores_3_df = pd.DataFrame(scores_3)\n",
    "scores_3_df.mean()*100"
   ]
  },
  {
   "cell_type": "code",
   "execution_count": 114,
   "metadata": {},
   "outputs": [
    {
     "data": {
      "text/html": [
       "<div>\n",
       "<style scoped>\n",
       "    .dataframe tbody tr th:only-of-type {\n",
       "        vertical-align: middle;\n",
       "    }\n",
       "\n",
       "    .dataframe tbody tr th {\n",
       "        vertical-align: top;\n",
       "    }\n",
       "\n",
       "    .dataframe thead th {\n",
       "        text-align: right;\n",
       "    }\n",
       "</style>\n",
       "<table border=\"1\" class=\"dataframe\">\n",
       "  <thead>\n",
       "    <tr style=\"text-align: right;\">\n",
       "      <th></th>\n",
       "      <th>count</th>\n",
       "      <th>mean</th>\n",
       "      <th>std</th>\n",
       "      <th>min</th>\n",
       "      <th>25%</th>\n",
       "      <th>50%</th>\n",
       "      <th>75%</th>\n",
       "      <th>max</th>\n",
       "    </tr>\n",
       "  </thead>\n",
       "  <tbody>\n",
       "    <tr>\n",
       "      <th>fit_time</th>\n",
       "      <td>5.0</td>\n",
       "      <td>0.033903</td>\n",
       "      <td>0.000757</td>\n",
       "      <td>0.033262</td>\n",
       "      <td>0.033285</td>\n",
       "      <td>0.033908</td>\n",
       "      <td>0.033932</td>\n",
       "      <td>0.035128</td>\n",
       "    </tr>\n",
       "    <tr>\n",
       "      <th>score_time</th>\n",
       "      <td>5.0</td>\n",
       "      <td>0.021254</td>\n",
       "      <td>0.000436</td>\n",
       "      <td>0.020643</td>\n",
       "      <td>0.021061</td>\n",
       "      <td>0.021238</td>\n",
       "      <td>0.021597</td>\n",
       "      <td>0.021734</td>\n",
       "    </tr>\n",
       "    <tr>\n",
       "      <th>test_accuracy</th>\n",
       "      <td>5.0</td>\n",
       "      <td>0.468936</td>\n",
       "      <td>0.006069</td>\n",
       "      <td>0.461678</td>\n",
       "      <td>0.463777</td>\n",
       "      <td>0.469910</td>\n",
       "      <td>0.473758</td>\n",
       "      <td>0.475555</td>\n",
       "    </tr>\n",
       "    <tr>\n",
       "      <th>train_accuracy</th>\n",
       "      <td>5.0</td>\n",
       "      <td>0.469257</td>\n",
       "      <td>0.007847</td>\n",
       "      <td>0.459019</td>\n",
       "      <td>0.464085</td>\n",
       "      <td>0.470633</td>\n",
       "      <td>0.473590</td>\n",
       "      <td>0.478957</td>\n",
       "    </tr>\n",
       "    <tr>\n",
       "      <th>test_f1_macro</th>\n",
       "      <td>5.0</td>\n",
       "      <td>0.439054</td>\n",
       "      <td>0.005439</td>\n",
       "      <td>0.434439</td>\n",
       "      <td>0.435470</td>\n",
       "      <td>0.436224</td>\n",
       "      <td>0.441794</td>\n",
       "      <td>0.447342</td>\n",
       "    </tr>\n",
       "    <tr>\n",
       "      <th>train_f1_macro</th>\n",
       "      <td>5.0</td>\n",
       "      <td>0.438966</td>\n",
       "      <td>0.011457</td>\n",
       "      <td>0.424661</td>\n",
       "      <td>0.430506</td>\n",
       "      <td>0.441498</td>\n",
       "      <td>0.444737</td>\n",
       "      <td>0.453427</td>\n",
       "    </tr>\n",
       "    <tr>\n",
       "      <th>test_f1_weighted</th>\n",
       "      <td>5.0</td>\n",
       "      <td>0.433361</td>\n",
       "      <td>0.003988</td>\n",
       "      <td>0.428909</td>\n",
       "      <td>0.430103</td>\n",
       "      <td>0.433177</td>\n",
       "      <td>0.436304</td>\n",
       "      <td>0.438310</td>\n",
       "    </tr>\n",
       "    <tr>\n",
       "      <th>train_f1_weighted</th>\n",
       "      <td>5.0</td>\n",
       "      <td>0.433466</td>\n",
       "      <td>0.010168</td>\n",
       "      <td>0.420582</td>\n",
       "      <td>0.426192</td>\n",
       "      <td>0.435652</td>\n",
       "      <td>0.438686</td>\n",
       "      <td>0.446218</td>\n",
       "    </tr>\n",
       "  </tbody>\n",
       "</table>\n",
       "</div>"
      ],
      "text/plain": [
       "                   count      mean       std       min       25%       50%  \\\n",
       "fit_time             5.0  0.033903  0.000757  0.033262  0.033285  0.033908   \n",
       "score_time           5.0  0.021254  0.000436  0.020643  0.021061  0.021238   \n",
       "test_accuracy        5.0  0.468936  0.006069  0.461678  0.463777  0.469910   \n",
       "train_accuracy       5.0  0.469257  0.007847  0.459019  0.464085  0.470633   \n",
       "test_f1_macro        5.0  0.439054  0.005439  0.434439  0.435470  0.436224   \n",
       "train_f1_macro       5.0  0.438966  0.011457  0.424661  0.430506  0.441498   \n",
       "test_f1_weighted     5.0  0.433361  0.003988  0.428909  0.430103  0.433177   \n",
       "train_f1_weighted    5.0  0.433466  0.010168  0.420582  0.426192  0.435652   \n",
       "\n",
       "                        75%       max  \n",
       "fit_time           0.033932  0.035128  \n",
       "score_time         0.021597  0.021734  \n",
       "test_accuracy      0.473758  0.475555  \n",
       "train_accuracy     0.473590  0.478957  \n",
       "test_f1_macro      0.441794  0.447342  \n",
       "train_f1_macro     0.444737  0.453427  \n",
       "test_f1_weighted   0.436304  0.438310  \n",
       "train_f1_weighted  0.438686  0.446218  "
      ]
     },
     "execution_count": 114,
     "metadata": {},
     "output_type": "execute_result"
    }
   ],
   "source": [
    "scores_3_df.describe().transpose()"
   ]
  },
  {
   "cell_type": "code",
   "execution_count": 115,
   "metadata": {},
   "outputs": [
    {
     "data": {
      "image/png": "[encoded data removed]",
      "text/plain": [
       "<matplotlib.figure.Figure at 0x7fbb81c43240>"
      ]
     },
     "metadata": {},
     "output_type": "display_data"
    }
   ],
   "source": [
    "sns.boxplot(scores_3['test_f1_macro'], palette='pastel');\n",
    "sns.stripplot(scores_3['test_f1_macro']);"
   ]
  },
  {
   "cell_type": "code",
   "execution_count": 116,
   "metadata": {},
   "outputs": [
    {
     "data": {
      "image/png": "[encoded data removed]",
      "text/plain": [
       "<matplotlib.figure.Figure at 0x7fbb85aff5f8>"
      ]
     },
     "metadata": {},
     "output_type": "display_data"
    }
   ],
   "source": [
    "sns.violinplot(scores_3['test_f1_weighted'], palette='pastel');\n",
    "sns.stripplot(scores_3['test_f1_weighted']);"
   ]
  },
  {
   "cell_type": "markdown",
   "metadata": {},
   "source": [
    "## E) Final Considerations"
   ]
  },
  {
   "cell_type": "markdown",
   "metadata": {},
   "source": [
    "In this session the scores will be discussed in order to analyze the obtained F1 results, benchmarking it in order to a final conclusion."
   ]
  },
  {
   "cell_type": "markdown",
   "metadata": {},
   "source": [
    "## E.1) Proposal considerations\n",
    "\n",
    "Analysing the F1 scores of model 1 (the Random forest Classifier with the PCA Analysis) and the model 2 (The Random Forest Classifier without the PCA Analysis), it is possible to say that they both have overall results. However, the model 1 presents more accuracy over the results than the non reduced model (model 2).Comparing the model 1 and 2 with the model 3 (which is the Naive Bayes classifier), the results are much more accurate as expected because of the Random forest classifier expected better result with multiple attributes."
   ]
  },
  {
   "cell_type": "markdown",
   "metadata": {},
   "source": [
    "## E.2) Future work"
   ]
  },
  {
   "cell_type": "markdown",
   "metadata": {},
   "source": [
    "For Future work, it will be very interessting to test other models like the SVC (Support Vector Classifier) as it is a problem that consider multiple variables to the estimator. It was considered but removed from the study the usage of SVC classifier due to machine limitation. It was used the Udacity's embedded workspace for this implementation, thus it wasn't possible to test different machine specifications. Another Structure that could be tested is multiple pipelines in a way to refine the results, yet they presented a good ratio."
   ]
  },
  {
   "cell_type": "code",
   "execution_count": null,
   "metadata": {},
   "outputs": [],
   "source": []
  }
 ],
 "metadata": {
  "kernelspec": {
   "display_name": "Python 3",
   "language": "python",
   "name": "python3"
  },
  "language_info": {
   "codemirror_mode": {
    "name": "ipython",
    "version": 3
   },
   "file_extension": ".py",
   "mimetype": "text/x-python",
   "name": "python",
   "nbconvert_exporter": "python",
   "pygments_lexer": "ipython3",
   "version": "3.6.3"
  }
 },
 "nbformat": 4,
 "nbformat_minor": 2
}
